{
 "cells": [
  {
   "cell_type": "code",
   "execution_count": 1,
   "id": "1b3f1223",
   "metadata": {},
   "outputs": [],
   "source": [
    "# Basic Python"
   ]
  },
  {
   "cell_type": "code",
   "execution_count": 2,
   "id": "b49e6814",
   "metadata": {},
   "outputs": [
    {
     "data": {
      "text/plain": [
       "'Hello World'"
      ]
     },
     "execution_count": 2,
     "metadata": {},
     "output_type": "execute_result"
    }
   ],
   "source": [
    "'''In Order to Print Something'''\n",
    "'Hello World'"
   ]
  },
  {
   "cell_type": "code",
   "execution_count": 3,
   "id": "a93cf36c",
   "metadata": {},
   "outputs": [
    {
     "data": {
      "text/plain": [
       "'Hello World'"
      ]
     },
     "execution_count": 3,
     "metadata": {},
     "output_type": "execute_result"
    }
   ],
   "source": [
    "'Hello World' #In order to run, press shift+enter/Run option at the top"
   ]
  },
  {
   "cell_type": "code",
   "execution_count": 4,
   "id": "8902303a",
   "metadata": {},
   "outputs": [
    {
     "data": {
      "text/plain": [
       "'In order to run all the programs at a time, go to Kernel option at the top and choose Restart and Run All'"
      ]
     },
     "execution_count": 4,
     "metadata": {},
     "output_type": "execute_result"
    }
   ],
   "source": [
    "'''In order to run all the programs at a time, go to Kernel option at the top and choose Restart and Run All'''\n"
   ]
  },
  {
   "cell_type": "markdown",
   "id": "0f940ffc",
   "metadata": {},
   "source": [
    "# Output Function"
   ]
  },
  {
   "cell_type": "code",
   "execution_count": 5,
   "id": "c980d04c",
   "metadata": {},
   "outputs": [
    {
     "name": "stdout",
     "output_type": "stream",
     "text": [
      "Hello World\n"
     ]
    }
   ],
   "source": [
    "print('Hello World')"
   ]
  },
  {
   "cell_type": "code",
   "execution_count": 6,
   "id": "3aceb9d1",
   "metadata": {},
   "outputs": [
    {
     "name": "stdout",
     "output_type": "stream",
     "text": [
      "Data Science\n"
     ]
    }
   ],
   "source": [
    "print(\"Data Science\")"
   ]
  },
  {
   "cell_type": "code",
   "execution_count": 7,
   "id": "3c24cb39",
   "metadata": {},
   "outputs": [
    {
     "name": "stdout",
     "output_type": "stream",
     "text": [
      "Hello World Welcome to 60 days of python\n"
     ]
    }
   ],
   "source": [
    "print('Hello World','Welcome to 60 days of python')"
   ]
  },
  {
   "cell_type": "code",
   "execution_count": 8,
   "id": "ad59cf47",
   "metadata": {},
   "outputs": [
    {
     "name": "stdout",
     "output_type": "stream",
     "text": [
      "Hello World & Welcome to 60 days of python*"
     ]
    }
   ],
   "source": [
    "'''Inside print function, seperation betwn 2 values is set as space and end is set as \\n by default, We can change that'''\n",
    "\n",
    "print('Hello World','Welcome to 60 days of python', sep = ' & ', end = '*') #shift+tab"
   ]
  },
  {
   "cell_type": "markdown",
   "id": "e128b4e8",
   "metadata": {},
   "source": [
    "# Variables In Python"
   ]
  },
  {
   "cell_type": "code",
   "execution_count": 9,
   "id": "b9f3b9db",
   "metadata": {},
   "outputs": [
    {
     "name": "stdout",
     "output_type": "stream",
     "text": [
      "Hello World\n"
     ]
    }
   ],
   "source": [
    "Var = 'Hello World'\n",
    "print(Var)"
   ]
  },
  {
   "cell_type": "code",
   "execution_count": 10,
   "id": "f9964d95",
   "metadata": {},
   "outputs": [
    {
     "name": "stdout",
     "output_type": "stream",
     "text": [
      "Var\n"
     ]
    }
   ],
   "source": [
    "Var = 'Hello World'\n",
    "print('Var')"
   ]
  },
  {
   "cell_type": "code",
   "execution_count": 11,
   "id": "0dc13864",
   "metadata": {},
   "outputs": [
    {
     "name": "stdout",
     "output_type": "stream",
     "text": [
      "My sentence is Hello World\n"
     ]
    }
   ],
   "source": [
    "Var = 'Hello World'\n",
    "print('My sentence is '+ Var)"
   ]
  },
  {
   "cell_type": "code",
   "execution_count": 12,
   "id": "f68fac06",
   "metadata": {},
   "outputs": [
    {
     "data": {
      "text/plain": [
       "1779599505520"
      ]
     },
     "execution_count": 12,
     "metadata": {},
     "output_type": "execute_result"
    }
   ],
   "source": [
    "'''In order to check the location of any data inside of a memory, use id()'''\n",
    "id(Var)"
   ]
  },
  {
   "cell_type": "code",
   "execution_count": 13,
   "id": "dc928907",
   "metadata": {},
   "outputs": [
    {
     "data": {
      "text/plain": [
       "60"
      ]
     },
     "execution_count": 13,
     "metadata": {},
     "output_type": "execute_result"
    }
   ],
   "source": [
    "'''How much memory a data takes '''\n",
    "\n",
    "import sys\n",
    "sys.getsizeof(Var)"
   ]
  },
  {
   "cell_type": "code",
   "execution_count": 14,
   "id": "7d9c3915",
   "metadata": {},
   "outputs": [
    {
     "data": {
      "text/plain": [
       "'A variable name must start with a character/underscore\\nA variable name cannot start with a number\\nIt contains only alpha-numeric characters like (A-Z),(0-9)_\\nX,x _x are three different variables which is called case-sensitive'"
      ]
     },
     "execution_count": 14,
     "metadata": {},
     "output_type": "execute_result"
    }
   ],
   "source": [
    "'''A variable name must start with a character/underscore\n",
    "A variable name cannot start with a number\n",
    "It contains only alpha-numeric characters like (A-Z),(0-9)_\n",
    "X,x _x are three different variables which is called case-sensitive'''"
   ]
  },
  {
   "cell_type": "code",
   "execution_count": 15,
   "id": "fb647306",
   "metadata": {},
   "outputs": [],
   "source": [
    "x = 100"
   ]
  },
  {
   "cell_type": "code",
   "execution_count": 16,
   "id": "28ddfef2",
   "metadata": {},
   "outputs": [
    {
     "data": {
      "text/plain": [
       "100"
      ]
     },
     "execution_count": 16,
     "metadata": {},
     "output_type": "execute_result"
    }
   ],
   "source": [
    "x"
   ]
  },
  {
   "cell_type": "code",
   "execution_count": 17,
   "id": "18e906f2",
   "metadata": {},
   "outputs": [],
   "source": [
    "y = 100"
   ]
  },
  {
   "cell_type": "code",
   "execution_count": 18,
   "id": "fedbbc1f",
   "metadata": {},
   "outputs": [
    {
     "data": {
      "text/plain": [
       "100"
      ]
     },
     "execution_count": 18,
     "metadata": {},
     "output_type": "execute_result"
    }
   ],
   "source": [
    "y"
   ]
  },
  {
   "cell_type": "code",
   "execution_count": 19,
   "id": "fdfae4ab",
   "metadata": {},
   "outputs": [
    {
     "data": {
      "text/plain": [
       "140722398180240"
      ]
     },
     "execution_count": 19,
     "metadata": {},
     "output_type": "execute_result"
    }
   ],
   "source": [
    "'''Two different variables but same address'''\n",
    "id(x) # x and y have same address"
   ]
  },
  {
   "cell_type": "code",
   "execution_count": 20,
   "id": "fa2cd009",
   "metadata": {},
   "outputs": [
    {
     "data": {
      "text/plain": [
       "140722398180240"
      ]
     },
     "execution_count": 20,
     "metadata": {},
     "output_type": "execute_result"
    }
   ],
   "source": [
    "id(y)"
   ]
  },
  {
   "cell_type": "code",
   "execution_count": 21,
   "id": "52556fbb",
   "metadata": {},
   "outputs": [
    {
     "data": {
      "text/plain": [
       "1779599317808"
      ]
     },
     "execution_count": 21,
     "metadata": {},
     "output_type": "execute_result"
    }
   ],
   "source": [
    "'''There can be exception if it exceeds three digits'''\n",
    "\n",
    "x = 1000\n",
    "y = 1000\n",
    "id(x)"
   ]
  },
  {
   "cell_type": "code",
   "execution_count": 22,
   "id": "51fc346d",
   "metadata": {},
   "outputs": [
    {
     "data": {
      "text/plain": [
       "1779599317872"
      ]
     },
     "execution_count": 22,
     "metadata": {},
     "output_type": "execute_result"
    }
   ],
   "source": [
    "id(y)"
   ]
  },
  {
   "cell_type": "code",
   "execution_count": 23,
   "id": "10d68ed1",
   "metadata": {},
   "outputs": [
    {
     "data": {
      "text/plain": [
       "'Princes Diana'"
      ]
     },
     "execution_count": 23,
     "metadata": {},
     "output_type": "execute_result"
    }
   ],
   "source": [
    "name = 'Princes Diana'\n",
    "name"
   ]
  },
  {
   "cell_type": "code",
   "execution_count": 25,
   "id": "252463e1",
   "metadata": {},
   "outputs": [],
   "source": [
    "Var_2 = 100"
   ]
  },
  {
   "cell_type": "code",
   "execution_count": 26,
   "id": "d85e892f",
   "metadata": {},
   "outputs": [
    {
     "data": {
      "text/plain": [
       "8"
      ]
     },
     "execution_count": 26,
     "metadata": {},
     "output_type": "execute_result"
    }
   ],
   "source": [
    "10-2 "
   ]
  },
  {
   "cell_type": "code",
   "execution_count": 27,
   "id": "ebe1fb09",
   "metadata": {},
   "outputs": [],
   "source": [
    "Var_2 = 100"
   ]
  },
  {
   "cell_type": "markdown",
   "id": "f802a95e",
   "metadata": {},
   "source": [
    "# Multiple Variables"
   ]
  },
  {
   "cell_type": "code",
   "execution_count": 28,
   "id": "b46a29dc",
   "metadata": {},
   "outputs": [
    {
     "data": {
      "text/plain": [
       "10"
      ]
     },
     "execution_count": 28,
     "metadata": {},
     "output_type": "execute_result"
    }
   ],
   "source": [
    "x,y,z = 10,100,1000\n",
    "x"
   ]
  },
  {
   "cell_type": "code",
   "execution_count": 29,
   "id": "946f130a",
   "metadata": {},
   "outputs": [
    {
     "data": {
      "text/plain": [
       "100"
      ]
     },
     "execution_count": 29,
     "metadata": {},
     "output_type": "execute_result"
    }
   ],
   "source": [
    "y"
   ]
  },
  {
   "cell_type": "code",
   "execution_count": 30,
   "id": "b3cc42e9",
   "metadata": {},
   "outputs": [
    {
     "data": {
      "text/plain": [
       "1000"
      ]
     },
     "execution_count": 30,
     "metadata": {},
     "output_type": "execute_result"
    }
   ],
   "source": [
    "z"
   ]
  },
  {
   "cell_type": "code",
   "execution_count": 32,
   "id": "43f03c6d",
   "metadata": {},
   "outputs": [],
   "source": [
    "x,y,z = 10,100,104 #two sides of ratio must be same"
   ]
  },
  {
   "cell_type": "code",
   "execution_count": null,
   "id": "c91168f7",
   "metadata": {},
   "outputs": [],
   "source": [
    "x,y,z = 10,1000,0"
   ]
  },
  {
   "cell_type": "code",
   "execution_count": 33,
   "id": "23a82e1a",
   "metadata": {},
   "outputs": [],
   "source": [
    "x,y,z = 10,1000,'Diana'"
   ]
  },
  {
   "cell_type": "code",
   "execution_count": 36,
   "id": "79d576b9",
   "metadata": {},
   "outputs": [
    {
     "data": {
      "text/plain": [
       "'Diana'"
      ]
     },
     "execution_count": 36,
     "metadata": {},
     "output_type": "execute_result"
    }
   ],
   "source": [
    "z"
   ]
  },
  {
   "cell_type": "markdown",
   "id": "eee78b79",
   "metadata": {},
   "source": [
    "# Case-Sensitive"
   ]
  },
  {
   "cell_type": "code",
   "execution_count": 37,
   "id": "56552773",
   "metadata": {},
   "outputs": [
    {
     "data": {
      "text/plain": [
       "100"
      ]
     },
     "execution_count": 37,
     "metadata": {},
     "output_type": "execute_result"
    }
   ],
   "source": [
    "Var_2"
   ]
  },
  {
   "cell_type": "code",
   "execution_count": 38,
   "id": "426f9fbc",
   "metadata": {},
   "outputs": [
    {
     "data": {
      "text/plain": [
       "100"
      ]
     },
     "execution_count": 38,
     "metadata": {},
     "output_type": "execute_result"
    }
   ],
   "source": [
    "Var_2"
   ]
  },
  {
   "cell_type": "code",
   "execution_count": 39,
   "id": "18ef5f01",
   "metadata": {},
   "outputs": [],
   "source": [
    "X = 1\n",
    "x = 2"
   ]
  },
  {
   "cell_type": "code",
   "execution_count": 40,
   "id": "f50c71d4",
   "metadata": {},
   "outputs": [
    {
     "data": {
      "text/plain": [
       "2"
      ]
     },
     "execution_count": 40,
     "metadata": {},
     "output_type": "execute_result"
    }
   ],
   "source": [
    "x"
   ]
  },
  {
   "cell_type": "code",
   "execution_count": 41,
   "id": "4bde9e25",
   "metadata": {},
   "outputs": [
    {
     "data": {
      "text/plain": [
       "1"
      ]
     },
     "execution_count": 41,
     "metadata": {},
     "output_type": "execute_result"
    }
   ],
   "source": [
    "X"
   ]
  },
  {
   "cell_type": "code",
   "execution_count": 42,
   "id": "26a3b102",
   "metadata": {},
   "outputs": [],
   "source": [
    "#Multiple Word Variable Name\n",
    "\n",
    "varsity_id = 1000  # snake case variable"
   ]
  },
  {
   "cell_type": "code",
   "execution_count": 43,
   "id": "0d17e0a2",
   "metadata": {},
   "outputs": [
    {
     "data": {
      "text/plain": [
       "1000"
      ]
     },
     "execution_count": 43,
     "metadata": {},
     "output_type": "execute_result"
    }
   ],
   "source": [
    "varsity_id"
   ]
  },
  {
   "cell_type": "markdown",
   "id": "3f0b4b1c",
   "metadata": {},
   "source": [
    "# Local vs Global"
   ]
  },
  {
   "cell_type": "code",
   "execution_count": 44,
   "id": "b3b83874",
   "metadata": {},
   "outputs": [
    {
     "name": "stdout",
     "output_type": "stream",
     "text": [
      "My number is :  1000\n"
     ]
    }
   ],
   "source": [
    "x = 1000 #global variable\n",
    "\n",
    "def func1():\n",
    "    print('My number is : ', x)\n",
    "func1()"
   ]
  },
  {
   "cell_type": "code",
   "execution_count": 45,
   "id": "8687fb4b",
   "metadata": {},
   "outputs": [
    {
     "name": "stdout",
     "output_type": "stream",
     "text": [
      "My number is :  500\n"
     ]
    }
   ],
   "source": [
    "x = 1000\n",
    "\n",
    "def func1():\n",
    "    x = 500  #Local variable\n",
    "    print('My number is : ', x)\n",
    "func1()"
   ]
  },
  {
   "cell_type": "code",
   "execution_count": 46,
   "id": "7510c52b",
   "metadata": {},
   "outputs": [
    {
     "name": "stdout",
     "output_type": "stream",
     "text": [
      "My number is : 500\n",
      "My number is :  1000\n"
     ]
    }
   ],
   "source": [
    "x = 1000\n",
    "\n",
    "def func1():\n",
    "    x = 500\n",
    "    print('My number is :', x)\n",
    "func1()\n",
    "print('My number is : ',x)"
   ]
  },
  {
   "cell_type": "code",
   "execution_count": 47,
   "id": "98bca733",
   "metadata": {},
   "outputs": [
    {
     "name": "stdout",
     "output_type": "stream",
     "text": [
      "My number is : 500\n",
      "My number is :  1000\n"
     ]
    }
   ],
   "source": [
    "def func1():   #As x is a global variable and it was declared before in this file so there shows no error.In new file,error shows\n",
    "    x = 500\n",
    "    print('My number is :', x)\n",
    "func1()\n",
    "print('My number is : ',x)"
   ]
  },
  {
   "cell_type": "markdown",
   "id": "7f85eff5",
   "metadata": {},
   "source": [
    "# Convert a local variable into global"
   ]
  },
  {
   "cell_type": "code",
   "execution_count": 48,
   "id": "489699b1",
   "metadata": {},
   "outputs": [
    {
     "name": "stdout",
     "output_type": "stream",
     "text": [
      "My number is : 500\n",
      "My number is : 500\n"
     ]
    }
   ],
   "source": [
    "def func1():\n",
    "    global x\n",
    "    x = 500\n",
    "    print('My number is :',x)\n",
    "func1()\n",
    "print('My number is :',x)"
   ]
  },
  {
   "cell_type": "markdown",
   "id": "eb8e153b",
   "metadata": {},
   "source": [
    "# Day 03 - 60 Days of Python"
   ]
  },
  {
   "cell_type": "code",
   "execution_count": 49,
   "id": "8042bb90",
   "metadata": {},
   "outputs": [
    {
     "data": {
      "text/plain": [
       "str"
      ]
     },
     "execution_count": 49,
     "metadata": {},
     "output_type": "execute_result"
    }
   ],
   "source": [
    "data = 'data science is fun'\n",
    "type(data)"
   ]
  },
  {
   "cell_type": "code",
   "execution_count": 51,
   "id": "5f0f8b73",
   "metadata": {},
   "outputs": [
    {
     "name": "stdout",
     "output_type": "stream",
     "text": [
      "12\n"
     ]
    }
   ],
   "source": [
    "data = input()"
   ]
  },
  {
   "cell_type": "code",
   "execution_count": 52,
   "id": "6b30a849",
   "metadata": {},
   "outputs": [
    {
     "data": {
      "text/plain": [
       "str"
      ]
     },
     "execution_count": 52,
     "metadata": {},
     "output_type": "execute_result"
    }
   ],
   "source": [
    "type(data)"
   ]
  },
  {
   "cell_type": "code",
   "execution_count": 53,
   "id": "37d2166b",
   "metadata": {},
   "outputs": [
    {
     "name": "stdout",
     "output_type": "stream",
     "text": [
      "imran\n"
     ]
    }
   ],
   "source": [
    "data = input()"
   ]
  },
  {
   "cell_type": "code",
   "execution_count": 54,
   "id": "fdc1509e",
   "metadata": {},
   "outputs": [
    {
     "data": {
      "text/plain": [
       "str"
      ]
     },
     "execution_count": 54,
     "metadata": {},
     "output_type": "execute_result"
    }
   ],
   "source": [
    "type(data)"
   ]
  },
  {
   "cell_type": "code",
   "execution_count": 55,
   "id": "809e4ad0",
   "metadata": {},
   "outputs": [
    {
     "name": "stdout",
     "output_type": "stream",
     "text": [
      "1\n",
      "2\n"
     ]
    }
   ],
   "source": [
    "x = input()\n",
    "y = input()"
   ]
  },
  {
   "cell_type": "code",
   "execution_count": 56,
   "id": "407e7436",
   "metadata": {},
   "outputs": [
    {
     "data": {
      "text/plain": [
       "'12'"
      ]
     },
     "execution_count": 56,
     "metadata": {},
     "output_type": "execute_result"
    }
   ],
   "source": [
    "x+y"
   ]
  },
  {
   "cell_type": "code",
   "execution_count": 57,
   "id": "a74b2496",
   "metadata": {},
   "outputs": [
    {
     "data": {
      "text/plain": [
       "str"
      ]
     },
     "execution_count": 57,
     "metadata": {},
     "output_type": "execute_result"
    }
   ],
   "source": [
    "type(x)    #any type of input will be taken as integer by default"
   ]
  },
  {
   "cell_type": "code",
   "execution_count": 58,
   "id": "934494d6",
   "metadata": {},
   "outputs": [
    {
     "data": {
      "text/plain": [
       "str"
      ]
     },
     "execution_count": 58,
     "metadata": {},
     "output_type": "execute_result"
    }
   ],
   "source": [
    "type(y)"
   ]
  },
  {
   "cell_type": "code",
   "execution_count": 59,
   "id": "a6427573",
   "metadata": {},
   "outputs": [],
   "source": [
    "x = int(x)\n",
    "y = int(y)"
   ]
  },
  {
   "cell_type": "code",
   "execution_count": 60,
   "id": "2051bae5",
   "metadata": {},
   "outputs": [
    {
     "data": {
      "text/plain": [
       "3"
      ]
     },
     "execution_count": 60,
     "metadata": {},
     "output_type": "execute_result"
    }
   ],
   "source": [
    "x+y"
   ]
  },
  {
   "cell_type": "code",
   "execution_count": 61,
   "id": "5247c6de",
   "metadata": {},
   "outputs": [
    {
     "data": {
      "text/plain": [
       "int"
      ]
     },
     "execution_count": 61,
     "metadata": {},
     "output_type": "execute_result"
    }
   ],
   "source": [
    "type(x)"
   ]
  },
  {
   "cell_type": "code",
   "execution_count": 62,
   "id": "0cd1db25",
   "metadata": {},
   "outputs": [
    {
     "name": "stdout",
     "output_type": "stream",
     "text": [
      "Enter your first number: 12\n"
     ]
    }
   ],
   "source": [
    "x = int(input(\"Enter your first number: \"))"
   ]
  },
  {
   "cell_type": "code",
   "execution_count": 63,
   "id": "e6b948a5",
   "metadata": {},
   "outputs": [
    {
     "name": "stdout",
     "output_type": "stream",
     "text": [
      "Enter your second number: 23\n"
     ]
    }
   ],
   "source": [
    "y = int(input(\"Enter your second number: \"))"
   ]
  },
  {
   "cell_type": "code",
   "execution_count": 64,
   "id": "f4eb01ba",
   "metadata": {},
   "outputs": [
    {
     "name": "stdout",
     "output_type": "stream",
     "text": [
      "Enter your second number: 324\n"
     ]
    }
   ],
   "source": [
    "y = int(input(\"Enter your second number: \"))"
   ]
  },
  {
   "cell_type": "code",
   "execution_count": 65,
   "id": "004f7702",
   "metadata": {},
   "outputs": [
    {
     "data": {
      "text/plain": [
       "336"
      ]
     },
     "execution_count": 65,
     "metadata": {},
     "output_type": "execute_result"
    }
   ],
   "source": [
    "x+y"
   ]
  },
  {
   "cell_type": "code",
   "execution_count": 66,
   "id": "f3e382af",
   "metadata": {},
   "outputs": [
    {
     "name": "stdout",
     "output_type": "stream",
     "text": [
      "Enter your second number: 43\n"
     ]
    }
   ],
   "source": [
    "y = float(input('Enter your second number: '))"
   ]
  },
  {
   "cell_type": "code",
   "execution_count": 67,
   "id": "bfdea36c",
   "metadata": {},
   "outputs": [
    {
     "data": {
      "text/plain": [
       "55.0"
      ]
     },
     "execution_count": 67,
     "metadata": {},
     "output_type": "execute_result"
    }
   ],
   "source": [
    "x+y"
   ]
  },
  {
   "cell_type": "code",
   "execution_count": 68,
   "id": "13ac8044",
   "metadata": {},
   "outputs": [],
   "source": [
    "data = '60 days of python'"
   ]
  },
  {
   "cell_type": "code",
   "execution_count": 69,
   "id": "5a0aae61",
   "metadata": {},
   "outputs": [
    {
     "data": {
      "text/plain": [
       "str"
      ]
     },
     "execution_count": 69,
     "metadata": {},
     "output_type": "execute_result"
    }
   ],
   "source": [
    "type(data)"
   ]
  },
  {
   "cell_type": "code",
   "execution_count": 70,
   "id": "549b2d90",
   "metadata": {},
   "outputs": [
    {
     "data": {
      "text/plain": [
       "17"
      ]
     },
     "execution_count": 70,
     "metadata": {},
     "output_type": "execute_result"
    }
   ],
   "source": [
    "len(data)"
   ]
  },
  {
   "cell_type": "code",
   "execution_count": 71,
   "id": "262d5282",
   "metadata": {},
   "outputs": [
    {
     "data": {
      "text/plain": [
       "66"
      ]
     },
     "execution_count": 71,
     "metadata": {},
     "output_type": "execute_result"
    }
   ],
   "source": [
    "import sys\n",
    "sys.getsizeof(data)"
   ]
  },
  {
   "cell_type": "code",
   "execution_count": 72,
   "id": "38b59af4",
   "metadata": {},
   "outputs": [
    {
     "data": {
      "text/plain": [
       "1"
      ]
     },
     "execution_count": 72,
     "metadata": {},
     "output_type": "execute_result"
    }
   ],
   "source": [
    "data.count('python')"
   ]
  },
  {
   "cell_type": "code",
   "execution_count": 73,
   "id": "448c25d9",
   "metadata": {},
   "outputs": [
    {
     "data": {
      "text/plain": [
       "1"
      ]
     },
     "execution_count": 73,
     "metadata": {},
     "output_type": "execute_result"
    }
   ],
   "source": [
    "data.count('days of')"
   ]
  },
  {
   "cell_type": "code",
   "execution_count": 74,
   "id": "3430a728",
   "metadata": {},
   "outputs": [
    {
     "data": {
      "text/plain": [
       "1"
      ]
     },
     "execution_count": 74,
     "metadata": {},
     "output_type": "execute_result"
    }
   ],
   "source": [
    "sub = 'days of'\n",
    "data.count(sub)"
   ]
  },
  {
   "cell_type": "markdown",
   "id": "6eb7e6bd",
   "metadata": {},
   "source": [
    "# Python String Methods"
   ]
  },
  {
   "cell_type": "code",
   "execution_count": 75,
   "id": "f957c1dd",
   "metadata": {},
   "outputs": [
    {
     "data": {
      "text/plain": [
       "8"
      ]
     },
     "execution_count": 75,
     "metadata": {},
     "output_type": "execute_result"
    }
   ],
   "source": [
    "data = '60 days of python'\n",
    "data.find('of')"
   ]
  },
  {
   "cell_type": "code",
   "execution_count": 76,
   "id": "0aac649b",
   "metadata": {},
   "outputs": [
    {
     "data": {
      "text/plain": [
       "5"
      ]
     },
     "execution_count": 76,
     "metadata": {},
     "output_type": "execute_result"
    }
   ],
   "source": [
    "data.find('y')    #find index from string"
   ]
  },
  {
   "cell_type": "code",
   "execution_count": 77,
   "id": "13baf1bb",
   "metadata": {},
   "outputs": [
    {
     "data": {
      "text/plain": [
       "-1"
      ]
     },
     "execution_count": 77,
     "metadata": {},
     "output_type": "execute_result"
    }
   ],
   "source": [
    "data.find('y',6,10)    #if y does not exist betwn range 6 to 10, then it will return -1"
   ]
  },
  {
   "cell_type": "code",
   "execution_count": 78,
   "id": "d5b69973",
   "metadata": {},
   "outputs": [
    {
     "data": {
      "text/plain": [
       "12"
      ]
     },
     "execution_count": 78,
     "metadata": {},
     "output_type": "execute_result"
    }
   ],
   "source": [
    "data.find('y',6,15)"
   ]
  },
  {
   "cell_type": "code",
   "execution_count": 79,
   "id": "458fa21c",
   "metadata": {},
   "outputs": [
    {
     "data": {
      "text/plain": [
       "5"
      ]
     },
     "execution_count": 79,
     "metadata": {},
     "output_type": "execute_result"
    }
   ],
   "source": [
    "data.index('y')"
   ]
  },
  {
   "cell_type": "code",
   "execution_count": 80,
   "id": "8b62f9e3",
   "metadata": {},
   "outputs": [
    {
     "ename": "ValueError",
     "evalue": "substring not found",
     "output_type": "error",
     "traceback": [
      "\u001b[1;31m---------------------------------------------------------------------------\u001b[0m",
      "\u001b[1;31mValueError\u001b[0m                                Traceback (most recent call last)",
      "\u001b[1;32m<ipython-input-80-21c93838cbac>\u001b[0m in \u001b[0;36m<module>\u001b[1;34m\u001b[0m\n\u001b[1;32m----> 1\u001b[1;33m \u001b[0mdata\u001b[0m\u001b[1;33m.\u001b[0m\u001b[0mindex\u001b[0m\u001b[1;33m(\u001b[0m\u001b[1;34m'y'\u001b[0m\u001b[1;33m,\u001b[0m\u001b[1;36m6\u001b[0m\u001b[1;33m,\u001b[0m\u001b[1;36m10\u001b[0m\u001b[1;33m)\u001b[0m     \u001b[1;31m#index and find functions have the same purpose but index function will return error if it didn't find.\u001b[0m\u001b[1;33m\u001b[0m\u001b[1;33m\u001b[0m\u001b[0m\n\u001b[0m",
      "\u001b[1;31mValueError\u001b[0m: substring not found"
     ]
    }
   ],
   "source": [
    "data.index('y',6,10)     #index and find functions have the same purpose but index function will return error if it didn't find."
   ]
  },
  {
   "cell_type": "code",
   "execution_count": 81,
   "id": "875fe516",
   "metadata": {},
   "outputs": [
    {
     "data": {
      "text/plain": [
       "'60 days of python'"
      ]
     },
     "execution_count": 81,
     "metadata": {},
     "output_type": "execute_result"
    }
   ],
   "source": [
    "data.lower()     #convert all characters into lower case"
   ]
  },
  {
   "cell_type": "code",
   "execution_count": 82,
   "id": "714f3205",
   "metadata": {},
   "outputs": [
    {
     "data": {
      "text/plain": [
       "'60 DAYS OF PYTHON'"
      ]
     },
     "execution_count": 82,
     "metadata": {},
     "output_type": "execute_result"
    }
   ],
   "source": [
    "data.upper()"
   ]
  },
  {
   "cell_type": "code",
   "execution_count": 83,
   "id": "9258df4e",
   "metadata": {},
   "outputs": [
    {
     "data": {
      "text/plain": [
       "'60 days of python'"
      ]
     },
     "execution_count": 83,
     "metadata": {},
     "output_type": "execute_result"
    }
   ],
   "source": [
    "data.casefold()     #convert all characters into lower case"
   ]
  },
  {
   "cell_type": "code",
   "execution_count": 84,
   "id": "52f20ae4",
   "metadata": {},
   "outputs": [],
   "source": [
    "x = 'data SCIENCE is Fun'"
   ]
  },
  {
   "cell_type": "code",
   "execution_count": 85,
   "id": "d2ce72d7",
   "metadata": {},
   "outputs": [
    {
     "data": {
      "text/plain": [
       "'Data science is fun'"
      ]
     },
     "execution_count": 85,
     "metadata": {},
     "output_type": "execute_result"
    }
   ],
   "source": [
    "x.capitalize()     #convert only first char into upper case"
   ]
  },
  {
   "cell_type": "code",
   "execution_count": 86,
   "id": "5dd69951",
   "metadata": {},
   "outputs": [
    {
     "data": {
      "text/plain": [
       "'DATA science IS fUN'"
      ]
     },
     "execution_count": 86,
     "metadata": {},
     "output_type": "execute_result"
    }
   ],
   "source": [
    "x.swapcase() # convert the previous capital letter into small and vice-versa"
   ]
  },
  {
   "cell_type": "code",
   "execution_count": 87,
   "id": "a92cf83c",
   "metadata": {},
   "outputs": [
    {
     "data": {
      "text/plain": [
       "'Data Science Is Fun'"
      ]
     },
     "execution_count": 87,
     "metadata": {},
     "output_type": "execute_result"
    }
   ],
   "source": [
    "x.title()    #convert the first letter of every word into upper case"
   ]
  },
  {
   "cell_type": "code",
   "execution_count": 88,
   "id": "a5d3255b",
   "metadata": {},
   "outputs": [
    {
     "data": {
      "text/plain": [
       "False"
      ]
     },
     "execution_count": 88,
     "metadata": {},
     "output_type": "execute_result"
    }
   ],
   "source": [
    "x.islower() #return value like false/true"
   ]
  },
  {
   "cell_type": "code",
   "execution_count": 89,
   "id": "3478d1b9",
   "metadata": {},
   "outputs": [
    {
     "data": {
      "text/plain": [
       "False"
      ]
     },
     "execution_count": 89,
     "metadata": {},
     "output_type": "execute_result"
    }
   ],
   "source": [
    "x.isupper()"
   ]
  },
  {
   "cell_type": "code",
   "execution_count": 90,
   "id": "2ea798af",
   "metadata": {},
   "outputs": [
    {
     "data": {
      "text/plain": [
       "False"
      ]
     },
     "execution_count": 90,
     "metadata": {},
     "output_type": "execute_result"
    }
   ],
   "source": [
    "x.isdigit()   #to check if there is any digit"
   ]
  },
  {
   "cell_type": "code",
   "execution_count": 91,
   "id": "123114c0",
   "metadata": {},
   "outputs": [
    {
     "data": {
      "text/plain": [
       "b'data SCIENCE is Fun'"
      ]
     },
     "execution_count": 91,
     "metadata": {},
     "output_type": "execute_result"
    }
   ],
   "source": [
    "x.encode()"
   ]
  },
  {
   "cell_type": "code",
   "execution_count": 92,
   "id": "d1f9859e",
   "metadata": {},
   "outputs": [
    {
     "data": {
      "text/plain": [
       "bytes"
      ]
     },
     "execution_count": 92,
     "metadata": {},
     "output_type": "execute_result"
    }
   ],
   "source": [
    "type(x.encode())"
   ]
  },
  {
   "cell_type": "code",
   "execution_count": 93,
   "id": "a540855a",
   "metadata": {},
   "outputs": [
    {
     "data": {
      "text/plain": [
       "'data SCIENCE is Fun'"
      ]
     },
     "execution_count": 93,
     "metadata": {},
     "output_type": "execute_result"
    }
   ],
   "source": [
    "x"
   ]
  },
  {
   "cell_type": "code",
   "execution_count": 94,
   "id": "8e64219c",
   "metadata": {},
   "outputs": [
    {
     "data": {
      "text/plain": [
       "['data', 'SCIENCE', 'is', 'Fun']"
      ]
     },
     "execution_count": 94,
     "metadata": {},
     "output_type": "execute_result"
    }
   ],
   "source": [
    "x.split()     # split every word of a string and will show like a list"
   ]
  },
  {
   "cell_type": "code",
   "execution_count": 95,
   "id": "7c0fbb49",
   "metadata": {},
   "outputs": [
    {
     "data": {
      "text/plain": [
       "'data'"
      ]
     },
     "execution_count": 95,
     "metadata": {},
     "output_type": "execute_result"
    }
   ],
   "source": [
    "x.split()[0]"
   ]
  },
  {
   "cell_type": "code",
   "execution_count": 96,
   "id": "ca0dec3e",
   "metadata": {},
   "outputs": [
    {
     "ename": "IndexError",
     "evalue": "list index out of range",
     "output_type": "error",
     "traceback": [
      "\u001b[1;31m---------------------------------------------------------------------------\u001b[0m",
      "\u001b[1;31mIndexError\u001b[0m                                Traceback (most recent call last)",
      "\u001b[1;32m<ipython-input-96-ff0250b198c2>\u001b[0m in \u001b[0;36m<module>\u001b[1;34m\u001b[0m\n\u001b[1;32m----> 1\u001b[1;33m \u001b[0mx\u001b[0m\u001b[1;33m.\u001b[0m\u001b[0msplit\u001b[0m\u001b[1;33m(\u001b[0m\u001b[1;33m)\u001b[0m\u001b[1;33m[\u001b[0m\u001b[1;36m4\u001b[0m\u001b[1;33m]\u001b[0m\u001b[1;33m\u001b[0m\u001b[1;33m\u001b[0m\u001b[0m\n\u001b[0m",
      "\u001b[1;31mIndexError\u001b[0m: list index out of range"
     ]
    }
   ],
   "source": [
    "x.split()[4]"
   ]
  },
  {
   "cell_type": "code",
   "execution_count": 97,
   "id": "c801295e",
   "metadata": {},
   "outputs": [
    {
     "data": {
      "text/plain": [
       "'                                        data SCIENCE is Fun                                         '"
      ]
     },
     "execution_count": 97,
     "metadata": {},
     "output_type": "execute_result"
    }
   ],
   "source": [
    "x.center(100)      #the string stored in x variable will show in the middle of 100 index"
   ]
  },
  {
   "cell_type": "code",
   "execution_count": 98,
   "id": "e7dc80ca",
   "metadata": {},
   "outputs": [
    {
     "data": {
      "text/plain": [
       "'neuro SCIENCE is Fun'"
      ]
     },
     "execution_count": 98,
     "metadata": {},
     "output_type": "execute_result"
    }
   ],
   "source": [
    "x.replace('data','neuro')    #shift+tab    #variable.replace('old','new')"
   ]
  },
  {
   "cell_type": "code",
   "execution_count": 99,
   "id": "74aed436",
   "metadata": {},
   "outputs": [],
   "source": [
    "x = 10\n",
    "y = 15\n",
    "z = x*y"
   ]
  },
  {
   "cell_type": "code",
   "execution_count": 100,
   "id": "635afeea",
   "metadata": {},
   "outputs": [
    {
     "data": {
      "text/plain": [
       "150"
      ]
     },
     "execution_count": 100,
     "metadata": {},
     "output_type": "execute_result"
    }
   ],
   "source": [
    "z"
   ]
  },
  {
   "cell_type": "code",
   "execution_count": 101,
   "id": "f029264c",
   "metadata": {},
   "outputs": [
    {
     "name": "stdout",
     "output_type": "stream",
     "text": [
      "I have 150 taka\n"
     ]
    }
   ],
   "source": [
    "print('I have',z,'taka')"
   ]
  },
  {
   "cell_type": "code",
   "execution_count": 102,
   "id": "9d9bbc81",
   "metadata": {},
   "outputs": [
    {
     "name": "stdout",
     "output_type": "stream",
     "text": [
      "I have 150 taka\n"
     ]
    }
   ],
   "source": [
    "print('I have {} taka'.format(z))"
   ]
  },
  {
   "cell_type": "code",
   "execution_count": 103,
   "id": "270426d0",
   "metadata": {},
   "outputs": [
    {
     "name": "stdout",
     "output_type": "stream",
     "text": [
      "I have 150 taka\n"
     ]
    }
   ],
   "source": [
    "print('I have {} taka'.format(z))"
   ]
  },
  {
   "cell_type": "markdown",
   "id": "6c6df9d0",
   "metadata": {},
   "source": [
    "# Python Data Type"
   ]
  },
  {
   "cell_type": "code",
   "execution_count": 104,
   "id": "630d583d",
   "metadata": {},
   "outputs": [],
   "source": [
    "#Numeric Data Types - Integers, float, complex(5+1j)\n",
    "#Boolean Data Types - True/false(must be written in capital letters like 'True'/'False' otherwise will take it as variable)\n",
    "#Sequence data types - Lists,Tuples,Range,Arrays,Strings\n",
    "#SET types - frozenset,set\n",
    "#Mapping types - Dictionary\n"
   ]
  },
  {
   "cell_type": "code",
   "execution_count": 105,
   "id": "63ecd233",
   "metadata": {},
   "outputs": [
    {
     "data": {
      "text/plain": [
       "complex"
      ]
     },
     "execution_count": 105,
     "metadata": {},
     "output_type": "execute_result"
    }
   ],
   "source": [
    "# Numeric data\n",
    "\n",
    "x = 10 #integer\n",
    "y = 10.5 #float\n",
    "z = 10 + 5j #10 is real number and 5j is imaginary\n",
    "\n",
    "type(z)"
   ]
  },
  {
   "cell_type": "code",
   "execution_count": 106,
   "id": "884793d8",
   "metadata": {},
   "outputs": [
    {
     "data": {
      "text/plain": [
       "True"
      ]
     },
     "execution_count": 106,
     "metadata": {},
     "output_type": "execute_result"
    }
   ],
   "source": [
    "isinstance(z,complex)    #shift+tab    #will return value as true/false"
   ]
  },
  {
   "cell_type": "code",
   "execution_count": 107,
   "id": "e74a926b",
   "metadata": {},
   "outputs": [
    {
     "data": {
      "text/plain": [
       "False"
      ]
     },
     "execution_count": 107,
     "metadata": {},
     "output_type": "execute_result"
    }
   ],
   "source": [
    "isinstance(z,int)"
   ]
  },
  {
   "cell_type": "code",
   "execution_count": 108,
   "id": "cb5eb3fa",
   "metadata": {},
   "outputs": [
    {
     "data": {
      "text/plain": [
       "True"
      ]
     },
     "execution_count": 108,
     "metadata": {},
     "output_type": "execute_result"
    }
   ],
   "source": [
    "isinstance(10,int)"
   ]
  },
  {
   "cell_type": "code",
   "execution_count": 109,
   "id": "461eb8b3",
   "metadata": {},
   "outputs": [
    {
     "data": {
      "text/plain": [
       "10.0"
      ]
     },
     "execution_count": 109,
     "metadata": {},
     "output_type": "execute_result"
    }
   ],
   "source": [
    "#int to float\n",
    "\n",
    "n = float(x)    #n=float\n",
    "n"
   ]
  },
  {
   "cell_type": "code",
   "execution_count": 110,
   "id": "70fe6e1f",
   "metadata": {},
   "outputs": [
    {
     "data": {
      "text/plain": [
       "float"
      ]
     },
     "execution_count": 110,
     "metadata": {},
     "output_type": "execute_result"
    }
   ],
   "source": [
    "type(n)"
   ]
  },
  {
   "cell_type": "code",
   "execution_count": 111,
   "id": "955fffe9",
   "metadata": {},
   "outputs": [
    {
     "data": {
      "text/plain": [
       "10"
      ]
     },
     "execution_count": 111,
     "metadata": {},
     "output_type": "execute_result"
    }
   ],
   "source": [
    "n = int(n)\n",
    "n"
   ]
  },
  {
   "cell_type": "code",
   "execution_count": 112,
   "id": "46ba0965",
   "metadata": {},
   "outputs": [
    {
     "data": {
      "text/plain": [
       "int"
      ]
     },
     "execution_count": 112,
     "metadata": {},
     "output_type": "execute_result"
    }
   ],
   "source": [
    "type(n)"
   ]
  },
  {
   "cell_type": "code",
   "execution_count": 113,
   "id": "f9215513",
   "metadata": {},
   "outputs": [],
   "source": [
    "n = complex(n)"
   ]
  },
  {
   "cell_type": "code",
   "execution_count": 114,
   "id": "49d14ad5",
   "metadata": {},
   "outputs": [
    {
     "data": {
      "text/plain": [
       "(10+0j)"
      ]
     },
     "execution_count": 114,
     "metadata": {},
     "output_type": "execute_result"
    }
   ],
   "source": [
    "n"
   ]
  },
  {
   "cell_type": "code",
   "execution_count": 115,
   "id": "f983f61a",
   "metadata": {},
   "outputs": [
    {
     "data": {
      "text/plain": [
       "complex"
      ]
     },
     "execution_count": 115,
     "metadata": {},
     "output_type": "execute_result"
    }
   ],
   "source": [
    "type(n)"
   ]
  },
  {
   "cell_type": "code",
   "execution_count": 116,
   "id": "beb4f7a5",
   "metadata": {},
   "outputs": [
    {
     "ename": "TypeError",
     "evalue": "can't convert complex to int",
     "output_type": "error",
     "traceback": [
      "\u001b[1;31m---------------------------------------------------------------------------\u001b[0m",
      "\u001b[1;31mTypeError\u001b[0m                                 Traceback (most recent call last)",
      "\u001b[1;32m<ipython-input-116-9ae607e3f9f9>\u001b[0m in \u001b[0;36m<module>\u001b[1;34m\u001b[0m\n\u001b[0;32m      1\u001b[0m \u001b[1;31m#Complex value cannot be converted\u001b[0m\u001b[1;33m\u001b[0m\u001b[1;33m\u001b[0m\u001b[1;33m\u001b[0m\u001b[0m\n\u001b[0;32m      2\u001b[0m \u001b[1;33m\u001b[0m\u001b[0m\n\u001b[1;32m----> 3\u001b[1;33m \u001b[0mn\u001b[0m \u001b[1;33m=\u001b[0m \u001b[0mint\u001b[0m\u001b[1;33m(\u001b[0m\u001b[0mn\u001b[0m\u001b[1;33m)\u001b[0m\u001b[1;33m\u001b[0m\u001b[1;33m\u001b[0m\u001b[0m\n\u001b[0m",
      "\u001b[1;31mTypeError\u001b[0m: can't convert complex to int"
     ]
    }
   ],
   "source": [
    "#Complex value cannot be converted\n",
    "\n",
    "n = int(n)"
   ]
  },
  {
   "cell_type": "code",
   "execution_count": 117,
   "id": "bb062c13",
   "metadata": {},
   "outputs": [
    {
     "ename": "TypeError",
     "evalue": "can't convert complex to float",
     "output_type": "error",
     "traceback": [
      "\u001b[1;31m---------------------------------------------------------------------------\u001b[0m",
      "\u001b[1;31mTypeError\u001b[0m                                 Traceback (most recent call last)",
      "\u001b[1;32m<ipython-input-117-81d7937edee3>\u001b[0m in \u001b[0;36m<module>\u001b[1;34m\u001b[0m\n\u001b[1;32m----> 1\u001b[1;33m \u001b[0mn\u001b[0m \u001b[1;33m=\u001b[0m \u001b[0mfloat\u001b[0m\u001b[1;33m(\u001b[0m\u001b[0mn\u001b[0m\u001b[1;33m)\u001b[0m\u001b[1;33m\u001b[0m\u001b[1;33m\u001b[0m\u001b[0m\n\u001b[0m",
      "\u001b[1;31mTypeError\u001b[0m: can't convert complex to float"
     ]
    }
   ],
   "source": [
    "n = float(n)"
   ]
  },
  {
   "cell_type": "code",
   "execution_count": 118,
   "id": "e6b679bf",
   "metadata": {},
   "outputs": [
    {
     "name": "stdout",
     "output_type": "stream",
     "text": [
      "Enter your number: \n"
     ]
    },
    {
     "ename": "ValueError",
     "evalue": "complex() arg is a malformed string",
     "output_type": "error",
     "traceback": [
      "\u001b[1;31m---------------------------------------------------------------------------\u001b[0m",
      "\u001b[1;31mValueError\u001b[0m                                Traceback (most recent call last)",
      "\u001b[1;32m<ipython-input-118-c4150ae4a3eb>\u001b[0m in \u001b[0;36m<module>\u001b[1;34m\u001b[0m\n\u001b[1;32m----> 1\u001b[1;33m \u001b[0mn\u001b[0m \u001b[1;33m=\u001b[0m \u001b[0mcomplex\u001b[0m\u001b[1;33m(\u001b[0m\u001b[0minput\u001b[0m\u001b[1;33m(\u001b[0m\u001b[1;34m'Enter your number: '\u001b[0m\u001b[1;33m)\u001b[0m\u001b[1;33m)\u001b[0m\u001b[1;33m\u001b[0m\u001b[1;33m\u001b[0m\u001b[0m\n\u001b[0m",
      "\u001b[1;31mValueError\u001b[0m: complex() arg is a malformed string"
     ]
    }
   ],
   "source": [
    "n = complex(input('Enter your number: '))"
   ]
  },
  {
   "cell_type": "code",
   "execution_count": 119,
   "id": "321d6981",
   "metadata": {},
   "outputs": [
    {
     "data": {
      "text/plain": [
       "(10+0j)"
      ]
     },
     "execution_count": 119,
     "metadata": {},
     "output_type": "execute_result"
    }
   ],
   "source": [
    "n"
   ]
  },
  {
   "cell_type": "code",
   "execution_count": 120,
   "id": "d3df4a8a",
   "metadata": {},
   "outputs": [
    {
     "data": {
      "text/plain": [
       "complex"
      ]
     },
     "execution_count": 120,
     "metadata": {},
     "output_type": "execute_result"
    }
   ],
   "source": [
    "type(n)"
   ]
  },
  {
   "cell_type": "markdown",
   "id": "af75697b",
   "metadata": {},
   "source": [
    "# Bool"
   ]
  },
  {
   "cell_type": "code",
   "execution_count": 121,
   "id": "af4abb6d",
   "metadata": {},
   "outputs": [],
   "source": [
    "x = True\n",
    "y = False"
   ]
  },
  {
   "cell_type": "code",
   "execution_count": 122,
   "id": "7ba250e1",
   "metadata": {},
   "outputs": [
    {
     "data": {
      "text/plain": [
       "True"
      ]
     },
     "execution_count": 122,
     "metadata": {},
     "output_type": "execute_result"
    }
   ],
   "source": [
    "x"
   ]
  },
  {
   "cell_type": "code",
   "execution_count": 123,
   "id": "30dafdc6",
   "metadata": {},
   "outputs": [
    {
     "data": {
      "text/plain": [
       "False"
      ]
     },
     "execution_count": 123,
     "metadata": {},
     "output_type": "execute_result"
    }
   ],
   "source": [
    "y"
   ]
  },
  {
   "cell_type": "code",
   "execution_count": 124,
   "id": "5be1ef8c",
   "metadata": {},
   "outputs": [
    {
     "ename": "NameError",
     "evalue": "name 'true' is not defined",
     "output_type": "error",
     "traceback": [
      "\u001b[1;31m---------------------------------------------------------------------------\u001b[0m",
      "\u001b[1;31mNameError\u001b[0m                                 Traceback (most recent call last)",
      "\u001b[1;32m<ipython-input-124-bb434f2ff155>\u001b[0m in \u001b[0;36m<module>\u001b[1;34m\u001b[0m\n\u001b[1;32m----> 1\u001b[1;33m \u001b[0mtrue\u001b[0m     \u001b[1;31m#smaller letter t indicates that it is a variable\u001b[0m\u001b[1;33m\u001b[0m\u001b[1;33m\u001b[0m\u001b[0m\n\u001b[0m",
      "\u001b[1;31mNameError\u001b[0m: name 'true' is not defined"
     ]
    }
   ],
   "source": [
    "true     #smaller letter t indicates that it is a variable"
   ]
  },
  {
   "cell_type": "markdown",
   "id": "8d77437a",
   "metadata": {},
   "source": [
    "# Sequence data"
   ]
  },
  {
   "cell_type": "code",
   "execution_count": 125,
   "id": "9943ae98",
   "metadata": {},
   "outputs": [],
   "source": [
    "#Lists - represented as []\n",
    "\n",
    "l = [1,2,3,4,True,False,[1,2],[1,3],'data',(1,2,3,4)]"
   ]
  },
  {
   "cell_type": "code",
   "execution_count": 126,
   "id": "1edca152",
   "metadata": {},
   "outputs": [
    {
     "data": {
      "text/plain": [
       "[1, 2, 3, 4, True, False, [1, 2], [1, 3], 'data', (1, 2, 3, 4)]"
      ]
     },
     "execution_count": 126,
     "metadata": {},
     "output_type": "execute_result"
    }
   ],
   "source": [
    "l     #All types of values can be stored"
   ]
  },
  {
   "cell_type": "code",
   "execution_count": 127,
   "id": "3f715a0f",
   "metadata": {},
   "outputs": [
    {
     "data": {
      "text/plain": [
       "1"
      ]
     },
     "execution_count": 127,
     "metadata": {},
     "output_type": "execute_result"
    }
   ],
   "source": [
    "l[0]"
   ]
  },
  {
   "cell_type": "code",
   "execution_count": 128,
   "id": "88f20b9c",
   "metadata": {},
   "outputs": [
    {
     "data": {
      "text/plain": [
       "(1, 2, 3, 4)"
      ]
     },
     "execution_count": 128,
     "metadata": {},
     "output_type": "execute_result"
    }
   ],
   "source": [
    "l[-1]"
   ]
  },
  {
   "cell_type": "code",
   "execution_count": 129,
   "id": "1c87b978",
   "metadata": {},
   "outputs": [
    {
     "data": {
      "text/plain": [
       "1"
      ]
     },
     "execution_count": 129,
     "metadata": {},
     "output_type": "execute_result"
    }
   ],
   "source": [
    "l[-1][0]"
   ]
  },
  {
   "cell_type": "code",
   "execution_count": 130,
   "id": "a2bf9346",
   "metadata": {},
   "outputs": [
    {
     "data": {
      "text/plain": [
       "4"
      ]
     },
     "execution_count": 130,
     "metadata": {},
     "output_type": "execute_result"
    }
   ],
   "source": [
    "l[-1][-1]"
   ]
  },
  {
   "cell_type": "code",
   "execution_count": 131,
   "id": "eb44d3fd",
   "metadata": {},
   "outputs": [
    {
     "data": {
      "text/plain": [
       "list"
      ]
     },
     "execution_count": 131,
     "metadata": {},
     "output_type": "execute_result"
    }
   ],
   "source": [
    "type(l)"
   ]
  },
  {
   "cell_type": "code",
   "execution_count": 132,
   "id": "ad466fb0",
   "metadata": {},
   "outputs": [
    {
     "data": {
      "text/plain": [
       "True"
      ]
     },
     "execution_count": 132,
     "metadata": {},
     "output_type": "execute_result"
    }
   ],
   "source": [
    "isinstance(l,list)"
   ]
  },
  {
   "cell_type": "code",
   "execution_count": 133,
   "id": "1e69db2c",
   "metadata": {},
   "outputs": [],
   "source": [
    "#Tuples - Represented as()"
   ]
  },
  {
   "cell_type": "code",
   "execution_count": 134,
   "id": "b4073944",
   "metadata": {},
   "outputs": [],
   "source": [
    "t = (1,2,3,8,'Ai')"
   ]
  },
  {
   "cell_type": "code",
   "execution_count": 135,
   "id": "de2daa87",
   "metadata": {},
   "outputs": [
    {
     "data": {
      "text/plain": [
       "tuple"
      ]
     },
     "execution_count": 135,
     "metadata": {},
     "output_type": "execute_result"
    }
   ],
   "source": [
    "type(t)"
   ]
  },
  {
   "cell_type": "code",
   "execution_count": 136,
   "id": "7798c86c",
   "metadata": {},
   "outputs": [
    {
     "data": {
      "text/plain": [
       "'Ai'"
      ]
     },
     "execution_count": 136,
     "metadata": {},
     "output_type": "execute_result"
    }
   ],
   "source": [
    "t[-1]"
   ]
  },
  {
   "cell_type": "code",
   "execution_count": 137,
   "id": "f29d5cf4",
   "metadata": {},
   "outputs": [
    {
     "data": {
      "text/plain": [
       "(1, 2, 3, 8)"
      ]
     },
     "execution_count": 137,
     "metadata": {},
     "output_type": "execute_result"
    }
   ],
   "source": [
    "t[0:4]     #colon means to; 0 to (4-1)"
   ]
  },
  {
   "cell_type": "code",
   "execution_count": 138,
   "id": "fa0e6a12",
   "metadata": {},
   "outputs": [],
   "source": [
    "#range()\n",
    "\n",
    "x = range(10)"
   ]
  },
  {
   "cell_type": "code",
   "execution_count": 139,
   "id": "0f29ec13",
   "metadata": {},
   "outputs": [
    {
     "data": {
      "text/plain": [
       "range(0, 10)"
      ]
     },
     "execution_count": 139,
     "metadata": {},
     "output_type": "execute_result"
    }
   ],
   "source": [
    "x\n"
   ]
  },
  {
   "cell_type": "code",
   "execution_count": 140,
   "id": "5d39b123",
   "metadata": {},
   "outputs": [
    {
     "name": "stdout",
     "output_type": "stream",
     "text": [
      "0 1 2 3 4 5 6 7 8 9 "
     ]
    }
   ],
   "source": [
    "for i in x:         #1st case\n",
    "    print(i, end = ' ')"
   ]
  },
  {
   "cell_type": "code",
   "execution_count": 141,
   "id": "dda665e8",
   "metadata": {},
   "outputs": [
    {
     "name": "stdout",
     "output_type": "stream",
     "text": [
      "5  6  7  8  9  10  11  12  13  14  15  16  17  18  19  20  21  22  23  24  25  26  27  28  29  30  31  32  33  34  35  36  37  38  39  40  41  42  43  44  45  46  47  48  49  "
     ]
    }
   ],
   "source": [
    "y = range(5,50)       #2nd case\n",
    "\n",
    "for i in y:\n",
    "    print(i, end = '  ')"
   ]
  },
  {
   "cell_type": "code",
   "execution_count": 142,
   "id": "8c5fa051",
   "metadata": {},
   "outputs": [
    {
     "name": "stdout",
     "output_type": "stream",
     "text": [
      "5  6  7  8  9  10  11  12  13  14  15  16  17  18  19  20  21  22  23  24  25  26  27  28  29  30  31  32  33  34  35  36  37  38  39  40  41  42  43  44  45  46  47  48  49  "
     ]
    }
   ],
   "source": [
    "#2nd case\n",
    "\n",
    "for i in range(5,50):\n",
    "    print(i, end = '  ')"
   ]
  },
  {
   "cell_type": "code",
   "execution_count": 143,
   "id": "512669f1",
   "metadata": {},
   "outputs": [
    {
     "name": "stdout",
     "output_type": "stream",
     "text": [
      "5  15  25  35  45  "
     ]
    }
   ],
   "source": [
    "x = range(5,50,10)     #3rd case\n",
    "for i in x:\n",
    "    print(i,end = '  ')"
   ]
  },
  {
   "cell_type": "code",
   "execution_count": 144,
   "id": "bafaad27",
   "metadata": {},
   "outputs": [
    {
     "name": "stdout",
     "output_type": "stream",
     "text": [
      "50  40  30  20  10  "
     ]
    }
   ],
   "source": [
    "x = range(50,5,-10)      #4th case\n",
    "\n",
    "for i in x:\n",
    "    print(i, end = '  ')"
   ]
  },
  {
   "cell_type": "code",
   "execution_count": 145,
   "id": "48c4b331",
   "metadata": {},
   "outputs": [
    {
     "ename": "TypeError",
     "evalue": "array() argument 1 must be a unicode character, not list",
     "output_type": "error",
     "traceback": [
      "\u001b[1;31m---------------------------------------------------------------------------\u001b[0m",
      "\u001b[1;31mTypeError\u001b[0m                                 Traceback (most recent call last)",
      "\u001b[1;32m<ipython-input-145-72863f0d908b>\u001b[0m in \u001b[0;36m<module>\u001b[1;34m\u001b[0m\n\u001b[0;32m      5\u001b[0m \u001b[1;32mimport\u001b[0m \u001b[0marray\u001b[0m \u001b[1;32mas\u001b[0m \u001b[0mar\u001b[0m\u001b[1;33m\u001b[0m\u001b[1;33m\u001b[0m\u001b[0m\n\u001b[0;32m      6\u001b[0m \u001b[1;33m\u001b[0m\u001b[0m\n\u001b[1;32m----> 7\u001b[1;33m \u001b[0ma\u001b[0m \u001b[1;33m=\u001b[0m \u001b[0mar\u001b[0m\u001b[1;33m.\u001b[0m\u001b[0marray\u001b[0m\u001b[1;33m(\u001b[0m\u001b[1;33m[\u001b[0m\u001b[1;36m1\u001b[0m\u001b[1;33m,\u001b[0m\u001b[1;36m2\u001b[0m\u001b[1;33m,\u001b[0m\u001b[1;36m3\u001b[0m\u001b[1;33m,\u001b[0m\u001b[1;36m4\u001b[0m\u001b[1;33m]\u001b[0m\u001b[1;33m)\u001b[0m\u001b[1;33m\u001b[0m\u001b[1;33m\u001b[0m\u001b[0m\n\u001b[0m\u001b[0;32m      8\u001b[0m \u001b[0ma\u001b[0m\u001b[1;33m\u001b[0m\u001b[1;33m\u001b[0m\u001b[0m\n",
      "\u001b[1;31mTypeError\u001b[0m: array() argument 1 must be a unicode character, not list"
     ]
    }
   ],
   "source": [
    "#array \n",
    "#Multiple types of values cannot be stored\n",
    "\n",
    "\n",
    "import array as ar\n",
    "\n",
    "a = ar.array([1,2,3,4])\n",
    "a"
   ]
  },
  {
   "cell_type": "code",
   "execution_count": 146,
   "id": "1c0983d5",
   "metadata": {},
   "outputs": [
    {
     "data": {
      "text/plain": [
       "array('i', [1, 2, 3, 4])"
      ]
     },
     "execution_count": 146,
     "metadata": {},
     "output_type": "execute_result"
    }
   ],
   "source": [
    "a = ar.array('i',[1,2,3,4])\n",
    "a"
   ]
  },
  {
   "cell_type": "code",
   "execution_count": 147,
   "id": "aa328e43",
   "metadata": {},
   "outputs": [
    {
     "data": {
      "text/plain": [
       "array.array"
      ]
     },
     "execution_count": 147,
     "metadata": {},
     "output_type": "execute_result"
    }
   ],
   "source": [
    "type(a)"
   ]
  },
  {
   "cell_type": "code",
   "execution_count": 148,
   "id": "a9984220",
   "metadata": {},
   "outputs": [
    {
     "ename": "TypeError",
     "evalue": "integer argument expected, got float",
     "output_type": "error",
     "traceback": [
      "\u001b[1;31m---------------------------------------------------------------------------\u001b[0m",
      "\u001b[1;31mTypeError\u001b[0m                                 Traceback (most recent call last)",
      "\u001b[1;32m<ipython-input-148-73b37dc25d42>\u001b[0m in \u001b[0;36m<module>\u001b[1;34m\u001b[0m\n\u001b[1;32m----> 1\u001b[1;33m \u001b[0ma\u001b[0m \u001b[1;33m=\u001b[0m \u001b[0mar\u001b[0m\u001b[1;33m.\u001b[0m\u001b[0marray\u001b[0m\u001b[1;33m(\u001b[0m\u001b[1;34m'i'\u001b[0m\u001b[1;33m,\u001b[0m\u001b[1;33m[\u001b[0m\u001b[1;36m10.5\u001b[0m\u001b[1;33m,\u001b[0m\u001b[1;36m2\u001b[0m\u001b[1;33m,\u001b[0m\u001b[1;36m3\u001b[0m\u001b[1;33m,\u001b[0m\u001b[1;36m4\u001b[0m\u001b[1;33m]\u001b[0m\u001b[1;33m)\u001b[0m\u001b[1;33m\u001b[0m\u001b[1;33m\u001b[0m\u001b[0m\n\u001b[0m",
      "\u001b[1;31mTypeError\u001b[0m: integer argument expected, got float"
     ]
    }
   ],
   "source": [
    "a = ar.array('i',[10.5,2,3,4])"
   ]
  },
  {
   "cell_type": "code",
   "execution_count": 149,
   "id": "ed93fd7a",
   "metadata": {},
   "outputs": [
    {
     "data": {
      "text/plain": [
       "array('f', [1.0, 2.0, 3.0, 4.0])"
      ]
     },
     "execution_count": 149,
     "metadata": {},
     "output_type": "execute_result"
    }
   ],
   "source": [
    "a = ar.array('f',[1,2,3,4])\n",
    "a"
   ]
  },
  {
   "cell_type": "code",
   "execution_count": 150,
   "id": "d574a379",
   "metadata": {},
   "outputs": [
    {
     "data": {
      "text/plain": [
       "str"
      ]
     },
     "execution_count": 150,
     "metadata": {},
     "output_type": "execute_result"
    }
   ],
   "source": [
    "#String\n",
    "\n",
    "x = 'data'\n",
    "type(x)"
   ]
  },
  {
   "cell_type": "code",
   "execution_count": 151,
   "id": "a4e8981b",
   "metadata": {},
   "outputs": [
    {
     "data": {
      "text/plain": [
       "str"
      ]
     },
     "execution_count": 151,
     "metadata": {},
     "output_type": "execute_result"
    }
   ],
   "source": [
    "x=\"data\"\n",
    "type(x)"
   ]
  },
  {
   "cell_type": "code",
   "execution_count": 152,
   "id": "c55904b8",
   "metadata": {},
   "outputs": [],
   "source": [
    "x = '''I \n",
    "love\n",
    "data science'''"
   ]
  },
  {
   "cell_type": "code",
   "execution_count": 153,
   "id": "8b76450c",
   "metadata": {},
   "outputs": [
    {
     "data": {
      "text/plain": [
       "'I \\nlove\\ndata science'"
      ]
     },
     "execution_count": 153,
     "metadata": {},
     "output_type": "execute_result"
    }
   ],
   "source": [
    "x"
   ]
  },
  {
   "cell_type": "code",
   "execution_count": 154,
   "id": "0e095c4f",
   "metadata": {},
   "outputs": [
    {
     "data": {
      "text/plain": [
       "str"
      ]
     },
     "execution_count": 154,
     "metadata": {},
     "output_type": "execute_result"
    }
   ],
   "source": [
    "type(x)"
   ]
  },
  {
   "cell_type": "code",
   "execution_count": 155,
   "id": "d9465c4f",
   "metadata": {},
   "outputs": [],
   "source": [
    "#set\n",
    "\n",
    "s = {1,2,3,4}    #everything inside a curly bracket wull be defined as set"
   ]
  },
  {
   "cell_type": "code",
   "execution_count": 156,
   "id": "40dcbe95",
   "metadata": {},
   "outputs": [
    {
     "data": {
      "text/plain": [
       "set"
      ]
     },
     "execution_count": 156,
     "metadata": {},
     "output_type": "execute_result"
    }
   ],
   "source": [
    "type(s)"
   ]
  },
  {
   "cell_type": "code",
   "execution_count": 157,
   "id": "6c4279c7",
   "metadata": {},
   "outputs": [],
   "source": [
    "#dictionary\n",
    "\n",
    "dic = {\n",
    "    'Versity': 'DU Bangladesh',\n",
    "    'Dept': 'Psycology'    \n",
    "}"
   ]
  },
  {
   "cell_type": "code",
   "execution_count": 158,
   "id": "3fd0ac08",
   "metadata": {},
   "outputs": [
    {
     "data": {
      "text/plain": [
       "{'Versity': 'DU Bangladesh', 'Dept': 'Psycology'}"
      ]
     },
     "execution_count": 158,
     "metadata": {},
     "output_type": "execute_result"
    }
   ],
   "source": [
    "dic"
   ]
  },
  {
   "cell_type": "code",
   "execution_count": 159,
   "id": "a0efa295",
   "metadata": {},
   "outputs": [
    {
     "data": {
      "text/plain": [
       "dict"
      ]
     },
     "execution_count": 159,
     "metadata": {},
     "output_type": "execute_result"
    }
   ],
   "source": [
    "type(dic)"
   ]
  },
  {
   "cell_type": "code",
   "execution_count": 160,
   "id": "6bfdc97c",
   "metadata": {},
   "outputs": [
    {
     "data": {
      "text/plain": [
       "dict_keys(['Versity', 'Dept'])"
      ]
     },
     "execution_count": 160,
     "metadata": {},
     "output_type": "execute_result"
    }
   ],
   "source": [
    "dic.keys()"
   ]
  },
  {
   "cell_type": "code",
   "execution_count": 161,
   "id": "f8a418fd",
   "metadata": {},
   "outputs": [
    {
     "data": {
      "text/plain": [
       "dict_values(['DU Bangladesh', 'Psycology'])"
      ]
     },
     "execution_count": 161,
     "metadata": {},
     "output_type": "execute_result"
    }
   ],
   "source": [
    "dic.values()"
   ]
  },
  {
   "cell_type": "code",
   "execution_count": 162,
   "id": "0630a893",
   "metadata": {},
   "outputs": [],
   "source": [
    "# Data Frame (Pandas)    #Pandas is a data frame library"
   ]
  },
  {
   "cell_type": "code",
   "execution_count": 163,
   "id": "75356cf9",
   "metadata": {},
   "outputs": [
    {
     "ename": "FileNotFoundError",
     "evalue": "[Errno 2] No such file or directory: 'study mart.csv'",
     "output_type": "error",
     "traceback": [
      "\u001b[1;31m---------------------------------------------------------------------------\u001b[0m",
      "\u001b[1;31mFileNotFoundError\u001b[0m                         Traceback (most recent call last)",
      "\u001b[1;32m<ipython-input-163-26cd5a9f5b41>\u001b[0m in \u001b[0;36m<module>\u001b[1;34m\u001b[0m\n\u001b[0;32m      1\u001b[0m \u001b[1;32mimport\u001b[0m \u001b[0mpandas\u001b[0m \u001b[1;32mas\u001b[0m \u001b[0mpd\u001b[0m             \u001b[1;31m#library can be renamed\u001b[0m\u001b[1;33m\u001b[0m\u001b[1;33m\u001b[0m\u001b[0m\n\u001b[0;32m      2\u001b[0m \u001b[1;33m\u001b[0m\u001b[0m\n\u001b[1;32m----> 3\u001b[1;33m \u001b[0mdf\u001b[0m \u001b[1;33m=\u001b[0m \u001b[0mpd\u001b[0m\u001b[1;33m.\u001b[0m\u001b[0mread_csv\u001b[0m\u001b[1;33m(\u001b[0m\u001b[1;34m'study mart.csv'\u001b[0m\u001b[1;33m)\u001b[0m\u001b[1;33m\u001b[0m\u001b[1;33m\u001b[0m\u001b[0m\n\u001b[0m\u001b[0;32m      4\u001b[0m \u001b[1;33m\u001b[0m\u001b[0m\n\u001b[0;32m      5\u001b[0m \u001b[0mdf\u001b[0m\u001b[1;33m.\u001b[0m\u001b[0mhead\u001b[0m\u001b[1;33m(\u001b[0m\u001b[1;33m)\u001b[0m     \u001b[1;31m#for showing full rows\u001b[0m\u001b[1;33m\u001b[0m\u001b[1;33m\u001b[0m\u001b[0m\n",
      "\u001b[1;32m~\\anaconda3\\lib\\site-packages\\pandas\\io\\parsers.py\u001b[0m in \u001b[0;36mread_csv\u001b[1;34m(filepath_or_buffer, sep, delimiter, header, names, index_col, usecols, squeeze, prefix, mangle_dupe_cols, dtype, engine, converters, true_values, false_values, skipinitialspace, skiprows, skipfooter, nrows, na_values, keep_default_na, na_filter, verbose, skip_blank_lines, parse_dates, infer_datetime_format, keep_date_col, date_parser, dayfirst, cache_dates, iterator, chunksize, compression, thousands, decimal, lineterminator, quotechar, quoting, doublequote, escapechar, comment, encoding, dialect, error_bad_lines, warn_bad_lines, delim_whitespace, low_memory, memory_map, float_precision, storage_options)\u001b[0m\n\u001b[0;32m    608\u001b[0m     \u001b[0mkwds\u001b[0m\u001b[1;33m.\u001b[0m\u001b[0mupdate\u001b[0m\u001b[1;33m(\u001b[0m\u001b[0mkwds_defaults\u001b[0m\u001b[1;33m)\u001b[0m\u001b[1;33m\u001b[0m\u001b[1;33m\u001b[0m\u001b[0m\n\u001b[0;32m    609\u001b[0m \u001b[1;33m\u001b[0m\u001b[0m\n\u001b[1;32m--> 610\u001b[1;33m     \u001b[1;32mreturn\u001b[0m \u001b[0m_read\u001b[0m\u001b[1;33m(\u001b[0m\u001b[0mfilepath_or_buffer\u001b[0m\u001b[1;33m,\u001b[0m \u001b[0mkwds\u001b[0m\u001b[1;33m)\u001b[0m\u001b[1;33m\u001b[0m\u001b[1;33m\u001b[0m\u001b[0m\n\u001b[0m\u001b[0;32m    611\u001b[0m \u001b[1;33m\u001b[0m\u001b[0m\n\u001b[0;32m    612\u001b[0m \u001b[1;33m\u001b[0m\u001b[0m\n",
      "\u001b[1;32m~\\anaconda3\\lib\\site-packages\\pandas\\io\\parsers.py\u001b[0m in \u001b[0;36m_read\u001b[1;34m(filepath_or_buffer, kwds)\u001b[0m\n\u001b[0;32m    460\u001b[0m \u001b[1;33m\u001b[0m\u001b[0m\n\u001b[0;32m    461\u001b[0m     \u001b[1;31m# Create the parser.\u001b[0m\u001b[1;33m\u001b[0m\u001b[1;33m\u001b[0m\u001b[1;33m\u001b[0m\u001b[0m\n\u001b[1;32m--> 462\u001b[1;33m     \u001b[0mparser\u001b[0m \u001b[1;33m=\u001b[0m \u001b[0mTextFileReader\u001b[0m\u001b[1;33m(\u001b[0m\u001b[0mfilepath_or_buffer\u001b[0m\u001b[1;33m,\u001b[0m \u001b[1;33m**\u001b[0m\u001b[0mkwds\u001b[0m\u001b[1;33m)\u001b[0m\u001b[1;33m\u001b[0m\u001b[1;33m\u001b[0m\u001b[0m\n\u001b[0m\u001b[0;32m    463\u001b[0m \u001b[1;33m\u001b[0m\u001b[0m\n\u001b[0;32m    464\u001b[0m     \u001b[1;32mif\u001b[0m \u001b[0mchunksize\u001b[0m \u001b[1;32mor\u001b[0m \u001b[0miterator\u001b[0m\u001b[1;33m:\u001b[0m\u001b[1;33m\u001b[0m\u001b[1;33m\u001b[0m\u001b[0m\n",
      "\u001b[1;32m~\\anaconda3\\lib\\site-packages\\pandas\\io\\parsers.py\u001b[0m in \u001b[0;36m__init__\u001b[1;34m(self, f, engine, **kwds)\u001b[0m\n\u001b[0;32m    817\u001b[0m             \u001b[0mself\u001b[0m\u001b[1;33m.\u001b[0m\u001b[0moptions\u001b[0m\u001b[1;33m[\u001b[0m\u001b[1;34m\"has_index_names\"\u001b[0m\u001b[1;33m]\u001b[0m \u001b[1;33m=\u001b[0m \u001b[0mkwds\u001b[0m\u001b[1;33m[\u001b[0m\u001b[1;34m\"has_index_names\"\u001b[0m\u001b[1;33m]\u001b[0m\u001b[1;33m\u001b[0m\u001b[1;33m\u001b[0m\u001b[0m\n\u001b[0;32m    818\u001b[0m \u001b[1;33m\u001b[0m\u001b[0m\n\u001b[1;32m--> 819\u001b[1;33m         \u001b[0mself\u001b[0m\u001b[1;33m.\u001b[0m\u001b[0m_engine\u001b[0m \u001b[1;33m=\u001b[0m \u001b[0mself\u001b[0m\u001b[1;33m.\u001b[0m\u001b[0m_make_engine\u001b[0m\u001b[1;33m(\u001b[0m\u001b[0mself\u001b[0m\u001b[1;33m.\u001b[0m\u001b[0mengine\u001b[0m\u001b[1;33m)\u001b[0m\u001b[1;33m\u001b[0m\u001b[1;33m\u001b[0m\u001b[0m\n\u001b[0m\u001b[0;32m    820\u001b[0m \u001b[1;33m\u001b[0m\u001b[0m\n\u001b[0;32m    821\u001b[0m     \u001b[1;32mdef\u001b[0m \u001b[0mclose\u001b[0m\u001b[1;33m(\u001b[0m\u001b[0mself\u001b[0m\u001b[1;33m)\u001b[0m\u001b[1;33m:\u001b[0m\u001b[1;33m\u001b[0m\u001b[1;33m\u001b[0m\u001b[0m\n",
      "\u001b[1;32m~\\anaconda3\\lib\\site-packages\\pandas\\io\\parsers.py\u001b[0m in \u001b[0;36m_make_engine\u001b[1;34m(self, engine)\u001b[0m\n\u001b[0;32m   1048\u001b[0m             )\n\u001b[0;32m   1049\u001b[0m         \u001b[1;31m# error: Too many arguments for \"ParserBase\"\u001b[0m\u001b[1;33m\u001b[0m\u001b[1;33m\u001b[0m\u001b[1;33m\u001b[0m\u001b[0m\n\u001b[1;32m-> 1050\u001b[1;33m         \u001b[1;32mreturn\u001b[0m \u001b[0mmapping\u001b[0m\u001b[1;33m[\u001b[0m\u001b[0mengine\u001b[0m\u001b[1;33m]\u001b[0m\u001b[1;33m(\u001b[0m\u001b[0mself\u001b[0m\u001b[1;33m.\u001b[0m\u001b[0mf\u001b[0m\u001b[1;33m,\u001b[0m \u001b[1;33m**\u001b[0m\u001b[0mself\u001b[0m\u001b[1;33m.\u001b[0m\u001b[0moptions\u001b[0m\u001b[1;33m)\u001b[0m  \u001b[1;31m# type: ignore[call-arg]\u001b[0m\u001b[1;33m\u001b[0m\u001b[1;33m\u001b[0m\u001b[0m\n\u001b[0m\u001b[0;32m   1051\u001b[0m \u001b[1;33m\u001b[0m\u001b[0m\n\u001b[0;32m   1052\u001b[0m     \u001b[1;32mdef\u001b[0m \u001b[0m_failover_to_python\u001b[0m\u001b[1;33m(\u001b[0m\u001b[0mself\u001b[0m\u001b[1;33m)\u001b[0m\u001b[1;33m:\u001b[0m\u001b[1;33m\u001b[0m\u001b[1;33m\u001b[0m\u001b[0m\n",
      "\u001b[1;32m~\\anaconda3\\lib\\site-packages\\pandas\\io\\parsers.py\u001b[0m in \u001b[0;36m__init__\u001b[1;34m(self, src, **kwds)\u001b[0m\n\u001b[0;32m   1865\u001b[0m \u001b[1;33m\u001b[0m\u001b[0m\n\u001b[0;32m   1866\u001b[0m         \u001b[1;31m# open handles\u001b[0m\u001b[1;33m\u001b[0m\u001b[1;33m\u001b[0m\u001b[1;33m\u001b[0m\u001b[0m\n\u001b[1;32m-> 1867\u001b[1;33m         \u001b[0mself\u001b[0m\u001b[1;33m.\u001b[0m\u001b[0m_open_handles\u001b[0m\u001b[1;33m(\u001b[0m\u001b[0msrc\u001b[0m\u001b[1;33m,\u001b[0m \u001b[0mkwds\u001b[0m\u001b[1;33m)\u001b[0m\u001b[1;33m\u001b[0m\u001b[1;33m\u001b[0m\u001b[0m\n\u001b[0m\u001b[0;32m   1868\u001b[0m         \u001b[1;32massert\u001b[0m \u001b[0mself\u001b[0m\u001b[1;33m.\u001b[0m\u001b[0mhandles\u001b[0m \u001b[1;32mis\u001b[0m \u001b[1;32mnot\u001b[0m \u001b[1;32mNone\u001b[0m\u001b[1;33m\u001b[0m\u001b[1;33m\u001b[0m\u001b[0m\n\u001b[0;32m   1869\u001b[0m         \u001b[1;32mfor\u001b[0m \u001b[0mkey\u001b[0m \u001b[1;32min\u001b[0m \u001b[1;33m(\u001b[0m\u001b[1;34m\"storage_options\"\u001b[0m\u001b[1;33m,\u001b[0m \u001b[1;34m\"encoding\"\u001b[0m\u001b[1;33m,\u001b[0m \u001b[1;34m\"memory_map\"\u001b[0m\u001b[1;33m,\u001b[0m \u001b[1;34m\"compression\"\u001b[0m\u001b[1;33m)\u001b[0m\u001b[1;33m:\u001b[0m\u001b[1;33m\u001b[0m\u001b[1;33m\u001b[0m\u001b[0m\n",
      "\u001b[1;32m~\\anaconda3\\lib\\site-packages\\pandas\\io\\parsers.py\u001b[0m in \u001b[0;36m_open_handles\u001b[1;34m(self, src, kwds)\u001b[0m\n\u001b[0;32m   1360\u001b[0m         \u001b[0mLet\u001b[0m \u001b[0mthe\u001b[0m \u001b[0mreaders\u001b[0m \u001b[0mopen\u001b[0m \u001b[0mIOHanldes\u001b[0m \u001b[0mafter\u001b[0m \u001b[0mthey\u001b[0m \u001b[0mare\u001b[0m \u001b[0mdone\u001b[0m \u001b[1;32mwith\u001b[0m \u001b[0mtheir\u001b[0m \u001b[0mpotential\u001b[0m \u001b[0mraises\u001b[0m\u001b[1;33m.\u001b[0m\u001b[1;33m\u001b[0m\u001b[1;33m\u001b[0m\u001b[0m\n\u001b[0;32m   1361\u001b[0m         \"\"\"\n\u001b[1;32m-> 1362\u001b[1;33m         self.handles = get_handle(\n\u001b[0m\u001b[0;32m   1363\u001b[0m             \u001b[0msrc\u001b[0m\u001b[1;33m,\u001b[0m\u001b[1;33m\u001b[0m\u001b[1;33m\u001b[0m\u001b[0m\n\u001b[0;32m   1364\u001b[0m             \u001b[1;34m\"r\"\u001b[0m\u001b[1;33m,\u001b[0m\u001b[1;33m\u001b[0m\u001b[1;33m\u001b[0m\u001b[0m\n",
      "\u001b[1;32m~\\anaconda3\\lib\\site-packages\\pandas\\io\\common.py\u001b[0m in \u001b[0;36mget_handle\u001b[1;34m(path_or_buf, mode, encoding, compression, memory_map, is_text, errors, storage_options)\u001b[0m\n\u001b[0;32m    640\u001b[0m                 \u001b[0merrors\u001b[0m \u001b[1;33m=\u001b[0m \u001b[1;34m\"replace\"\u001b[0m\u001b[1;33m\u001b[0m\u001b[1;33m\u001b[0m\u001b[0m\n\u001b[0;32m    641\u001b[0m             \u001b[1;31m# Encoding\u001b[0m\u001b[1;33m\u001b[0m\u001b[1;33m\u001b[0m\u001b[1;33m\u001b[0m\u001b[0m\n\u001b[1;32m--> 642\u001b[1;33m             handle = open(\n\u001b[0m\u001b[0;32m    643\u001b[0m                 \u001b[0mhandle\u001b[0m\u001b[1;33m,\u001b[0m\u001b[1;33m\u001b[0m\u001b[1;33m\u001b[0m\u001b[0m\n\u001b[0;32m    644\u001b[0m                 \u001b[0mioargs\u001b[0m\u001b[1;33m.\u001b[0m\u001b[0mmode\u001b[0m\u001b[1;33m,\u001b[0m\u001b[1;33m\u001b[0m\u001b[1;33m\u001b[0m\u001b[0m\n",
      "\u001b[1;31mFileNotFoundError\u001b[0m: [Errno 2] No such file or directory: 'study mart.csv'"
     ]
    }
   ],
   "source": [
    "import pandas as pd             #library can be renamed\n",
    "\n",
    "df = pd.read_csv('study mart.csv')\n",
    "\n",
    "df.head()     #for showing full rows\n",
    "df.shape     #will show output like(row,column)\n",
    "df.info()\n"
   ]
  },
  {
   "cell_type": "code",
   "execution_count": null,
   "id": "e14881d5",
   "metadata": {},
   "outputs": [],
   "source": [
    "df = pd.read_csv('study-mart.csv')"
   ]
  },
  {
   "cell_type": "code",
   "execution_count": null,
   "id": "faa5547b",
   "metadata": {},
   "outputs": [],
   "source": [
    "# Binary Types"
   ]
  },
  {
   "cell_type": "code",
   "execution_count": null,
   "id": "4f4fbe79",
   "metadata": {},
   "outputs": [],
   "source": [
    "byte_arr = bytearray('ABCDEF','UTF-8')\n",
    "type(byte_arr)"
   ]
  },
  {
   "cell_type": "code",
   "execution_count": null,
   "id": "62b90ccf",
   "metadata": {},
   "outputs": [],
   "source": [
    "byte_arr"
   ]
  },
  {
   "cell_type": "code",
   "execution_count": null,
   "id": "e2bdf6f4",
   "metadata": {},
   "outputs": [],
   "source": [
    "memoryview(byte_arr)"
   ]
  },
  {
   "cell_type": "code",
   "execution_count": null,
   "id": "3b168726",
   "metadata": {},
   "outputs": [],
   "source": [
    "memoryview(byte_arr)[0]"
   ]
  },
  {
   "cell_type": "code",
   "execution_count": 164,
   "id": "7415408f",
   "metadata": {},
   "outputs": [
    {
     "ename": "NameError",
     "evalue": "name 'byte_arr' is not defined",
     "output_type": "error",
     "traceback": [
      "\u001b[1;31m---------------------------------------------------------------------------\u001b[0m",
      "\u001b[1;31mNameError\u001b[0m                                 Traceback (most recent call last)",
      "\u001b[1;32m<ipython-input-164-bacbf0545a61>\u001b[0m in \u001b[0;36m<module>\u001b[1;34m\u001b[0m\n\u001b[1;32m----> 1\u001b[1;33m \u001b[0mmv\u001b[0m \u001b[1;33m=\u001b[0m \u001b[0mmemoryview\u001b[0m\u001b[1;33m(\u001b[0m\u001b[0mbyte_arr\u001b[0m\u001b[1;33m)\u001b[0m\u001b[1;33m\u001b[0m\u001b[1;33m\u001b[0m\u001b[0m\n\u001b[0m\u001b[0;32m      2\u001b[0m \u001b[0mmv\u001b[0m\u001b[1;33m[\u001b[0m\u001b[1;36m0\u001b[0m\u001b[1;33m]\u001b[0m \u001b[1;33m=\u001b[0m \u001b[1;36m97\u001b[0m\u001b[1;33m\u001b[0m\u001b[1;33m\u001b[0m\u001b[0m\n\u001b[0;32m      3\u001b[0m \u001b[0mbyte_arr\u001b[0m\u001b[1;33m\u001b[0m\u001b[1;33m\u001b[0m\u001b[0m\n",
      "\u001b[1;31mNameError\u001b[0m: name 'byte_arr' is not defined"
     ]
    }
   ],
   "source": [
    "mv = memoryview(byte_arr)\n",
    "mv[0] = 97\n",
    "byte_arr\n"
   ]
  },
  {
   "cell_type": "code",
   "execution_count": 165,
   "id": "c719d34d",
   "metadata": {},
   "outputs": [
    {
     "ename": "NameError",
     "evalue": "name 'byte_arr' is not defined",
     "output_type": "error",
     "traceback": [
      "\u001b[1;31m---------------------------------------------------------------------------\u001b[0m",
      "\u001b[1;31mNameError\u001b[0m                                 Traceback (most recent call last)",
      "\u001b[1;32m<ipython-input-165-66233ab7e095>\u001b[0m in \u001b[0;36m<module>\u001b[1;34m\u001b[0m\n\u001b[1;32m----> 1\u001b[1;33m \u001b[0mbyte_arr\u001b[0m\u001b[1;33m\u001b[0m\u001b[1;33m\u001b[0m\u001b[0m\n\u001b[0m",
      "\u001b[1;31mNameError\u001b[0m: name 'byte_arr' is not defined"
     ]
    }
   ],
   "source": [
    "byte_arr"
   ]
  },
  {
   "cell_type": "code",
   "execution_count": 166,
   "id": "9d16c9ec",
   "metadata": {},
   "outputs": [
    {
     "ename": "NameError",
     "evalue": "name 'byte_arr' is not defined",
     "output_type": "error",
     "traceback": [
      "\u001b[1;31m---------------------------------------------------------------------------\u001b[0m",
      "\u001b[1;31mNameError\u001b[0m                                 Traceback (most recent call last)",
      "\u001b[1;32m<ipython-input-166-0a98ab14faaf>\u001b[0m in \u001b[0;36m<module>\u001b[1;34m\u001b[0m\n\u001b[1;32m----> 1\u001b[1;33m \u001b[0mmemoryview\u001b[0m\u001b[1;33m(\u001b[0m\u001b[0mbyte_arr\u001b[0m\u001b[1;33m)\u001b[0m\u001b[1;33m[\u001b[0m\u001b[1;36m0\u001b[0m\u001b[1;33m]\u001b[0m\u001b[1;33m\u001b[0m\u001b[1;33m\u001b[0m\u001b[0m\n\u001b[0m",
      "\u001b[1;31mNameError\u001b[0m: name 'byte_arr' is not defined"
     ]
    }
   ],
   "source": [
    "memoryview(byte_arr)[0]"
   ]
  },
  {
   "cell_type": "code",
   "execution_count": null,
   "id": "6415813c",
   "metadata": {},
   "outputs": [],
   "source": []
  },
  {
   "cell_type": "markdown",
   "id": "5a126c66",
   "metadata": {},
   "source": [
    "# Operators In Python"
   ]
  },
  {
   "cell_type": "code",
   "execution_count": 167,
   "id": "78fab966",
   "metadata": {},
   "outputs": [
    {
     "data": {
      "text/plain": [
       "19"
      ]
     },
     "execution_count": 167,
     "metadata": {},
     "output_type": "execute_result"
    }
   ],
   "source": [
    "'''x==y works when it compares the values of x and y not their memory addresses\n",
    "but x is y works when both of their memory addresses are same'''\n",
    "\n",
    "#Python Arithmetic Operators\n",
    "# Assigning the Variables\n",
    "\n",
    "x = 15\n",
    "y = 4\n",
    "z = 3\n",
    "\n",
    "x+y"
   ]
  },
  {
   "cell_type": "code",
   "execution_count": 168,
   "id": "a8a23e54",
   "metadata": {},
   "outputs": [
    {
     "data": {
      "text/plain": [
       "11"
      ]
     },
     "execution_count": 168,
     "metadata": {},
     "output_type": "execute_result"
    }
   ],
   "source": [
    "x-y"
   ]
  },
  {
   "cell_type": "code",
   "execution_count": 169,
   "id": "b27c0cea",
   "metadata": {},
   "outputs": [
    {
     "data": {
      "text/plain": [
       "3.75"
      ]
     },
     "execution_count": 169,
     "metadata": {},
     "output_type": "execute_result"
    }
   ],
   "source": [
    "x/y"
   ]
  },
  {
   "cell_type": "code",
   "execution_count": 170,
   "id": "1191c193",
   "metadata": {},
   "outputs": [
    {
     "data": {
      "text/plain": [
       "225"
      ]
     },
     "execution_count": 170,
     "metadata": {},
     "output_type": "execute_result"
    }
   ],
   "source": [
    "x*x"
   ]
  },
  {
   "cell_type": "code",
   "execution_count": 171,
   "id": "1c9aa21b",
   "metadata": {},
   "outputs": [
    {
     "data": {
      "text/plain": [
       "50625"
      ]
     },
     "execution_count": 171,
     "metadata": {},
     "output_type": "execute_result"
    }
   ],
   "source": [
    "15*15*15*15"
   ]
  },
  {
   "cell_type": "code",
   "execution_count": 172,
   "id": "e05ec85a",
   "metadata": {},
   "outputs": [
    {
     "data": {
      "text/plain": [
       "50625"
      ]
     },
     "execution_count": 172,
     "metadata": {},
     "output_type": "execute_result"
    }
   ],
   "source": [
    "x**y"
   ]
  },
  {
   "cell_type": "code",
   "execution_count": 173,
   "id": "8f1fabfc",
   "metadata": {},
   "outputs": [
    {
     "data": {
      "text/plain": [
       "3.75"
      ]
     },
     "execution_count": 173,
     "metadata": {},
     "output_type": "execute_result"
    }
   ],
   "source": [
    "x / y"
   ]
  },
  {
   "cell_type": "code",
   "execution_count": 174,
   "id": "f3cf0a49",
   "metadata": {},
   "outputs": [
    {
     "data": {
      "text/plain": [
       "3"
      ]
     },
     "execution_count": 174,
     "metadata": {},
     "output_type": "execute_result"
    }
   ],
   "source": [
    "x // y # flooring(point will be removed)"
   ]
  },
  {
   "cell_type": "code",
   "execution_count": 175,
   "id": "2401a44b",
   "metadata": {},
   "outputs": [
    {
     "data": {
      "text/plain": [
       "3"
      ]
     },
     "execution_count": 175,
     "metadata": {},
     "output_type": "execute_result"
    }
   ],
   "source": [
    "import math   #flooring\n",
    "math.floor(x/y)"
   ]
  },
  {
   "cell_type": "code",
   "execution_count": 176,
   "id": "e0b59fdd",
   "metadata": {},
   "outputs": [
    {
     "data": {
      "text/plain": [
       "4"
      ]
     },
     "execution_count": 176,
     "metadata": {},
     "output_type": "execute_result"
    }
   ],
   "source": [
    "math.ceil(x/y)    #Round figure of 3.75=4"
   ]
  },
  {
   "cell_type": "code",
   "execution_count": 177,
   "id": "277be975",
   "metadata": {},
   "outputs": [
    {
     "data": {
      "text/plain": [
       "True"
      ]
     },
     "execution_count": 177,
     "metadata": {},
     "output_type": "execute_result"
    }
   ],
   "source": [
    "#Python Identity Operators\n",
    "\n",
    "x = 10\n",
    "y = 10\n",
    "x is y"
   ]
  },
  {
   "cell_type": "code",
   "execution_count": 178,
   "id": "7e3961e5",
   "metadata": {},
   "outputs": [
    {
     "data": {
      "text/plain": [
       "True"
      ]
     },
     "execution_count": 178,
     "metadata": {},
     "output_type": "execute_result"
    }
   ],
   "source": [
    "x == y     # Comparison operator"
   ]
  },
  {
   "cell_type": "code",
   "execution_count": 179,
   "id": "db7f22ac",
   "metadata": {},
   "outputs": [],
   "source": [
    "x = 12345\n",
    "y = x\n",
    "z = 12345"
   ]
  },
  {
   "cell_type": "code",
   "execution_count": 180,
   "id": "ec6d1299",
   "metadata": {},
   "outputs": [
    {
     "data": {
      "text/plain": [
       "True"
      ]
     },
     "execution_count": 180,
     "metadata": {},
     "output_type": "execute_result"
    }
   ],
   "source": [
    "x is y"
   ]
  },
  {
   "cell_type": "code",
   "execution_count": 181,
   "id": "efc83292",
   "metadata": {},
   "outputs": [
    {
     "data": {
      "text/plain": [
       "False"
      ]
     },
     "execution_count": 181,
     "metadata": {},
     "output_type": "execute_result"
    }
   ],
   "source": [
    "x is z    # Here the address of x and z are compared;Upto 3 digits the address will match but after that memory address changes."
   ]
  },
  {
   "cell_type": "code",
   "execution_count": 182,
   "id": "5d745210",
   "metadata": {},
   "outputs": [
    {
     "data": {
      "text/plain": [
       "1779634501392"
      ]
     },
     "execution_count": 182,
     "metadata": {},
     "output_type": "execute_result"
    }
   ],
   "source": [
    "id(x)"
   ]
  },
  {
   "cell_type": "code",
   "execution_count": 183,
   "id": "58bee4e8",
   "metadata": {},
   "outputs": [
    {
     "data": {
      "text/plain": [
       "1779634501392"
      ]
     },
     "execution_count": 183,
     "metadata": {},
     "output_type": "execute_result"
    }
   ],
   "source": [
    "id(y)"
   ]
  },
  {
   "cell_type": "code",
   "execution_count": 184,
   "id": "7dfa88e2",
   "metadata": {},
   "outputs": [
    {
     "data": {
      "text/plain": [
       "1779634502128"
      ]
     },
     "execution_count": 184,
     "metadata": {},
     "output_type": "execute_result"
    }
   ],
   "source": [
    "id(z)"
   ]
  },
  {
   "cell_type": "code",
   "execution_count": 185,
   "id": "261a9ee2",
   "metadata": {},
   "outputs": [],
   "source": [
    "x1= 159087\n",
    "y1 = 159087\n",
    "z1 = y1"
   ]
  },
  {
   "cell_type": "code",
   "execution_count": 186,
   "id": "84037483",
   "metadata": {},
   "outputs": [
    {
     "data": {
      "text/plain": [
       "False"
      ]
     },
     "execution_count": 186,
     "metadata": {},
     "output_type": "execute_result"
    }
   ],
   "source": [
    "x1 is z1"
   ]
  },
  {
   "cell_type": "code",
   "execution_count": 187,
   "id": "2bfc7993",
   "metadata": {},
   "outputs": [
    {
     "data": {
      "text/plain": [
       "False"
      ]
     },
     "execution_count": 187,
     "metadata": {},
     "output_type": "execute_result"
    }
   ],
   "source": [
    "z1 is x1    # Comparison between memory address"
   ]
  },
  {
   "cell_type": "code",
   "execution_count": 188,
   "id": "e45946f6",
   "metadata": {},
   "outputs": [
    {
     "data": {
      "text/plain": [
       "True"
      ]
     },
     "execution_count": 188,
     "metadata": {},
     "output_type": "execute_result"
    }
   ],
   "source": [
    "x1 == z1      # Comparison between values"
   ]
  },
  {
   "cell_type": "code",
   "execution_count": 189,
   "id": "e01e3f6e",
   "metadata": {},
   "outputs": [
    {
     "data": {
      "text/plain": [
       "True"
      ]
     },
     "execution_count": 189,
     "metadata": {},
     "output_type": "execute_result"
    }
   ],
   "source": [
    "x1 is not z1"
   ]
  },
  {
   "cell_type": "code",
   "execution_count": 190,
   "id": "8385ddf2",
   "metadata": {},
   "outputs": [
    {
     "data": {
      "text/plain": [
       "True"
      ]
     },
     "execution_count": 190,
     "metadata": {},
     "output_type": "execute_result"
    }
   ],
   "source": [
    "#Membership operator\n",
    "\n",
    "'''In order to access a member in a sequence----in/not in'''\n",
    "\n",
    "list1 = [1,2,3,4,5,6,7,8]\n",
    "\n",
    "1 in list1"
   ]
  },
  {
   "cell_type": "code",
   "execution_count": 191,
   "id": "ecbdf180",
   "metadata": {},
   "outputs": [
    {
     "data": {
      "text/plain": [
       "False"
      ]
     },
     "execution_count": 191,
     "metadata": {},
     "output_type": "execute_result"
    }
   ],
   "source": [
    "10 in list1"
   ]
  },
  {
   "cell_type": "code",
   "execution_count": 192,
   "id": "d97dab95",
   "metadata": {},
   "outputs": [
    {
     "data": {
      "text/plain": [
       "True"
      ]
     },
     "execution_count": 192,
     "metadata": {},
     "output_type": "execute_result"
    }
   ],
   "source": [
    "10 not in list1"
   ]
  },
  {
   "cell_type": "code",
   "execution_count": 193,
   "id": "2a6347b1",
   "metadata": {},
   "outputs": [
    {
     "data": {
      "text/plain": [
       "True"
      ]
     },
     "execution_count": 193,
     "metadata": {},
     "output_type": "execute_result"
    }
   ],
   "source": [
    "s1 = {1,2,3,4,5}\n",
    "1 in s1"
   ]
  },
  {
   "cell_type": "code",
   "execution_count": 194,
   "id": "d19bf746",
   "metadata": {},
   "outputs": [
    {
     "data": {
      "text/plain": [
       "True"
      ]
     },
     "execution_count": 194,
     "metadata": {},
     "output_type": "execute_result"
    }
   ],
   "source": [
    "10 not in s1"
   ]
  },
  {
   "cell_type": "code",
   "execution_count": 195,
   "id": "574d9b43",
   "metadata": {},
   "outputs": [
    {
     "data": {
      "text/plain": [
       "False"
      ]
     },
     "execution_count": 195,
     "metadata": {},
     "output_type": "execute_result"
    }
   ],
   "source": [
    "st1 = \"Learn data science\"\n",
    "\"Data\" in st1"
   ]
  },
  {
   "cell_type": "code",
   "execution_count": 196,
   "id": "15adf267",
   "metadata": {},
   "outputs": [
    {
     "ename": "SyntaxError",
     "evalue": "leading zeros in decimal integer literals are not permitted; use an 0o prefix for octal integers (<ipython-input-196-fec7fa5149a0>, line 4)",
     "output_type": "error",
     "traceback": [
      "\u001b[1;36m  File \u001b[1;32m\"<ipython-input-196-fec7fa5149a0>\"\u001b[1;36m, line \u001b[1;32m4\u001b[0m\n\u001b[1;33m    y = 0101  #5\u001b[0m\n\u001b[1;37m           ^\u001b[0m\n\u001b[1;31mSyntaxError\u001b[0m\u001b[1;31m:\u001b[0m leading zeros in decimal integer literals are not permitted; use an 0o prefix for octal integers\n"
     ]
    }
   ],
   "source": [
    "#Python Bitwise Operator\n",
    "\n",
    "x = 1010 #10     #yes = 1, No = 0\n",
    "y = 0101  #5\n",
    "\n",
    "x & y = 0000\n",
    "x  y = 1111\n"
   ]
  },
  {
   "cell_type": "code",
   "execution_count": 197,
   "id": "6e88e755",
   "metadata": {},
   "outputs": [
    {
     "data": {
      "text/plain": [
       "0"
      ]
     },
     "execution_count": 197,
     "metadata": {},
     "output_type": "execute_result"
    }
   ],
   "source": [
    "x = 10\n",
    "y = 5\n",
    "\n",
    "x & y"
   ]
  },
  {
   "cell_type": "code",
   "execution_count": 198,
   "id": "0e972f8e",
   "metadata": {},
   "outputs": [
    {
     "ename": "SyntaxError",
     "evalue": "invalid syntax (<ipython-input-198-4e325ea2d3d7>, line 1)",
     "output_type": "error",
     "traceback": [
      "\u001b[1;36m  File \u001b[1;32m\"<ipython-input-198-4e325ea2d3d7>\"\u001b[1;36m, line \u001b[1;32m1\u001b[0m\n\u001b[1;33m    x  y\u001b[0m\n\u001b[1;37m       ^\u001b[0m\n\u001b[1;31mSyntaxError\u001b[0m\u001b[1;31m:\u001b[0m invalid syntax\n"
     ]
    }
   ],
   "source": [
    "x  y\n"
   ]
  },
  {
   "cell_type": "code",
   "execution_count": 199,
   "id": "e123020c",
   "metadata": {},
   "outputs": [
    {
     "data": {
      "text/plain": [
       "True"
      ]
     },
     "execution_count": 199,
     "metadata": {},
     "output_type": "execute_result"
    }
   ],
   "source": [
    "#Comparison Operators\n",
    "\n",
    "\n",
    "10 == 10"
   ]
  },
  {
   "cell_type": "code",
   "execution_count": 200,
   "id": "9377f6b3",
   "metadata": {},
   "outputs": [
    {
     "data": {
      "text/plain": [
       "False"
      ]
     },
     "execution_count": 200,
     "metadata": {},
     "output_type": "execute_result"
    }
   ],
   "source": [
    "10 > 10"
   ]
  },
  {
   "cell_type": "code",
   "execution_count": 201,
   "id": "fde7caa2",
   "metadata": {},
   "outputs": [
    {
     "data": {
      "text/plain": [
       "True"
      ]
     },
     "execution_count": 201,
     "metadata": {},
     "output_type": "execute_result"
    }
   ],
   "source": [
    "10>=5"
   ]
  },
  {
   "cell_type": "code",
   "execution_count": 202,
   "id": "7abc9b6a",
   "metadata": {},
   "outputs": [
    {
     "data": {
      "text/plain": [
       "True"
      ]
     },
     "execution_count": 202,
     "metadata": {},
     "output_type": "execute_result"
    }
   ],
   "source": [
    "#Python Logical Operators\n",
    "\n",
    "10>4 and 10<100"
   ]
  },
  {
   "cell_type": "code",
   "execution_count": 203,
   "id": "a7cccb0e",
   "metadata": {},
   "outputs": [
    {
     "data": {
      "text/plain": [
       "True"
      ]
     },
     "execution_count": 203,
     "metadata": {},
     "output_type": "execute_result"
    }
   ],
   "source": [
    "10>4 or 10<3"
   ]
  },
  {
   "cell_type": "code",
   "execution_count": 204,
   "id": "65dbfab7",
   "metadata": {},
   "outputs": [
    {
     "data": {
      "text/plain": [
       "False"
      ]
     },
     "execution_count": 204,
     "metadata": {},
     "output_type": "execute_result"
    }
   ],
   "source": [
    "not(10>4 or 10<3)    #not means opposite"
   ]
  },
  {
   "cell_type": "code",
   "execution_count": 205,
   "id": "8f91dacf",
   "metadata": {},
   "outputs": [],
   "source": [
    "#Assignment Operators"
   ]
  },
  {
   "cell_type": "code",
   "execution_count": 206,
   "id": "9f2f57e0",
   "metadata": {},
   "outputs": [
    {
     "data": {
      "text/plain": [
       "13"
      ]
     },
     "execution_count": 206,
     "metadata": {},
     "output_type": "execute_result"
    }
   ],
   "source": [
    "x = 10\n",
    "x += 3\n",
    "\n",
    "x"
   ]
  },
  {
   "cell_type": "code",
   "execution_count": 207,
   "id": "84fc1c5e",
   "metadata": {},
   "outputs": [
    {
     "data": {
      "text/plain": [
       "10"
      ]
     },
     "execution_count": 207,
     "metadata": {},
     "output_type": "execute_result"
    }
   ],
   "source": [
    "x-=3\n",
    "x"
   ]
  },
  {
   "cell_type": "code",
   "execution_count": 208,
   "id": "186d22ae",
   "metadata": {},
   "outputs": [
    {
     "data": {
      "text/plain": [
       "30"
      ]
     },
     "execution_count": 208,
     "metadata": {},
     "output_type": "execute_result"
    }
   ],
   "source": [
    "x*=3\n",
    "x"
   ]
  },
  {
   "cell_type": "code",
   "execution_count": 209,
   "id": "f470acc8",
   "metadata": {},
   "outputs": [
    {
     "data": {
      "text/plain": [
       "8"
      ]
     },
     "execution_count": 209,
     "metadata": {},
     "output_type": "execute_result"
    }
   ],
   "source": [
    "x = 2\n",
    "x**=3\n",
    "x"
   ]
  },
  {
   "cell_type": "code",
   "execution_count": 210,
   "id": "b1579c2a",
   "metadata": {},
   "outputs": [
    {
     "data": {
      "text/plain": [
       "8"
      ]
     },
     "execution_count": 210,
     "metadata": {},
     "output_type": "execute_result"
    }
   ],
   "source": [
    "2**3"
   ]
  },
  {
   "cell_type": "markdown",
   "id": "aa81c641",
   "metadata": {},
   "source": [
    "# Python Conditions:if,else,elif"
   ]
  },
  {
   "cell_type": "code",
   "execution_count": null,
   "id": "5154a7e3",
   "metadata": {},
   "outputs": [],
   "source": [
    "#If-else statements in python:\n",
    "\n",
    "x = 50\n",
    "y = 100\n",
    "\n",
    "if x>y:\n",
    "    print('x is greater than y')\n",
    "else:\n",
    "    print('y is greater than x')\n",
    "    print('data science')\n",
    "    if x != y:                                #Nested if \n",
    "        print('Not equal')"
   ]
  },
  {
   "cell_type": "code",
   "execution_count": null,
   "id": "0825161b",
   "metadata": {},
   "outputs": [],
   "source": [
    "x = input('Enter the value of x: ')\n",
    "y = input('Enter the value of y: ')"
   ]
  },
  {
   "cell_type": "code",
   "execution_count": null,
   "id": "1f9b9061",
   "metadata": {},
   "outputs": [],
   "source": [
    "if x>y:\n",
    "    print('x is greater than y')     #gap is equal to tab called Indentation\n",
    "    \n",
    "else:\n",
    "    print('y is greater than x')"
   ]
  },
  {
   "cell_type": "code",
   "execution_count": null,
   "id": "b3847d21",
   "metadata": {},
   "outputs": [],
   "source": [
    "#Python Indentation Rules\n",
    "\n",
    "\n",
    "data = 'Data science'\n",
    "if data == 'data science':\n",
    "    print('You will have a great future!')\n",
    "    \n",
    "else:\n",
    "    print('Do not worry!You can shine from anything!')\n",
    "          \n",
    "print('Learn data science whole-heartedly')"
   ]
  },
  {
   "cell_type": "code",
   "execution_count": null,
   "id": "985c615e",
   "metadata": {},
   "outputs": [],
   "source": [
    "x = float(input('Enter your first num: '))\n",
    "y = float(input('Enter your second num: '))\n",
    "\n",
    "if x % y == 0:\n",
    "    print('x is divisible by y')\n",
    "\n",
    "else:\n",
    "    print('Not divisible')"
   ]
  },
  {
   "cell_type": "code",
   "execution_count": null,
   "id": "e28fe8a4",
   "metadata": {},
   "outputs": [],
   "source": [
    "x = float(input('Enter your number: '))\n",
    "if x % 2 == 0:\n",
    "    if x % 5 == 0:\n",
    "        print('x is divisible by both 2 and 5')\n",
    "    \n",
    "    else:\n",
    "        print('x is only divisible by 2')\n",
    "        \n",
    "else:\n",
    "    print('Not divisible')\n",
    "    "
   ]
  },
  {
   "cell_type": "code",
   "execution_count": null,
   "id": "ededd65b",
   "metadata": {},
   "outputs": [],
   "source": [
    "#To Import any image \n",
    "\n",
    "from IPython.display import Image\n",
    "Image(\"electricity.png\")"
   ]
  },
  {
   "cell_type": "code",
   "execution_count": null,
   "id": "cf0266ff",
   "metadata": {},
   "outputs": [],
   "source": [
    "net_units = float(input('Enter your usage of unit: '))\n",
    "\n",
    "if net_units <= 100:\n",
    "    print('You have no charge.Thank you!')\n",
    "\n",
    "elif net_units > 100 and net_units <= 200:\n",
    "    y = (net_units - 100) * 5\n",
    "    print('You bill is',y)\n",
    "    \n",
    "else:\n",
    "    z = (net_units - 200)*10 + 500\n",
    "    print('Your bill is',z)\n",
    "    "
   ]
  },
  {
   "cell_type": "code",
   "execution_count": null,
   "id": "f2e6e136",
   "metadata": {},
   "outputs": [],
   "source": [
    "from IPython.display import Image\n",
    "Image('Assignment1.png')\n"
   ]
  },
  {
   "cell_type": "code",
   "execution_count": null,
   "id": "9f6d31e5",
   "metadata": {},
   "outputs": [],
   "source": [
    "# Assignment No:1\n",
    "\n",
    "len = float(input('Enter the length of a rectangle: '))\n",
    "breadth = float(input('Enter the breadth of a rectangle: '))\n",
    "\n",
    "if len == breadth:\n",
    "    print('Yes, It is a square')\n",
    "else:\n",
    "    print('It is not a square')"
   ]
  },
  {
   "cell_type": "code",
   "execution_count": null,
   "id": "70fc7b90",
   "metadata": {},
   "outputs": [],
   "source": [
    "# Assignment No:02\n",
    "\n",
    "num_1 = int(input('Enter 1st Number: '))\n",
    "num_2 = int(input('Enter 2nd Number: '))\n",
    "num_3 = int(input('Enter 3rd Number: '))\n",
    "\n",
    "if (num_1 > num_2)  and  (num_1 > num_3):\n",
    "    print('num_1 is the largest')\n",
    "\n",
    "elif (num_2 > num_1)  and (num_2 > num_3):\n",
    "    print('num_2 is the largest value')\n",
    "    \n",
    "else:\n",
    "    print('num_3 is the largest value')"
   ]
  },
  {
   "cell_type": "code",
   "execution_count": null,
   "id": "ff3c72d0",
   "metadata": {},
   "outputs": [],
   "source": [
    "num_1 = int(input('Enter 1st Number: '))\n",
    "num_2 = int(input('Enter 2nd Number: '))\n",
    "num_3 = int(input('Enter 3rd Number: '))\n",
    "\n",
    "if (num_1 > num_2)  and  (num_1 > num_3):\n",
    "    largest = num_1\n",
    "\n",
    "elif (num_2 > num_1)  and (num_2 > num_3):\n",
    "    largest = num_2\n",
    "    \n",
    "else:\n",
    "    largest = num_3\n",
    "    \n",
    "print('The largest number is', largest)"
   ]
  },
  {
   "cell_type": "code",
   "execution_count": null,
   "id": "5e34a8fa",
   "metadata": {},
   "outputs": [],
   "source": [
    "Total_class = int(input('Number of total class: '))\n",
    "Attended = int(input('Number of his/her attended class: '))\n",
    "\n",
    "percent_of_attendance = (Attended/Total_class) * 100\n",
    "\n",
    "if percent_of_attendance >= 75:\n",
    "    print(' Allowed to sit in exam')\n",
    "    \n",
    "else:\n",
    "    print('Not allowed to sit in exam')"
   ]
  },
  {
   "cell_type": "code",
   "execution_count": null,
   "id": "068a0c1c",
   "metadata": {},
   "outputs": [],
   "source": [
    "marks = float(input('Enter your marks: '))\n",
    "\n",
    "\n",
    "if (marks >= 80) and (marks <= 89):\n",
    "    print('Your grade is: A')\n",
    "elif (marks >= 60) and (marks <= 79):\n",
    "    print('Your grade is: B')\n",
    "elif (marks >= 50) and (marks <= 59):\n",
    "    print('Your grade is: C')\n",
    "elif (marks >= 45) and (marks <= 49):\n",
    "    print('Your grade is: D')\n",
    "elif (marks >= 25) and (marks <= 44):\n",
    "    print('Your grade is: E')\n",
    "elif marks < 25:\n",
    "    print('Your grade is: F')\n",
    "\n",
    "else:\n",
    "    print('Your grade is: A+')"
   ]
  },
  {
   "cell_type": "markdown",
   "id": "58dfe73f",
   "metadata": {},
   "source": [
    "# For Loop"
   ]
  },
  {
   "cell_type": "code",
   "execution_count": null,
   "id": "02be0d00",
   "metadata": {},
   "outputs": [],
   "source": [
    "#Loop is used for any repititive task\n",
    "\n",
    "data = 'python'"
   ]
  },
  {
   "cell_type": "code",
   "execution_count": null,
   "id": "fc14129b",
   "metadata": {},
   "outputs": [],
   "source": [
    "data[0]"
   ]
  },
  {
   "cell_type": "code",
   "execution_count": null,
   "id": "e0f4827b",
   "metadata": {},
   "outputs": [],
   "source": [
    "data[-1]"
   ]
  },
  {
   "cell_type": "code",
   "execution_count": null,
   "id": "17ea98c6",
   "metadata": {},
   "outputs": [],
   "source": [
    "# for any_variable_name in data\n",
    "\n",
    "for x in data:\n",
    "    print(x)"
   ]
  },
  {
   "cell_type": "code",
   "execution_count": null,
   "id": "23b43fc6",
   "metadata": {},
   "outputs": [],
   "source": [
    "for x in data:\n",
    "    print('x')"
   ]
  },
  {
   "cell_type": "code",
   "execution_count": null,
   "id": "c5e3eafc",
   "metadata": {},
   "outputs": [],
   "source": [
    "for x in data:\n",
    "    print(x,'x')"
   ]
  },
  {
   "cell_type": "code",
   "execution_count": null,
   "id": "54f2f615",
   "metadata": {},
   "outputs": [],
   "source": [
    "range(10)      #range starts from 0 to 9"
   ]
  },
  {
   "cell_type": "code",
   "execution_count": null,
   "id": "e14f9486",
   "metadata": {},
   "outputs": [],
   "source": [
    "# OR\n",
    "\n",
    "for x in range(len(data)):       #Range = length of data\n",
    "    print(data[x])               #Every item of data will be printed and each item is in x variable so print(data[x])\n",
    "                                  "
   ]
  },
  {
   "cell_type": "code",
   "execution_count": null,
   "id": "9d756b2b",
   "metadata": {},
   "outputs": [],
   "source": [
    "len(data)"
   ]
  },
  {
   "cell_type": "code",
   "execution_count": null,
   "id": "4a26d14d",
   "metadata": {},
   "outputs": [],
   "source": [
    "for x in range(6):\n",
    "    print(data[x])"
   ]
  },
  {
   "cell_type": "code",
   "execution_count": null,
   "id": "2075f267",
   "metadata": {},
   "outputs": [],
   "source": [
    "data = 'I love data science so much'\n",
    "\n",
    "for x in range(len(data)):\n",
    "    print(data[x])"
   ]
  },
  {
   "cell_type": "code",
   "execution_count": null,
   "id": "f591f1d3",
   "metadata": {},
   "outputs": [],
   "source": [
    "data = 'I love data science so much'\n",
    "data = data.split()"
   ]
  },
  {
   "cell_type": "code",
   "execution_count": null,
   "id": "70889519",
   "metadata": {},
   "outputs": [],
   "source": [
    "data"
   ]
  },
  {
   "cell_type": "code",
   "execution_count": null,
   "id": "83f89d46",
   "metadata": {},
   "outputs": [],
   "source": [
    "for x in range(len(data)):\n",
    "    print(data[x],x)"
   ]
  },
  {
   "cell_type": "code",
   "execution_count": null,
   "id": "b5115034",
   "metadata": {},
   "outputs": [],
   "source": [
    "for i in range(10):\n",
    "    print('Data Science', i)"
   ]
  },
  {
   "cell_type": "code",
   "execution_count": null,
   "id": "89258c93",
   "metadata": {
    "scrolled": true
   },
   "outputs": [],
   "source": [
    "for i in range(5,10):      #Range will end like(n-1).If you put last limit 10, then it will run till 9.\n",
    "    print('Data Science', i)"
   ]
  },
  {
   "cell_type": "code",
   "execution_count": null,
   "id": "cd8ee4d0",
   "metadata": {},
   "outputs": [],
   "source": [
    "for i in range(5,10,2):\n",
    "    print('data science',i)                          #default increment/decrement = 2\n",
    "                                         # range(initialization,ending,increment/decrement)"
   ]
  },
  {
   "cell_type": "code",
   "execution_count": null,
   "id": "7595f484",
   "metadata": {},
   "outputs": [],
   "source": [
    "for i in range(100,50,-10):\n",
    "         print('data science',i) "
   ]
  },
  {
   "cell_type": "code",
   "execution_count": null,
   "id": "3acfbe89",
   "metadata": {},
   "outputs": [],
   "source": [
    "for i in range(100,0,-2):\n",
    "         print('data science',i) "
   ]
  },
  {
   "cell_type": "code",
   "execution_count": null,
   "id": "662076eb",
   "metadata": {},
   "outputs": [],
   "source": [
    "n = [2,3,5,66,78,120,67]\n",
    "sum_1 = 0\n",
    "\n",
    "for i in n:\n",
    "    sum_1 = sum_1 + i\n",
    "    print('The sum is: ', sum_1)\n",
    "    \n",
    "print('Overall total: ', sum_1)\n",
    "    "
   ]
  },
  {
   "cell_type": "code",
   "execution_count": null,
   "id": "e5236406",
   "metadata": {},
   "outputs": [],
   "source": [
    "'''If remainder == 0, then the number is even\n",
    "   If remainder == 1, then the number is odd'''"
   ]
  },
  {
   "cell_type": "code",
   "execution_count": null,
   "id": "f6db611f",
   "metadata": {},
   "outputs": [],
   "source": [
    "from IPython.display import Image\n",
    "Image('Loop_Practice_Questions.png')\n"
   ]
  },
  {
   "cell_type": "code",
   "execution_count": null,
   "id": "6495dca0",
   "metadata": {},
   "outputs": [],
   "source": [
    "#Assignment No: 01\n",
    "#Display numbers from -100 to -10 using for loop.\n",
    "\n",
    "for i in range(-100,-9):\n",
    "    print(i, end = '  ')\n",
    "\n"
   ]
  },
  {
   "cell_type": "code",
   "execution_count": null,
   "id": "8f6f7f9b",
   "metadata": {},
   "outputs": [],
   "source": [
    "# Assignment No: 02\n",
    "# Write a program to sum all prime numbers within a range 10 to 1000.\n",
    "\n",
    "start = 10\n",
    "end = 1000\n",
    "sum = 0\n",
    "\n",
    "for i in range(start,end+1):\n",
    "    for j in range(2,i):\n",
    "        if (i % j == 0):\n",
    "            break\n",
    "            \n",
    "    else:\n",
    "        sum = sum + i\n",
    "\n",
    "print('The sum is: ',sum)\n",
    "             \n",
    "            \n",
    "   \n",
    "        "
   ]
  },
  {
   "cell_type": "code",
   "execution_count": null,
   "id": "86d804ee",
   "metadata": {},
   "outputs": [],
   "source": [
    "# Assignment No: 03\n",
    "# Find the factorial of n!\n",
    "\n",
    "n = int(input('Enter a number: '))\n",
    "total = 1\n",
    "\n",
    "for i in range(n):\n",
    "    i += 1\n",
    "    total *= i\n",
    "\n",
    "print(total)"
   ]
  },
  {
   "cell_type": "markdown",
   "id": "2031fe72",
   "metadata": {},
   "source": [
    "#  Assignment No: 04 (completed)"
   ]
  },
  {
   "cell_type": "code",
   "execution_count": null,
   "id": "17541a39",
   "metadata": {},
   "outputs": [],
   "source": [
    "num = 27956240710\n",
    "y= str(num)\n",
    "\n"
   ]
  },
  {
   "cell_type": "code",
   "execution_count": null,
   "id": "920dddb0",
   "metadata": {},
   "outputs": [],
   "source": [
    "len(y)"
   ]
  },
  {
   "cell_type": "code",
   "execution_count": null,
   "id": "dbb77958",
   "metadata": {},
   "outputs": [],
   "source": [
    "#Assignment No: 04\n",
    "#Reverse a given integer number 27956240710\n",
    "\n",
    "\n",
    "num = 27956240710\n",
    "rev_num = 0 \n",
    "\n",
    "for i in range(0, len(str(num))):\n",
    "    remainder = num % 10\n",
    "    rev_num = rev_num * 10 + remainder\n",
    "    num //= 10\n",
    "\n",
    "print(rev_num)"
   ]
  },
  {
   "cell_type": "code",
   "execution_count": null,
   "id": "09c7ca8c",
   "metadata": {},
   "outputs": [],
   "source": []
  },
  {
   "cell_type": "code",
   "execution_count": null,
   "id": "acdaafaf",
   "metadata": {},
   "outputs": [],
   "source": []
  },
  {
   "cell_type": "code",
   "execution_count": null,
   "id": "0cc0d5eb",
   "metadata": {},
   "outputs": [],
   "source": []
  },
  {
   "cell_type": "markdown",
   "id": "c04b5b32",
   "metadata": {},
   "source": [
    "# While Loop"
   ]
  },
  {
   "cell_type": "code",
   "execution_count": null,
   "id": "05b906cb",
   "metadata": {},
   "outputs": [],
   "source": [
    "# while condition:\n",
    "#statement of work\n",
    "    \n",
    "count = 0 \n",
    "\n",
    "while (count<5):\n",
    "    count = count + 1;\n",
    "    print('Study Mart', count)"
   ]
  },
  {
   "cell_type": "code",
   "execution_count": null,
   "id": "70174f52",
   "metadata": {},
   "outputs": [],
   "source": [
    "count = 0\n",
    "\n",
    "while (count<5):\n",
    "    print('Study Mart', count)\n",
    "    count = count + 1"
   ]
  },
  {
   "cell_type": "code",
   "execution_count": null,
   "id": "b1cd43ca",
   "metadata": {},
   "outputs": [],
   "source": [
    "i = 0 \n",
    "\n",
    "while i<=10:\n",
    "    print('Study Mart', i)\n",
    "    i += 1"
   ]
  },
  {
   "cell_type": "code",
   "execution_count": null,
   "id": "96dfd993",
   "metadata": {},
   "outputs": [],
   "source": [
    "i = 0 \n",
    "\n",
    "while i<=10:\n",
    "    print('Study Mart', i)\n",
    "    i += 2"
   ]
  },
  {
   "cell_type": "code",
   "execution_count": null,
   "id": "817ee26d",
   "metadata": {},
   "outputs": [],
   "source": [
    "data = 'python'\n",
    "len(data)"
   ]
  },
  {
   "cell_type": "code",
   "execution_count": null,
   "id": "be629f75",
   "metadata": {},
   "outputs": [],
   "source": [
    "data = 'python'\n",
    "index = 0\n",
    "\n",
    "while index < len(data):\n",
    "    print(data[index])\n",
    "    index += 1"
   ]
  },
  {
   "cell_type": "code",
   "execution_count": null,
   "id": "cab803cc",
   "metadata": {},
   "outputs": [],
   "source": [
    "data = 'I love data science so much'\n",
    "data = data.split()\n",
    "index = 0 \n",
    "\n",
    "while index < len(data):\n",
    "    print(data[index])\n",
    "    index += 1"
   ]
  },
  {
   "cell_type": "code",
   "execution_count": null,
   "id": "467c3502",
   "metadata": {},
   "outputs": [],
   "source": [
    "n = [2,3,5,66,78,120,67]\n",
    "len(n)"
   ]
  },
  {
   "cell_type": "code",
   "execution_count": null,
   "id": "5d09be9e",
   "metadata": {},
   "outputs": [],
   "source": [
    "n = [2,3,5,66,78,120,67]\n",
    "index = 0 \n",
    "sum_1 = 0\n",
    "\n",
    "while index < len(n):\n",
    "    sum_1 = sum_1 + n[index]\n",
    "    index += 1\n",
    "    print('The sum is: ',sum_1)\n",
    "    \n",
    "print('The overall sum is: ',sum_1)\n",
    "    "
   ]
  },
  {
   "cell_type": "code",
   "execution_count": null,
   "id": "f3160ea9",
   "metadata": {},
   "outputs": [],
   "source": [
    "from IPython.display import Image\n",
    "Image('While_loop.png')"
   ]
  },
  {
   "cell_type": "code",
   "execution_count": null,
   "id": "edb205c9",
   "metadata": {},
   "outputs": [],
   "source": [
    "#Assignment No: 01\n",
    "#Display numbers from -100 to -10 using while loop.\n",
    "\n",
    "i=-100\n",
    "\n",
    "while i < -9:\n",
    "    print(i, end = '  ')\n",
    "    i += 1"
   ]
  },
  {
   "cell_type": "markdown",
   "id": "ff1bc658",
   "metadata": {},
   "source": [
    "# Assignment 2 Incompleted"
   ]
  },
  {
   "cell_type": "code",
   "execution_count": null,
   "id": "98274a84",
   "metadata": {},
   "outputs": [],
   "source": [
    "#Assignment No: 02\n",
    "# Write a program to sum all prime numbers within range 10 to 1000.\n"
   ]
  },
  {
   "cell_type": "code",
   "execution_count": null,
   "id": "9353e9cc",
   "metadata": {},
   "outputs": [],
   "source": [
    "#Assignment No: 02\n",
    "# Write a program to check a prime number.\n",
    "\n",
    "\n",
    "num = int(input('enter a number: '))\n",
    "i = 2\n",
    "p = 1 \n",
    "while (i<num):\n",
    "    if (num % i == 0):\n",
    "        p = 0\n",
    "    i += 1\n",
    "\n",
    "if p == 0:\n",
    "    print('Not a prime')\n",
    "elif p == 1:\n",
    "    print('prime')\n",
    "        \n",
    "\n"
   ]
  },
  {
   "cell_type": "code",
   "execution_count": null,
   "id": "cf2354a6",
   "metadata": {},
   "outputs": [],
   "source": [
    "#Assignment No: 03\n",
    "# Find the factorial of n.\n",
    "\n",
    "n = int(input('Enter a number: '))\n",
    "total = 1\n",
    "\n",
    "while n>=1:\n",
    "    total = total * n\n",
    "    n -= 1 \n",
    "\n",
    "print(total)"
   ]
  },
  {
   "cell_type": "code",
   "execution_count": null,
   "id": "34ea50fd",
   "metadata": {},
   "outputs": [],
   "source": []
  },
  {
   "cell_type": "code",
   "execution_count": null,
   "id": "aed62004",
   "metadata": {},
   "outputs": [],
   "source": [
    "#Assignment No: 04\n",
    "# Reverse a given integer number 27956240710\n",
    "\n",
    "num = 27956240710\n",
    "\n",
    "while num!= 0:\n",
    "    remainder = num % 10\n",
    "    num //= 10          #can be written as (num = num // 10)\n",
    "    \n",
    "    print(remainder, end = '')\n"
   ]
  },
  {
   "cell_type": "code",
   "execution_count": null,
   "id": "461392d2",
   "metadata": {},
   "outputs": [],
   "source": [
    "OR,"
   ]
  },
  {
   "cell_type": "code",
   "execution_count": null,
   "id": "2a2ec6f3",
   "metadata": {},
   "outputs": [],
   "source": [
    "num = 27956240710\n",
    "rev_num = 0\n",
    "\n",
    "while num!= 0:\n",
    "    remainder = num % 10\n",
    "    rev_num = rev_num * 10 + remainder\n",
    "    num //= 10\n",
    "    \n",
    "print('The reversed number is: ',rev_num)"
   ]
  },
  {
   "cell_type": "markdown",
   "id": "08c8c519",
   "metadata": {},
   "source": [
    "# Nested Loop"
   ]
  },
  {
   "cell_type": "code",
   "execution_count": null,
   "id": "a223786d",
   "metadata": {},
   "outputs": [],
   "source": [
    "#Outer Loop, Inner Loop\n",
    "\n",
    "\n",
    "n = int(input('Enter the number of rows: ')) \n",
    "\n",
    "for i in range(n):\n",
    "    for j in range(i+1):\n",
    "        print('#',end = ' ')\n",
    "    print()"
   ]
  },
  {
   "cell_type": "code",
   "execution_count": null,
   "id": "e4793eb7",
   "metadata": {},
   "outputs": [],
   "source": [
    "n = int(input('Enter the number of rows: ')) \n",
    "\n",
    "for i in range(n):\n",
    "    for j in range(n-i):\n",
    "        print('#',end = ' ')\n",
    "    print()"
   ]
  },
  {
   "cell_type": "code",
   "execution_count": null,
   "id": "ef225fdf",
   "metadata": {},
   "outputs": [],
   "source": [
    "n = int(input('Enter the number of rows: '))\n",
    "\n",
    "for i in range(n):\n",
    "    for j in range(n-i-1):\n",
    "        print(' ', end = ' ')\n",
    "    for j in range(i+1):\n",
    "        print('*', end = \" \")\n",
    "    print( )"
   ]
  },
  {
   "cell_type": "code",
   "execution_count": null,
   "id": "07aab5f2",
   "metadata": {},
   "outputs": [],
   "source": [
    "n = int(input('Enter the number of rows: '))\n",
    "\n",
    "for i in range(n):\n",
    "    for j in range(n-i-1):\n",
    "        print(' ', end = ' ')\n",
    "    for j in range(2*i+1):\n",
    "        print('*',end = ' ')\n",
    "    print()\n",
    "    \n",
    "    "
   ]
  },
  {
   "cell_type": "code",
   "execution_count": null,
   "id": "10123c29",
   "metadata": {},
   "outputs": [],
   "source": [
    "n = int(input('Enter the number of rows: '))\n",
    "\n",
    "for i in range(n):\n",
    "    for j in range(n-i-1):\n",
    "        print(' ', end = ' ')\n",
    "    for j in range(i+1):\n",
    "        print('* ',end = '  ')\n",
    "    print()\n",
    "    "
   ]
  },
  {
   "cell_type": "code",
   "execution_count": null,
   "id": "cc5c49fb",
   "metadata": {},
   "outputs": [],
   "source": []
  }
 ],
 "metadata": {
  "kernelspec": {
   "display_name": "Python 3",
   "language": "python",
   "name": "python3"
  },
  "language_info": {
   "codemirror_mode": {
    "name": "ipython",
    "version": 3
   },
   "file_extension": ".py",
   "mimetype": "text/x-python",
   "name": "python",
   "nbconvert_exporter": "python",
   "pygments_lexer": "ipython3",
   "version": "3.8.8"
  }
 },
 "nbformat": 4,
 "nbformat_minor": 5
}
