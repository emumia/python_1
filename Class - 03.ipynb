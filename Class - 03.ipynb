{
 "cells": [
  {
   "cell_type": "markdown",
   "id": "ff1fcf41",
   "metadata": {},
   "source": [
    "# List in Python"
   ]
  },
  {
   "cell_type": "code",
   "execution_count": 3,
   "id": "7aea74e6",
   "metadata": {},
   "outputs": [
    {
     "data": {
      "text/plain": [
       "[2, 5, 8, 10]"
      ]
     },
     "execution_count": 3,
     "metadata": {},
     "output_type": "execute_result"
    }
   ],
   "source": [
    "l1"
   ]
  },
  {
   "cell_type": "code",
   "execution_count": 4,
   "id": "b69c30e7",
   "metadata": {},
   "outputs": [
    {
     "data": {
      "text/plain": [
       "list"
      ]
     },
     "execution_count": 4,
     "metadata": {},
     "output_type": "execute_result"
    }
   ],
   "source": [
    "type(l1)"
   ]
  },
  {
   "cell_type": "code",
   "execution_count": 5,
   "id": "67011acc",
   "metadata": {},
   "outputs": [
    {
     "data": {
      "text/plain": [
       "2"
      ]
     },
     "execution_count": 5,
     "metadata": {},
     "output_type": "execute_result"
    }
   ],
   "source": [
    "l1[0]     #index"
   ]
  },
  {
   "cell_type": "code",
   "execution_count": 6,
   "id": "50ee9e16",
   "metadata": {},
   "outputs": [
    {
     "data": {
      "text/plain": [
       "10"
      ]
     },
     "execution_count": 6,
     "metadata": {},
     "output_type": "execute_result"
    }
   ],
   "source": [
    "l1[-1]"
   ]
  },
  {
   "cell_type": "code",
   "execution_count": 7,
   "id": "9ae232db",
   "metadata": {},
   "outputs": [
    {
     "data": {
      "text/plain": [
       "[2, 5]"
      ]
     },
     "execution_count": 7,
     "metadata": {},
     "output_type": "execute_result"
    }
   ],
   "source": [
    "l1[0:2]"
   ]
  },
  {
   "cell_type": "code",
   "execution_count": 8,
   "id": "04c037a4",
   "metadata": {},
   "outputs": [
    {
     "data": {
      "text/plain": [
       "[2, 5, 8]"
      ]
     },
     "execution_count": 8,
     "metadata": {},
     "output_type": "execute_result"
    }
   ],
   "source": [
    "l1[0:3]"
   ]
  },
  {
   "cell_type": "code",
   "execution_count": 9,
   "id": "ffb3efee",
   "metadata": {},
   "outputs": [],
   "source": [
    "l1[0] = 'study mart'"
   ]
  },
  {
   "cell_type": "code",
   "execution_count": 10,
   "id": "6cc07c46",
   "metadata": {},
   "outputs": [
    {
     "data": {
      "text/plain": [
       "['study mart', 5, 8, 10]"
      ]
     },
     "execution_count": 10,
     "metadata": {},
     "output_type": "execute_result"
    }
   ],
   "source": [
    "l1"
   ]
  },
  {
   "cell_type": "code",
   "execution_count": 11,
   "id": "2994b0e2",
   "metadata": {},
   "outputs": [],
   "source": [
    "l1.append(5)"
   ]
  },
  {
   "cell_type": "code",
   "execution_count": 12,
   "id": "72bd19ab",
   "metadata": {},
   "outputs": [
    {
     "data": {
      "text/plain": [
       "['study mart', 5, 8, 10, 5]"
      ]
     },
     "execution_count": 12,
     "metadata": {},
     "output_type": "execute_result"
    }
   ],
   "source": [
    "l1"
   ]
  },
  {
   "cell_type": "code",
   "execution_count": 13,
   "id": "1d78c6af",
   "metadata": {},
   "outputs": [],
   "source": [
    "l1.append('study mart')"
   ]
  },
  {
   "cell_type": "code",
   "execution_count": 14,
   "id": "7e1b5358",
   "metadata": {},
   "outputs": [
    {
     "data": {
      "text/plain": [
       "['study mart', 5, 8, 10, 5, 'study mart']"
      ]
     },
     "execution_count": 14,
     "metadata": {},
     "output_type": "execute_result"
    }
   ],
   "source": [
    "l1"
   ]
  },
  {
   "cell_type": "code",
   "execution_count": 15,
   "id": "853e2810",
   "metadata": {},
   "outputs": [
    {
     "data": {
      "text/plain": [
       "2"
      ]
     },
     "execution_count": 15,
     "metadata": {},
     "output_type": "execute_result"
    }
   ],
   "source": [
    "l1.count('study mart')"
   ]
  },
  {
   "cell_type": "code",
   "execution_count": 16,
   "id": "08ea9d9f",
   "metadata": {},
   "outputs": [
    {
     "data": {
      "text/plain": [
       "'study mart'"
      ]
     },
     "execution_count": 16,
     "metadata": {},
     "output_type": "execute_result"
    }
   ],
   "source": [
    "l1.pop()      # pop()   - pop function will delete the last item in a list"
   ]
  },
  {
   "cell_type": "code",
   "execution_count": 17,
   "id": "868dcfdf",
   "metadata": {},
   "outputs": [
    {
     "data": {
      "text/plain": [
       "['study mart', 5, 8, 10, 5]"
      ]
     },
     "execution_count": 17,
     "metadata": {},
     "output_type": "execute_result"
    }
   ],
   "source": [
    "l1"
   ]
  },
  {
   "cell_type": "code",
   "execution_count": 18,
   "id": "d143112a",
   "metadata": {},
   "outputs": [
    {
     "data": {
      "text/plain": [
       "5"
      ]
     },
     "execution_count": 18,
     "metadata": {},
     "output_type": "execute_result"
    }
   ],
   "source": [
    "l1.pop()"
   ]
  },
  {
   "cell_type": "code",
   "execution_count": 19,
   "id": "b769a201",
   "metadata": {},
   "outputs": [
    {
     "data": {
      "text/plain": [
       "['study mart', 5, 8, 10]"
      ]
     },
     "execution_count": 19,
     "metadata": {},
     "output_type": "execute_result"
    }
   ],
   "source": [
    "l1"
   ]
  },
  {
   "cell_type": "code",
   "execution_count": 21,
   "id": "c9af567a",
   "metadata": {},
   "outputs": [
    {
     "data": {
      "text/plain": [
       "8"
      ]
     },
     "execution_count": 21,
     "metadata": {},
     "output_type": "execute_result"
    }
   ],
   "source": [
    "l1.pop(2)"
   ]
  },
  {
   "cell_type": "code",
   "execution_count": 22,
   "id": "b7afb01c",
   "metadata": {},
   "outputs": [
    {
     "data": {
      "text/plain": [
       "['study mart', 5, 10]"
      ]
     },
     "execution_count": 22,
     "metadata": {},
     "output_type": "execute_result"
    }
   ],
   "source": [
    "l1"
   ]
  },
  {
   "cell_type": "code",
   "execution_count": null,
   "id": "b3f1c332",
   "metadata": {},
   "outputs": [],
   "source": []
  },
  {
   "cell_type": "code",
   "execution_count": 20,
   "id": "2ded79e5",
   "metadata": {},
   "outputs": [
    {
     "data": {
      "text/plain": [
       "120"
      ]
     },
     "execution_count": 20,
     "metadata": {},
     "output_type": "execute_result"
    }
   ],
   "source": [
    "import sys\n",
    "sys.getsizeof(l1)"
   ]
  },
  {
   "cell_type": "markdown",
   "id": "95c91825",
   "metadata": {},
   "source": [
    "# Creating list using list constructor"
   ]
  },
  {
   "cell_type": "code",
   "execution_count": 26,
   "id": "ffc8b543",
   "metadata": {},
   "outputs": [],
   "source": [
    "l2 = list(('ai',12,(1,2,3,4)))"
   ]
  },
  {
   "cell_type": "code",
   "execution_count": 27,
   "id": "f595d179",
   "metadata": {},
   "outputs": [
    {
     "data": {
      "text/plain": [
       "['ai', 12, (1, 2, 3, 4)]"
      ]
     },
     "execution_count": 27,
     "metadata": {},
     "output_type": "execute_result"
    }
   ],
   "source": [
    "l2"
   ]
  },
  {
   "cell_type": "code",
   "execution_count": 28,
   "id": "0ff8de79",
   "metadata": {},
   "outputs": [
    {
     "data": {
      "text/plain": [
       "list"
      ]
     },
     "execution_count": 28,
     "metadata": {},
     "output_type": "execute_result"
    }
   ],
   "source": [
    "type(l2)"
   ]
  },
  {
   "cell_type": "code",
   "execution_count": 29,
   "id": "29268880",
   "metadata": {},
   "outputs": [
    {
     "data": {
      "text/plain": [
       "(1, 2, 3, 4)"
      ]
     },
     "execution_count": 29,
     "metadata": {},
     "output_type": "execute_result"
    }
   ],
   "source": [
    "l2[-1]"
   ]
  },
  {
   "cell_type": "code",
   "execution_count": 30,
   "id": "3fe3a8c4",
   "metadata": {},
   "outputs": [
    {
     "data": {
      "text/plain": [
       "4"
      ]
     },
     "execution_count": 30,
     "metadata": {},
     "output_type": "execute_result"
    }
   ],
   "source": [
    "l2[-1][-1]"
   ]
  },
  {
   "cell_type": "code",
   "execution_count": 31,
   "id": "dae32e8e",
   "metadata": {},
   "outputs": [
    {
     "data": {
      "text/plain": [
       "1"
      ]
     },
     "execution_count": 31,
     "metadata": {},
     "output_type": "execute_result"
    }
   ],
   "source": [
    "l2[2][0]"
   ]
  },
  {
   "cell_type": "markdown",
   "id": "25a4bab8",
   "metadata": {},
   "source": [
    "# Input List from User"
   ]
  },
  {
   "cell_type": "code",
   "execution_count": 32,
   "id": "08e79d61",
   "metadata": {},
   "outputs": [
    {
     "name": "stdout",
     "output_type": "stream",
     "text": [
      "Enter your total index: 3\n",
      "10\n",
      "23\n",
      "21\n",
      "['10', '23', '21']\n"
     ]
    }
   ],
   "source": [
    "#Input List from User\n",
    "\n",
    "l3 = []\n",
    "n = int(input('Enter your total index: '))\n",
    "\n",
    "for i in range(n):\n",
    "    item = input()\n",
    "    l3.append(item)     #We can add item in a list using append function\n",
    "    \n",
    "print(l3)"
   ]
  },
  {
   "cell_type": "code",
   "execution_count": 33,
   "id": "a5b616b6",
   "metadata": {},
   "outputs": [
    {
     "data": {
      "text/plain": [
       "list"
      ]
     },
     "execution_count": 33,
     "metadata": {},
     "output_type": "execute_result"
    }
   ],
   "source": [
    "type(l3)"
   ]
  },
  {
   "cell_type": "markdown",
   "id": "6dd16f4c",
   "metadata": {},
   "source": [
    "# List Methods:"
   ]
  },
  {
   "cell_type": "code",
   "execution_count": 1,
   "id": "fd788fcc",
   "metadata": {},
   "outputs": [],
   "source": [
    "List1 = ['ai','ds','cs',150,20,True,[3,4],(1,2)]"
   ]
  },
  {
   "cell_type": "code",
   "execution_count": 2,
   "id": "e07ba8e7",
   "metadata": {},
   "outputs": [
    {
     "data": {
      "text/plain": [
       "['ai', 'ds', 'cs', 150, 20, True, [3, 4], (1, 2)]"
      ]
     },
     "execution_count": 2,
     "metadata": {},
     "output_type": "execute_result"
    }
   ],
   "source": [
    "List1"
   ]
  },
  {
   "cell_type": "code",
   "execution_count": 3,
   "id": "dc64ef23",
   "metadata": {},
   "outputs": [
    {
     "data": {
      "text/plain": [
       "'ai'"
      ]
     },
     "execution_count": 3,
     "metadata": {},
     "output_type": "execute_result"
    }
   ],
   "source": [
    "List1[0]"
   ]
  },
  {
   "cell_type": "code",
   "execution_count": 4,
   "id": "bea35548",
   "metadata": {},
   "outputs": [
    {
     "data": {
      "text/plain": [
       "(1, 2)"
      ]
     },
     "execution_count": 4,
     "metadata": {},
     "output_type": "execute_result"
    }
   ],
   "source": [
    "List1[-1]"
   ]
  },
  {
   "cell_type": "code",
   "execution_count": 5,
   "id": "009bd42e",
   "metadata": {},
   "outputs": [
    {
     "data": {
      "text/plain": [
       "1"
      ]
     },
     "execution_count": 5,
     "metadata": {},
     "output_type": "execute_result"
    }
   ],
   "source": [
    "List1[-1][-2]"
   ]
  },
  {
   "cell_type": "markdown",
   "id": "a977fdce",
   "metadata": {},
   "source": [
    "# Copy"
   ]
  },
  {
   "cell_type": "code",
   "execution_count": 6,
   "id": "ec5652c7",
   "metadata": {},
   "outputs": [],
   "source": [
    "List2 = List1"
   ]
  },
  {
   "cell_type": "code",
   "execution_count": 7,
   "id": "a9f394f4",
   "metadata": {},
   "outputs": [
    {
     "data": {
      "text/plain": [
       "['ai', 'ds', 'cs', 150, 20, True, [3, 4], (1, 2)]"
      ]
     },
     "execution_count": 7,
     "metadata": {},
     "output_type": "execute_result"
    }
   ],
   "source": [
    "List2"
   ]
  },
  {
   "cell_type": "code",
   "execution_count": 8,
   "id": "ba7af6ae",
   "metadata": {},
   "outputs": [
    {
     "data": {
      "text/plain": [
       "['ai', 'ds', 'cs', 150, 20, True, [3, 4], (1, 2)]"
      ]
     },
     "execution_count": 8,
     "metadata": {},
     "output_type": "execute_result"
    }
   ],
   "source": [
    "List1"
   ]
  },
  {
   "cell_type": "code",
   "execution_count": 9,
   "id": "e31c0f13",
   "metadata": {},
   "outputs": [],
   "source": [
    "List3 = List1.copy()"
   ]
  },
  {
   "cell_type": "code",
   "execution_count": 10,
   "id": "c3829382",
   "metadata": {},
   "outputs": [
    {
     "data": {
      "text/plain": [
       "['ai', 'ds', 'cs', 150, 20, True, [3, 4], (1, 2)]"
      ]
     },
     "execution_count": 10,
     "metadata": {},
     "output_type": "execute_result"
    }
   ],
   "source": [
    "List3"
   ]
  },
  {
   "cell_type": "code",
   "execution_count": 11,
   "id": "cb7c21eb",
   "metadata": {},
   "outputs": [],
   "source": [
    "List1[0] = 1000"
   ]
  },
  {
   "cell_type": "code",
   "execution_count": 12,
   "id": "4c18e75a",
   "metadata": {},
   "outputs": [
    {
     "data": {
      "text/plain": [
       "[1000, 'ds', 'cs', 150, 20, True, [3, 4], (1, 2)]"
      ]
     },
     "execution_count": 12,
     "metadata": {},
     "output_type": "execute_result"
    }
   ],
   "source": [
    "List1"
   ]
  },
  {
   "cell_type": "code",
   "execution_count": 13,
   "id": "0f48397d",
   "metadata": {},
   "outputs": [
    {
     "data": {
      "text/plain": [
       "[1000, 'ds', 'cs', 150, 20, True, [3, 4], (1, 2)]"
      ]
     },
     "execution_count": 13,
     "metadata": {},
     "output_type": "execute_result"
    }
   ],
   "source": [
    "List2"
   ]
  },
  {
   "cell_type": "code",
   "execution_count": 14,
   "id": "8adbf556",
   "metadata": {},
   "outputs": [
    {
     "data": {
      "text/plain": [
       "['ai', 'ds', 'cs', 150, 20, True, [3, 4], (1, 2)]"
      ]
     },
     "execution_count": 14,
     "metadata": {},
     "output_type": "execute_result"
    }
   ],
   "source": [
    "List3"
   ]
  },
  {
   "cell_type": "code",
   "execution_count": 15,
   "id": "678c14c2",
   "metadata": {},
   "outputs": [],
   "source": [
    "List3[0] = 1000"
   ]
  },
  {
   "cell_type": "code",
   "execution_count": 16,
   "id": "d5b572bf",
   "metadata": {},
   "outputs": [
    {
     "data": {
      "text/plain": [
       "[1000, 'ds', 'cs', 150, 20, True, [3, 4], (1, 2)]"
      ]
     },
     "execution_count": 16,
     "metadata": {},
     "output_type": "execute_result"
    }
   ],
   "source": [
    "List3"
   ]
  },
  {
   "cell_type": "code",
   "execution_count": 17,
   "id": "073f048f",
   "metadata": {},
   "outputs": [
    {
     "data": {
      "text/plain": [
       "[1000, 'ds', 'cs', 150, 20, True, [3, 4], (1, 2)]"
      ]
     },
     "execution_count": 17,
     "metadata": {},
     "output_type": "execute_result"
    }
   ],
   "source": [
    "List1"
   ]
  },
  {
   "cell_type": "markdown",
   "id": "8f4dc402",
   "metadata": {},
   "source": [
    "# Append()"
   ]
  },
  {
   "cell_type": "code",
   "execution_count": 18,
   "id": "db8dbf88",
   "metadata": {},
   "outputs": [],
   "source": [
    "List1.append(28)"
   ]
  },
  {
   "cell_type": "code",
   "execution_count": 19,
   "id": "4701c5b3",
   "metadata": {},
   "outputs": [
    {
     "data": {
      "text/plain": [
       "[1000, 'ds', 'cs', 150, 20, True, [3, 4], (1, 2), 28]"
      ]
     },
     "execution_count": 19,
     "metadata": {},
     "output_type": "execute_result"
    }
   ],
   "source": [
    "List1"
   ]
  },
  {
   "cell_type": "code",
   "execution_count": 20,
   "id": "0d54d686",
   "metadata": {},
   "outputs": [],
   "source": [
    "l1 = [10,100.30]"
   ]
  },
  {
   "cell_type": "code",
   "execution_count": 21,
   "id": "076b6dd0",
   "metadata": {},
   "outputs": [],
   "source": [
    "List1.append(l1)           #append function gives the whole l1 list a single index"
   ]
  },
  {
   "cell_type": "code",
   "execution_count": 22,
   "id": "420c5821",
   "metadata": {},
   "outputs": [
    {
     "data": {
      "text/plain": [
       "[1000, 'ds', 'cs', 150, 20, True, [3, 4], (1, 2), 28, [10, 100.3]]"
      ]
     },
     "execution_count": 22,
     "metadata": {},
     "output_type": "execute_result"
    }
   ],
   "source": [
    "List1"
   ]
  },
  {
   "cell_type": "code",
   "execution_count": 23,
   "id": "11a49793",
   "metadata": {},
   "outputs": [
    {
     "data": {
      "text/plain": [
       "[10, 100.3]"
      ]
     },
     "execution_count": 23,
     "metadata": {},
     "output_type": "execute_result"
    }
   ],
   "source": [
    "List1[-1]"
   ]
  },
  {
   "cell_type": "code",
   "execution_count": 24,
   "id": "4f0fc833",
   "metadata": {},
   "outputs": [],
   "source": [
    "List1.append({1,2,3,4})  "
   ]
  },
  {
   "cell_type": "code",
   "execution_count": 25,
   "id": "3e7f2b31",
   "metadata": {},
   "outputs": [
    {
     "data": {
      "text/plain": [
       "[1000,\n",
       " 'ds',\n",
       " 'cs',\n",
       " 150,\n",
       " 20,\n",
       " True,\n",
       " [3, 4],\n",
       " (1, 2),\n",
       " 28,\n",
       " [10, 100.3],\n",
       " {1, 2, 3, 4}]"
      ]
     },
     "execution_count": 25,
     "metadata": {},
     "output_type": "execute_result"
    }
   ],
   "source": [
    "List1"
   ]
  },
  {
   "cell_type": "code",
   "execution_count": 26,
   "id": "0c762c83",
   "metadata": {},
   "outputs": [
    {
     "data": {
      "text/plain": [
       "{1, 2, 3, 4}"
      ]
     },
     "execution_count": 26,
     "metadata": {},
     "output_type": "execute_result"
    }
   ],
   "source": [
    "List1[-1]"
   ]
  },
  {
   "cell_type": "code",
   "execution_count": 27,
   "id": "3aa2c68d",
   "metadata": {},
   "outputs": [],
   "source": [
    "List1.extend(l1)"
   ]
  },
  {
   "cell_type": "code",
   "execution_count": 28,
   "id": "8e3e9c57",
   "metadata": {},
   "outputs": [
    {
     "data": {
      "text/plain": [
       "[1000,\n",
       " 'ds',\n",
       " 'cs',\n",
       " 150,\n",
       " 20,\n",
       " True,\n",
       " [3, 4],\n",
       " (1, 2),\n",
       " 28,\n",
       " [10, 100.3],\n",
       " {1, 2, 3, 4},\n",
       " 10,\n",
       " 100.3]"
      ]
     },
     "execution_count": 28,
     "metadata": {},
     "output_type": "execute_result"
    }
   ],
   "source": [
    "List1"
   ]
  },
  {
   "cell_type": "code",
   "execution_count": 29,
   "id": "40da9b10",
   "metadata": {},
   "outputs": [
    {
     "data": {
      "text/plain": [
       "100.3"
      ]
     },
     "execution_count": 29,
     "metadata": {},
     "output_type": "execute_result"
    }
   ],
   "source": [
    "List1[-1]         # extend function gives the individual item of list l1 a single index"
   ]
  },
  {
   "cell_type": "code",
   "execution_count": 30,
   "id": "f8602b97",
   "metadata": {},
   "outputs": [
    {
     "data": {
      "text/plain": [
       "10"
      ]
     },
     "execution_count": 30,
     "metadata": {},
     "output_type": "execute_result"
    }
   ],
   "source": [
    "List1[-2]"
   ]
  },
  {
   "cell_type": "code",
   "execution_count": 31,
   "id": "5910f0f8",
   "metadata": {},
   "outputs": [],
   "source": [
    "List1.insert(0,'BUBT')        # List1.insert(index,value)"
   ]
  },
  {
   "cell_type": "code",
   "execution_count": 32,
   "id": "71d63a1e",
   "metadata": {},
   "outputs": [
    {
     "data": {
      "text/plain": [
       "['BUBT',\n",
       " 1000,\n",
       " 'ds',\n",
       " 'cs',\n",
       " 150,\n",
       " 20,\n",
       " True,\n",
       " [3, 4],\n",
       " (1, 2),\n",
       " 28,\n",
       " [10, 100.3],\n",
       " {1, 2, 3, 4},\n",
       " 10,\n",
       " 100.3]"
      ]
     },
     "execution_count": 32,
     "metadata": {},
     "output_type": "execute_result"
    }
   ],
   "source": [
    "List1"
   ]
  },
  {
   "cell_type": "code",
   "execution_count": 33,
   "id": "3907f419",
   "metadata": {},
   "outputs": [],
   "source": [
    "List1[0] = 'Bangladesh'"
   ]
  },
  {
   "cell_type": "code",
   "execution_count": 34,
   "id": "9a2ab1b6",
   "metadata": {},
   "outputs": [
    {
     "data": {
      "text/plain": [
       "['Bangladesh',\n",
       " 1000,\n",
       " 'ds',\n",
       " 'cs',\n",
       " 150,\n",
       " 20,\n",
       " True,\n",
       " [3, 4],\n",
       " (1, 2),\n",
       " 28,\n",
       " [10, 100.3],\n",
       " {1, 2, 3, 4},\n",
       " 10,\n",
       " 100.3]"
      ]
     },
     "execution_count": 34,
     "metadata": {},
     "output_type": "execute_result"
    }
   ],
   "source": [
    "List1"
   ]
  },
  {
   "cell_type": "code",
   "execution_count": 35,
   "id": "645dc0bf",
   "metadata": {},
   "outputs": [
    {
     "data": {
      "text/plain": [
       "6"
      ]
     },
     "execution_count": 35,
     "metadata": {},
     "output_type": "execute_result"
    }
   ],
   "source": [
    "List1.index(True)"
   ]
  },
  {
   "cell_type": "code",
   "execution_count": null,
   "id": "ed388082",
   "metadata": {},
   "outputs": [
    {
     "ename": "ValueError",
     "evalue": "160 is not in list",
     "output_type": "error",
     "traceback": [
      "\u001b[1;31m---------------------------------------------------------------------------\u001b[0m",
      "\u001b[1;31mValueError\u001b[0m                                Traceback (most recent call last)",
      "\u001b[1;32m~\\AppData\\Local\\Temp\\ipykernel_7380\\1739434445.py\u001b[0m in \u001b[0;36m<module>\u001b[1;34m\u001b[0m\n\u001b[1;32m----> 1\u001b[1;33m \u001b[0mList1\u001b[0m\u001b[1;33m.\u001b[0m\u001b[0mindex\u001b[0m\u001b[1;33m(\u001b[0m\u001b[1;36m160\u001b[0m\u001b[1;33m)\u001b[0m\u001b[1;33m\u001b[0m\u001b[1;33m\u001b[0m\u001b[0m\n\u001b[0m",
      "\u001b[1;31mValueError\u001b[0m: 160 is not in list"
     ]
    }
   ],
   "source": [
    "List1.index(1000)"
   ]
  },
  {
   "cell_type": "code",
   "execution_count": 37,
   "id": "d134597b",
   "metadata": {},
   "outputs": [
    {
     "data": {
      "text/plain": [
       "11"
      ]
     },
     "execution_count": 37,
     "metadata": {},
     "output_type": "execute_result"
    }
   ],
   "source": [
    "List1.index({1,2,3,4})"
   ]
  },
  {
   "cell_type": "markdown",
   "id": "7d0fed0a",
   "metadata": {},
   "source": [
    "# Count()"
   ]
  },
  {
   "cell_type": "code",
   "execution_count": 38,
   "id": "a46c577e",
   "metadata": {},
   "outputs": [
    {
     "data": {
      "text/plain": [
       "1"
      ]
     },
     "execution_count": 38,
     "metadata": {},
     "output_type": "execute_result"
    }
   ],
   "source": [
    "List1.count({1,2,3,4})"
   ]
  },
  {
   "cell_type": "code",
   "execution_count": 39,
   "id": "6ef6cec4",
   "metadata": {},
   "outputs": [],
   "source": [
    "ls2 = [2,0,4,10,1,5,98,95]\n"
   ]
  },
  {
   "cell_type": "markdown",
   "id": "9af292b4",
   "metadata": {},
   "source": [
    "# sort()"
   ]
  },
  {
   "cell_type": "code",
   "execution_count": 40,
   "id": "5047b5d4",
   "metadata": {},
   "outputs": [],
   "source": [
    "ls2.sort()          #organizes item in a list in ascending order"
   ]
  },
  {
   "cell_type": "code",
   "execution_count": 41,
   "id": "5ccfca57",
   "metadata": {},
   "outputs": [
    {
     "data": {
      "text/plain": [
       "[0, 1, 2, 4, 5, 10, 95, 98]"
      ]
     },
     "execution_count": 41,
     "metadata": {},
     "output_type": "execute_result"
    }
   ],
   "source": [
    "ls2"
   ]
  },
  {
   "cell_type": "markdown",
   "id": "53da6cea",
   "metadata": {},
   "source": [
    "# reverse()"
   ]
  },
  {
   "cell_type": "code",
   "execution_count": 42,
   "id": "34af4f77",
   "metadata": {},
   "outputs": [],
   "source": [
    "ls2.reverse()        #reverse the orders of items in a list"
   ]
  },
  {
   "cell_type": "code",
   "execution_count": 46,
   "id": "6a93a847",
   "metadata": {},
   "outputs": [
    {
     "data": {
      "text/plain": [
       "[98, 95, 10, 4, 2, 1, 0]"
      ]
     },
     "execution_count": 46,
     "metadata": {},
     "output_type": "execute_result"
    }
   ],
   "source": [
    "ls2"
   ]
  },
  {
   "cell_type": "markdown",
   "id": "af2f6166",
   "metadata": {},
   "source": [
    "# remove()"
   ]
  },
  {
   "cell_type": "code",
   "execution_count": 48,
   "id": "649d1ddd",
   "metadata": {},
   "outputs": [],
   "source": [
    "ls2.remove(4)"
   ]
  },
  {
   "cell_type": "code",
   "execution_count": 49,
   "id": "c874856d",
   "metadata": {},
   "outputs": [
    {
     "data": {
      "text/plain": [
       "[98, 95, 10, 2, 1, 0]"
      ]
     },
     "execution_count": 49,
     "metadata": {},
     "output_type": "execute_result"
    }
   ],
   "source": [
    "ls2"
   ]
  },
  {
   "cell_type": "markdown",
   "id": "b4d2eef6",
   "metadata": {},
   "source": [
    "# pop()"
   ]
  },
  {
   "cell_type": "code",
   "execution_count": 50,
   "id": "de18d831",
   "metadata": {},
   "outputs": [
    {
     "data": {
      "text/plain": [
       "0"
      ]
     },
     "execution_count": 50,
     "metadata": {},
     "output_type": "execute_result"
    }
   ],
   "source": [
    "ls2.pop(-1)"
   ]
  },
  {
   "cell_type": "code",
   "execution_count": 51,
   "id": "0b9e5a03",
   "metadata": {},
   "outputs": [
    {
     "data": {
      "text/plain": [
       "[98, 95, 10, 2, 1]"
      ]
     },
     "execution_count": 51,
     "metadata": {},
     "output_type": "execute_result"
    }
   ],
   "source": [
    "ls2"
   ]
  },
  {
   "cell_type": "code",
   "execution_count": 52,
   "id": "8ba60543",
   "metadata": {},
   "outputs": [],
   "source": [
    "del ls2[0]"
   ]
  },
  {
   "cell_type": "code",
   "execution_count": 53,
   "id": "8b15ce15",
   "metadata": {},
   "outputs": [
    {
     "data": {
      "text/plain": [
       "[95, 10, 2, 1]"
      ]
     },
     "execution_count": 53,
     "metadata": {},
     "output_type": "execute_result"
    }
   ],
   "source": [
    "ls2"
   ]
  },
  {
   "cell_type": "code",
   "execution_count": 54,
   "id": "12f70129",
   "metadata": {},
   "outputs": [],
   "source": [
    "ls2.clear()"
   ]
  },
  {
   "cell_type": "code",
   "execution_count": 55,
   "id": "6709feae",
   "metadata": {},
   "outputs": [
    {
     "data": {
      "text/plain": [
       "[]"
      ]
     },
     "execution_count": 55,
     "metadata": {},
     "output_type": "execute_result"
    }
   ],
   "source": [
    "ls2"
   ]
  },
  {
   "cell_type": "code",
   "execution_count": 56,
   "id": "036d9874",
   "metadata": {},
   "outputs": [
    {
     "data": {
      "text/plain": [
       "list"
      ]
     },
     "execution_count": 56,
     "metadata": {},
     "output_type": "execute_result"
    }
   ],
   "source": [
    "type(ls2)"
   ]
  },
  {
   "cell_type": "code",
   "execution_count": 137,
   "id": "7078f2b6",
   "metadata": {},
   "outputs": [
    {
     "data": {
      "text/plain": [
       "[1, 2, 3, 4, 5, 9, 10, 11, 12, 12]"
      ]
     },
     "execution_count": 137,
     "metadata": {},
     "output_type": "execute_result"
    }
   ],
   "source": [
    "l1 = [1,2,3,4,5]\n",
    "l2 = [9,10,11,12,12]\n",
    "\n",
    "l1+l2"
   ]
  },
  {
   "cell_type": "code",
   "execution_count": null,
   "id": "ec447f43",
   "metadata": {},
   "outputs": [],
   "source": []
  },
  {
   "cell_type": "markdown",
   "id": "f747eedf",
   "metadata": {},
   "source": [
    "# List Comprehension: Elegant way to create a List"
   ]
  },
  {
   "cell_type": "code",
   "execution_count": 57,
   "id": "ebccda07",
   "metadata": {},
   "outputs": [
    {
     "data": {
      "text/plain": [
       "[0, 1, 2, 3, 4, 5, 6, 7, 8, 9]"
      ]
     },
     "execution_count": 57,
     "metadata": {},
     "output_type": "execute_result"
    }
   ],
   "source": [
    "list1 = []         #empty list\n",
    "\n",
    "for x in range(0,10):\n",
    "    list1.append(x)\n",
    "\n",
    "list1"
   ]
  },
  {
   "cell_type": "code",
   "execution_count": 58,
   "id": "e99465fe",
   "metadata": {},
   "outputs": [
    {
     "data": {
      "text/plain": [
       "[0, 1, 2, 3, 4, 5, 6, 7, 8, 9]"
      ]
     },
     "execution_count": 58,
     "metadata": {},
     "output_type": "execute_result"
    }
   ],
   "source": [
    "list2 = [x for x in range(0,10)]\n",
    "list2"
   ]
  },
  {
   "cell_type": "code",
   "execution_count": 60,
   "id": "981a6139",
   "metadata": {},
   "outputs": [
    {
     "data": {
      "text/plain": [
       "[0, 2, 4, 6, 8]"
      ]
     },
     "execution_count": 60,
     "metadata": {},
     "output_type": "execute_result"
    }
   ],
   "source": [
    "list3 = []\n",
    "\n",
    "for x in range(10):\n",
    "    if x%2 == 0:\n",
    "        list3.append(x)\n",
    "\n",
    "list3"
   ]
  },
  {
   "cell_type": "code",
   "execution_count": 62,
   "id": "bd7f6633",
   "metadata": {},
   "outputs": [
    {
     "data": {
      "text/plain": [
       "[0, 2, 4, 6, 8]"
      ]
     },
     "execution_count": 62,
     "metadata": {},
     "output_type": "execute_result"
    }
   ],
   "source": [
    "list4 = [x for x in range(10) if x%2 == 0]\n",
    "list4"
   ]
  },
  {
   "cell_type": "code",
   "execution_count": 63,
   "id": "8bf93f82",
   "metadata": {},
   "outputs": [
    {
     "data": {
      "text/plain": [
       "[1, 3, 5, 7, 9, 11, 13, 15, 17, 19]"
      ]
     },
     "execution_count": 63,
     "metadata": {},
     "output_type": "execute_result"
    }
   ],
   "source": [
    "list5 = [x for x in range(20) if x%2 != 0]\n",
    "list5"
   ]
  },
  {
   "cell_type": "markdown",
   "id": "b71ab348",
   "metadata": {},
   "source": [
    "# Iteration Through List"
   ]
  },
  {
   "cell_type": "code",
   "execution_count": 64,
   "id": "43f76228",
   "metadata": {},
   "outputs": [
    {
     "data": {
      "text/plain": [
       "['ai', 'data science', 1, 2, 3, 9, 8]"
      ]
     },
     "execution_count": 64,
     "metadata": {},
     "output_type": "execute_result"
    }
   ],
   "source": [
    "list6 = ['ai','data science',1,2,3,9,8]\n",
    "list7 = [x for x in list6]\n",
    "list7"
   ]
  },
  {
   "cell_type": "code",
   "execution_count": 65,
   "id": "357da71f",
   "metadata": {},
   "outputs": [
    {
     "data": {
      "text/plain": [
       "['data science', 1, 2, 3, 9, 8]"
      ]
     },
     "execution_count": 65,
     "metadata": {},
     "output_type": "execute_result"
    }
   ],
   "source": [
    "list8 = [x for x in list6 if x != 'ai']\n",
    "list8"
   ]
  },
  {
   "cell_type": "code",
   "execution_count": 66,
   "id": "55d11e16",
   "metadata": {},
   "outputs": [
    {
     "data": {
      "text/plain": [
       "[1, 3, 9, 27, 81, 243, 729, 2187, 6561, 19683]"
      ]
     },
     "execution_count": 66,
     "metadata": {},
     "output_type": "execute_result"
    }
   ],
   "source": [
    "ls3 = [3**x for x in range(10)]             #last element = 3^9\n",
    "ls3"
   ]
  },
  {
   "cell_type": "markdown",
   "id": "03eef69c",
   "metadata": {},
   "source": [
    "# List Membership testing"
   ]
  },
  {
   "cell_type": "code",
   "execution_count": 68,
   "id": "7beff331",
   "metadata": {},
   "outputs": [
    {
     "data": {
      "text/plain": [
       "[0, 1, 2, 3, 4, 5, 6, 7, 8, 9]"
      ]
     },
     "execution_count": 68,
     "metadata": {},
     "output_type": "execute_result"
    }
   ],
   "source": [
    "list2"
   ]
  },
  {
   "cell_type": "code",
   "execution_count": 69,
   "id": "b607e190",
   "metadata": {},
   "outputs": [
    {
     "data": {
      "text/plain": [
       "True"
      ]
     },
     "execution_count": 69,
     "metadata": {},
     "output_type": "execute_result"
    }
   ],
   "source": [
    "9 in list2"
   ]
  },
  {
   "cell_type": "code",
   "execution_count": 70,
   "id": "dd5b2df4",
   "metadata": {},
   "outputs": [
    {
     "data": {
      "text/plain": [
       "False"
      ]
     },
     "execution_count": 70,
     "metadata": {},
     "output_type": "execute_result"
    }
   ],
   "source": [
    "11 in list2"
   ]
  },
  {
   "cell_type": "markdown",
   "id": "d806f61f",
   "metadata": {},
   "source": [
    "# Tuple"
   ]
  },
  {
   "cell_type": "code",
   "execution_count": 74,
   "id": "844eddd3",
   "metadata": {},
   "outputs": [
    {
     "data": {
      "text/plain": [
       "(1, 100, True, 'Bangladesh', 'AI Quest', (1, 2, 3), [4, 10])"
      ]
     },
     "execution_count": 74,
     "metadata": {},
     "output_type": "execute_result"
    }
   ],
   "source": [
    "# The elements of tuple cannot be changed. If it is necesssary to change an element then we have to change the tuple into list, change it and then again convert it into tuple.\n",
    "\n",
    "\n",
    "thistuple = (1,100,True,\"Bangladesh\",\"AI Quest\",(1,2,3),[4,10])\n",
    "thistuple\n",
    "\n"
   ]
  },
  {
   "cell_type": "code",
   "execution_count": 77,
   "id": "d92426ca",
   "metadata": {},
   "outputs": [
    {
     "data": {
      "text/plain": [
       "[4, 10]"
      ]
     },
     "execution_count": 77,
     "metadata": {},
     "output_type": "execute_result"
    }
   ],
   "source": [
    "thistuple[-1]"
   ]
  },
  {
   "cell_type": "code",
   "execution_count": 78,
   "id": "94ac221c",
   "metadata": {},
   "outputs": [],
   "source": [
    "tup1 = ()"
   ]
  },
  {
   "cell_type": "code",
   "execution_count": 79,
   "id": "f3da3a0d",
   "metadata": {},
   "outputs": [
    {
     "data": {
      "text/plain": [
       "tuple"
      ]
     },
     "execution_count": 79,
     "metadata": {},
     "output_type": "execute_result"
    }
   ],
   "source": [
    "type(tup1)"
   ]
  },
  {
   "cell_type": "code",
   "execution_count": 81,
   "id": "d23bcfc8",
   "metadata": {},
   "outputs": [],
   "source": [
    "tup1 = ('ai','Data science','python',1,2,3,4,[1,2,3])\n"
   ]
  },
  {
   "cell_type": "code",
   "execution_count": 82,
   "id": "89770c21",
   "metadata": {},
   "outputs": [
    {
     "data": {
      "text/plain": [
       "('ai', 'Data science', 'python', 1, 2, 3, 4, [1, 2, 3])"
      ]
     },
     "execution_count": 82,
     "metadata": {},
     "output_type": "execute_result"
    }
   ],
   "source": [
    "tup1"
   ]
  },
  {
   "cell_type": "code",
   "execution_count": 84,
   "id": "e1ef4fdc",
   "metadata": {},
   "outputs": [
    {
     "data": {
      "text/plain": [
       "'Data science'"
      ]
     },
     "execution_count": 84,
     "metadata": {},
     "output_type": "execute_result"
    }
   ],
   "source": [
    "tup1[1]"
   ]
  },
  {
   "cell_type": "code",
   "execution_count": 85,
   "id": "10affaf4",
   "metadata": {},
   "outputs": [
    {
     "data": {
      "text/plain": [
       "[1, 2, 3]"
      ]
     },
     "execution_count": 85,
     "metadata": {},
     "output_type": "execute_result"
    }
   ],
   "source": [
    "tup1[-1]"
   ]
  },
  {
   "cell_type": "code",
   "execution_count": 86,
   "id": "b2e029b1",
   "metadata": {},
   "outputs": [
    {
     "data": {
      "text/plain": [
       "('ai', 'Data science', 'python', 1, 2)"
      ]
     },
     "execution_count": 86,
     "metadata": {},
     "output_type": "execute_result"
    }
   ],
   "source": [
    "tup1[0:5]"
   ]
  },
  {
   "cell_type": "code",
   "execution_count": 83,
   "id": "7e3b120b",
   "metadata": {},
   "outputs": [
    {
     "ename": "AttributeError",
     "evalue": "'tuple' object has no attribute 'append'",
     "output_type": "error",
     "traceback": [
      "\u001b[1;31m---------------------------------------------------------------------------\u001b[0m",
      "\u001b[1;31mAttributeError\u001b[0m                            Traceback (most recent call last)",
      "\u001b[1;32m~\\AppData\\Local\\Temp\\ipykernel_7380\\2443125157.py\u001b[0m in \u001b[0;36m<module>\u001b[1;34m\u001b[0m\n\u001b[1;32m----> 1\u001b[1;33m \u001b[0mtup1\u001b[0m\u001b[1;33m.\u001b[0m\u001b[0mappend\u001b[0m\u001b[1;33m(\u001b[0m\u001b[1;36m2\u001b[0m\u001b[1;33m)\u001b[0m\u001b[1;33m\u001b[0m\u001b[1;33m\u001b[0m\u001b[0m\n\u001b[0m\u001b[0;32m      2\u001b[0m \u001b[0mtup1\u001b[0m\u001b[1;33m\u001b[0m\u001b[1;33m\u001b[0m\u001b[0m\n",
      "\u001b[1;31mAttributeError\u001b[0m: 'tuple' object has no attribute 'append'"
     ]
    }
   ],
   "source": [
    "tup1.append(2)\n",
    "tup1"
   ]
  },
  {
   "cell_type": "code",
   "execution_count": 88,
   "id": "455d8cef",
   "metadata": {},
   "outputs": [
    {
     "data": {
      "text/plain": [
       "['rony molla']"
      ]
     },
     "execution_count": 88,
     "metadata": {},
     "output_type": "execute_result"
    }
   ],
   "source": [
    "tup2 = ['rony molla']\n",
    "tup2"
   ]
  },
  {
   "cell_type": "code",
   "execution_count": 89,
   "id": "4a10de92",
   "metadata": {},
   "outputs": [
    {
     "data": {
      "text/plain": [
       "list"
      ]
     },
     "execution_count": 89,
     "metadata": {},
     "output_type": "execute_result"
    }
   ],
   "source": [
    "type(tup2)"
   ]
  },
  {
   "cell_type": "code",
   "execution_count": 91,
   "id": "f341e106",
   "metadata": {},
   "outputs": [
    {
     "data": {
      "text/plain": [
       "'rony molla'"
      ]
     },
     "execution_count": 91,
     "metadata": {},
     "output_type": "execute_result"
    }
   ],
   "source": [
    "tup2 = ('rony molla')\n",
    "tup2"
   ]
  },
  {
   "cell_type": "code",
   "execution_count": 92,
   "id": "f45ae5f4",
   "metadata": {},
   "outputs": [
    {
     "data": {
      "text/plain": [
       "str"
      ]
     },
     "execution_count": 92,
     "metadata": {},
     "output_type": "execute_result"
    }
   ],
   "source": [
    "type(tup2)"
   ]
  },
  {
   "cell_type": "code",
   "execution_count": 93,
   "id": "f392f2f2",
   "metadata": {},
   "outputs": [
    {
     "data": {
      "text/plain": [
       "('rony molla',)"
      ]
     },
     "execution_count": 93,
     "metadata": {},
     "output_type": "execute_result"
    }
   ],
   "source": [
    "tup2 = ('rony molla',)\n",
    "tup2"
   ]
  },
  {
   "cell_type": "code",
   "execution_count": 94,
   "id": "27fdcbe0",
   "metadata": {},
   "outputs": [
    {
     "data": {
      "text/plain": [
       "tuple"
      ]
     },
     "execution_count": 94,
     "metadata": {},
     "output_type": "execute_result"
    }
   ],
   "source": [
    "type(tup2)"
   ]
  },
  {
   "cell_type": "code",
   "execution_count": 95,
   "id": "2737f506",
   "metadata": {},
   "outputs": [],
   "source": [
    "#Tuple to list\n",
    "\n",
    "l = list(tup2)"
   ]
  },
  {
   "cell_type": "code",
   "execution_count": 96,
   "id": "18a14b51",
   "metadata": {},
   "outputs": [
    {
     "data": {
      "text/plain": [
       "['rony molla']"
      ]
     },
     "execution_count": 96,
     "metadata": {},
     "output_type": "execute_result"
    }
   ],
   "source": [
    "l"
   ]
  },
  {
   "cell_type": "code",
   "execution_count": 97,
   "id": "dffdf9f1",
   "metadata": {},
   "outputs": [
    {
     "data": {
      "text/plain": [
       "list"
      ]
     },
     "execution_count": 97,
     "metadata": {},
     "output_type": "execute_result"
    }
   ],
   "source": [
    "type(l)"
   ]
  },
  {
   "cell_type": "code",
   "execution_count": 99,
   "id": "0d9cad58",
   "metadata": {},
   "outputs": [],
   "source": [
    "l.append('Bangladesh')"
   ]
  },
  {
   "cell_type": "code",
   "execution_count": 100,
   "id": "9d820349",
   "metadata": {},
   "outputs": [
    {
     "data": {
      "text/plain": [
       "['rony molla', 'Bangladesh']"
      ]
     },
     "execution_count": 100,
     "metadata": {},
     "output_type": "execute_result"
    }
   ],
   "source": [
    "l"
   ]
  },
  {
   "cell_type": "code",
   "execution_count": 101,
   "id": "fe6bcac5",
   "metadata": {},
   "outputs": [],
   "source": [
    "m = tuple(l)"
   ]
  },
  {
   "cell_type": "code",
   "execution_count": 102,
   "id": "d0ce482a",
   "metadata": {},
   "outputs": [
    {
     "data": {
      "text/plain": [
       "('rony molla', 'Bangladesh')"
      ]
     },
     "execution_count": 102,
     "metadata": {},
     "output_type": "execute_result"
    }
   ],
   "source": [
    "m"
   ]
  },
  {
   "cell_type": "code",
   "execution_count": 103,
   "id": "5ff8cce4",
   "metadata": {},
   "outputs": [
    {
     "data": {
      "text/plain": [
       "tuple"
      ]
     },
     "execution_count": 103,
     "metadata": {},
     "output_type": "execute_result"
    }
   ],
   "source": [
    "type(m)"
   ]
  },
  {
   "cell_type": "code",
   "execution_count": 104,
   "id": "d5fd5aa1",
   "metadata": {},
   "outputs": [
    {
     "ename": "AttributeError",
     "evalue": "'tuple' object has no attribute 'append'",
     "output_type": "error",
     "traceback": [
      "\u001b[1;31m---------------------------------------------------------------------------\u001b[0m",
      "\u001b[1;31mAttributeError\u001b[0m                            Traceback (most recent call last)",
      "\u001b[1;32m~\\AppData\\Local\\Temp\\ipykernel_7380\\1528330335.py\u001b[0m in \u001b[0;36m<module>\u001b[1;34m\u001b[0m\n\u001b[1;32m----> 1\u001b[1;33m \u001b[0mm\u001b[0m\u001b[1;33m.\u001b[0m\u001b[0mappend\u001b[0m\u001b[1;33m(\u001b[0m\u001b[1;36m8\u001b[0m\u001b[1;33m)\u001b[0m\u001b[1;33m\u001b[0m\u001b[1;33m\u001b[0m\u001b[0m\n\u001b[0m",
      "\u001b[1;31mAttributeError\u001b[0m: 'tuple' object has no attribute 'append'"
     ]
    }
   ],
   "source": [
    "m.append(8)"
   ]
  },
  {
   "cell_type": "code",
   "execution_count": 107,
   "id": "32cc365d",
   "metadata": {},
   "outputs": [],
   "source": [
    "#Duplicate value\n",
    "\n",
    "tup1 = ('ai','Data science','python',1,2,2,2,2,3,3,3,3,4,[1,2,3])"
   ]
  },
  {
   "cell_type": "code",
   "execution_count": 108,
   "id": "e6271279",
   "metadata": {},
   "outputs": [
    {
     "data": {
      "text/plain": [
       "('ai', 'Data science', 'python', 1, 2, 2, 2, 2, 3, 3, 3, 3, 4, [1, 2, 3])"
      ]
     },
     "execution_count": 108,
     "metadata": {},
     "output_type": "execute_result"
    }
   ],
   "source": [
    "tup1"
   ]
  },
  {
   "cell_type": "code",
   "execution_count": 109,
   "id": "acfeb1e6",
   "metadata": {},
   "outputs": [
    {
     "data": {
      "text/plain": [
       "(1, 2, 3, 4, 5)"
      ]
     },
     "execution_count": 109,
     "metadata": {},
     "output_type": "execute_result"
    }
   ],
   "source": [
    "#Tuple allows duplicate value\n",
    "\n",
    "tup4 = tuple([1,2,3,4,5])\n",
    "tup4"
   ]
  },
  {
   "cell_type": "code",
   "execution_count": 111,
   "id": "b1b93380",
   "metadata": {},
   "outputs": [],
   "source": [
    "tup5 = 10,20,30,'Bangladesh',True"
   ]
  },
  {
   "cell_type": "code",
   "execution_count": 112,
   "id": "44d15ad2",
   "metadata": {},
   "outputs": [
    {
     "data": {
      "text/plain": [
       "(10, 20, 30, 'Bangladesh', True)"
      ]
     },
     "execution_count": 112,
     "metadata": {},
     "output_type": "execute_result"
    }
   ],
   "source": [
    "tup5"
   ]
  },
  {
   "cell_type": "code",
   "execution_count": 113,
   "id": "310512a9",
   "metadata": {},
   "outputs": [
    {
     "data": {
      "text/plain": [
       "tuple"
      ]
     },
     "execution_count": 113,
     "metadata": {},
     "output_type": "execute_result"
    }
   ],
   "source": [
    "type(tup5)"
   ]
  },
  {
   "cell_type": "code",
   "execution_count": 114,
   "id": "75eb5147",
   "metadata": {},
   "outputs": [
    {
     "data": {
      "text/plain": [
       "str"
      ]
     },
     "execution_count": 114,
     "metadata": {},
     "output_type": "execute_result"
    }
   ],
   "source": [
    "tup2 = 'Bangladesh'\n",
    "type(tup2)"
   ]
  },
  {
   "cell_type": "code",
   "execution_count": 115,
   "id": "77b5ec44",
   "metadata": {},
   "outputs": [
    {
     "data": {
      "text/plain": [
       "tuple"
      ]
     },
     "execution_count": 115,
     "metadata": {},
     "output_type": "execute_result"
    }
   ],
   "source": [
    "tup2 = 'Bangladesh',\n",
    "type(tup2)"
   ]
  },
  {
   "cell_type": "code",
   "execution_count": 116,
   "id": "bec838ab",
   "metadata": {},
   "outputs": [
    {
     "data": {
      "text/plain": [
       "('Bangladesh', 10, 20, 30, 'Bangladesh', True)"
      ]
     },
     "execution_count": 116,
     "metadata": {},
     "output_type": "execute_result"
    }
   ],
   "source": [
    "tup2 + tup5        #tuple concatenation"
   ]
  },
  {
   "cell_type": "code",
   "execution_count": 117,
   "id": "b3b23799",
   "metadata": {},
   "outputs": [],
   "source": [
    "tup8 = (1,2,3,3,4)"
   ]
  },
  {
   "cell_type": "code",
   "execution_count": 124,
   "id": "b4283776",
   "metadata": {},
   "outputs": [
    {
     "data": {
      "text/plain": [
       "(1, 2, 3, 3, 4, 1, 2, 3, 3, 4, 1, 2, 3, 3, 4, 1, 2, 3, 3, 4)"
      ]
     },
     "execution_count": 124,
     "metadata": {},
     "output_type": "execute_result"
    }
   ],
   "source": [
    "tup9 = tup8*4\n",
    "tup9   #tuple multiplication is possible only if the items are numeric"
   ]
  },
  {
   "cell_type": "code",
   "execution_count": 122,
   "id": "2b8284f2",
   "metadata": {},
   "outputs": [
    {
     "data": {
      "text/plain": [
       "4"
      ]
     },
     "execution_count": 122,
     "metadata": {},
     "output_type": "execute_result"
    }
   ],
   "source": [
    "tup9.count(4)"
   ]
  },
  {
   "cell_type": "code",
   "execution_count": 125,
   "id": "2a4afdeb",
   "metadata": {},
   "outputs": [
    {
     "data": {
      "text/plain": [
       "4"
      ]
     },
     "execution_count": 125,
     "metadata": {},
     "output_type": "execute_result"
    }
   ],
   "source": [
    "tup9.index(4)"
   ]
  },
  {
   "cell_type": "markdown",
   "id": "bf8ce4ed",
   "metadata": {},
   "source": [
    "# Membership"
   ]
  },
  {
   "cell_type": "code",
   "execution_count": 126,
   "id": "c3310040",
   "metadata": {},
   "outputs": [
    {
     "data": {
      "text/plain": [
       "True"
      ]
     },
     "execution_count": 126,
     "metadata": {},
     "output_type": "execute_result"
    }
   ],
   "source": [
    "'Bangladesh' in tup5"
   ]
  },
  {
   "cell_type": "code",
   "execution_count": 130,
   "id": "d7d812d7",
   "metadata": {},
   "outputs": [],
   "source": [
    "# We can delete the whole tuple\n",
    "\n",
    "del tup5"
   ]
  },
  {
   "cell_type": "code",
   "execution_count": 131,
   "id": "88913f8d",
   "metadata": {},
   "outputs": [
    {
     "ename": "NameError",
     "evalue": "name 'tup5' is not defined",
     "output_type": "error",
     "traceback": [
      "\u001b[1;31m---------------------------------------------------------------------------\u001b[0m",
      "\u001b[1;31mNameError\u001b[0m                                 Traceback (most recent call last)",
      "\u001b[1;32m~\\AppData\\Local\\Temp\\ipykernel_7380\\4037451215.py\u001b[0m in \u001b[0;36m<module>\u001b[1;34m\u001b[0m\n\u001b[1;32m----> 1\u001b[1;33m \u001b[0mtup5\u001b[0m\u001b[1;33m\u001b[0m\u001b[1;33m\u001b[0m\u001b[0m\n\u001b[0m",
      "\u001b[1;31mNameError\u001b[0m: name 'tup5' is not defined"
     ]
    }
   ],
   "source": [
    "tup5"
   ]
  },
  {
   "cell_type": "code",
   "execution_count": 132,
   "id": "b677d088",
   "metadata": {},
   "outputs": [],
   "source": [
    "tup1 = ('ai','Data science','python',1,2,3,4,[1,2,3])\n",
    " "
   ]
  },
  {
   "cell_type": "code",
   "execution_count": 133,
   "id": "dca7c13e",
   "metadata": {},
   "outputs": [
    {
     "name": "stdout",
     "output_type": "stream",
     "text": [
      "ai\n",
      "Data science\n",
      "python\n",
      "1\n",
      "2\n",
      "3\n",
      "4\n",
      "[1, 2, 3]\n"
     ]
    }
   ],
   "source": [
    "tup1 = ('ai','Data science','python',1,2,3,4,[1,2,3])\n",
    "\n",
    "for i in tup1:\n",
    "    print(i)"
   ]
  },
  {
   "cell_type": "code",
   "execution_count": 135,
   "id": "5a3dd632",
   "metadata": {},
   "outputs": [
    {
     "data": {
      "text/plain": [
       "3"
      ]
     },
     "execution_count": 135,
     "metadata": {},
     "output_type": "execute_result"
    }
   ],
   "source": [
    "tup1[-1][-1]"
   ]
  },
  {
   "cell_type": "markdown",
   "id": "543d3279",
   "metadata": {},
   "source": [
    "# Set in Python"
   ]
  },
  {
   "cell_type": "code",
   "execution_count": 1,
   "id": "f7f9aec0",
   "metadata": {},
   "outputs": [
    {
     "data": {
      "text/plain": [
       "{(1, 7, 10), 1, 2, 3, 'Data science', 'ai'}"
      ]
     },
     "execution_count": 1,
     "metadata": {},
     "output_type": "execute_result"
    }
   ],
   "source": [
    "# Set is unordered/ Unindexed\n",
    "#Unchangeable\n",
    "#Duplicate values are not allowed\n",
    "#Curly bracket\n",
    "\n",
    "set1 = {1,2,3,'ai','Data science',True,(1,7,10)}\n",
    "set1\n"
   ]
  },
  {
   "cell_type": "code",
   "execution_count": 2,
   "id": "2cf6f7f1",
   "metadata": {},
   "outputs": [
    {
     "data": {
      "text/plain": [
       "{1, 2, 3, 5, 6, 7}"
      ]
     },
     "execution_count": 2,
     "metadata": {},
     "output_type": "execute_result"
    }
   ],
   "source": [
    "s1 = {1,2,3,1,5,6,7}      #set does not allow one value two times to stay\n",
    "s1"
   ]
  },
  {
   "cell_type": "code",
   "execution_count": 3,
   "id": "26add99f",
   "metadata": {},
   "outputs": [
    {
     "data": {
      "text/plain": [
       "set"
      ]
     },
     "execution_count": 3,
     "metadata": {},
     "output_type": "execute_result"
    }
   ],
   "source": [
    "type(set1)"
   ]
  },
  {
   "cell_type": "code",
   "execution_count": 4,
   "id": "0a370af0",
   "metadata": {},
   "outputs": [
    {
     "data": {
      "text/plain": [
       "dict"
      ]
     },
     "execution_count": 4,
     "metadata": {},
     "output_type": "execute_result"
    }
   ],
   "source": [
    "#Set and dictionary both can be represented with curly bracket\n",
    "\n",
    "set2 = {}\n",
    "type(set2)"
   ]
  },
  {
   "cell_type": "code",
   "execution_count": 5,
   "id": "406b0cf9",
   "metadata": {},
   "outputs": [
    {
     "data": {
      "text/plain": [
       "set"
      ]
     },
     "execution_count": 5,
     "metadata": {},
     "output_type": "execute_result"
    }
   ],
   "source": [
    "set3 = set()      #set() is used to define set\n",
    "type(set3)"
   ]
  },
  {
   "cell_type": "code",
   "execution_count": 6,
   "id": "2263bff0",
   "metadata": {},
   "outputs": [
    {
     "data": {
      "text/plain": [
       "set()"
      ]
     },
     "execution_count": 6,
     "metadata": {},
     "output_type": "execute_result"
    }
   ],
   "source": [
    "set3"
   ]
  },
  {
   "cell_type": "code",
   "execution_count": 7,
   "id": "98011601",
   "metadata": {},
   "outputs": [
    {
     "ename": "TypeError",
     "evalue": "'set' object is not subscriptable",
     "output_type": "error",
     "traceback": [
      "\u001b[1;31m---------------------------------------------------------------------------\u001b[0m",
      "\u001b[1;31mTypeError\u001b[0m                                 Traceback (most recent call last)",
      "\u001b[1;32m~\\AppData\\Local\\Temp\\ipykernel_16652\\2166654704.py\u001b[0m in \u001b[0;36m<module>\u001b[1;34m\u001b[0m\n\u001b[1;32m----> 1\u001b[1;33m \u001b[0mset1\u001b[0m\u001b[1;33m[\u001b[0m\u001b[1;36m0\u001b[0m\u001b[1;33m]\u001b[0m\u001b[1;33m\u001b[0m\u001b[1;33m\u001b[0m\u001b[0m\n\u001b[0m",
      "\u001b[1;31mTypeError\u001b[0m: 'set' object is not subscriptable"
     ]
    }
   ],
   "source": [
    "set1[0]"
   ]
  },
  {
   "cell_type": "code",
   "execution_count": 8,
   "id": "2b774d07",
   "metadata": {},
   "outputs": [],
   "source": [
    "# Adding in set function\n",
    "\n",
    "set1.add(100)"
   ]
  },
  {
   "cell_type": "code",
   "execution_count": 21,
   "id": "d3d199fa",
   "metadata": {},
   "outputs": [
    {
     "data": {
      "text/plain": [
       "{(1, 7, 10), 10, 100, 2, 20, 3, 30, 40, 'Data science'}"
      ]
     },
     "execution_count": 21,
     "metadata": {},
     "output_type": "execute_result"
    }
   ],
   "source": [
    "set1"
   ]
  },
  {
   "cell_type": "code",
   "execution_count": 22,
   "id": "956be818",
   "metadata": {},
   "outputs": [],
   "source": [
    "set1.add(100)"
   ]
  },
  {
   "cell_type": "code",
   "execution_count": 23,
   "id": "a367f46f",
   "metadata": {},
   "outputs": [
    {
     "data": {
      "text/plain": [
       "{(1, 7, 10), 10, 100, 2, 20, 3, 30, 40, 'Data science'}"
      ]
     },
     "execution_count": 23,
     "metadata": {},
     "output_type": "execute_result"
    }
   ],
   "source": [
    "set1"
   ]
  },
  {
   "cell_type": "code",
   "execution_count": 24,
   "id": "bb66afc0",
   "metadata": {},
   "outputs": [
    {
     "data": {
      "text/plain": [
       "{(1, 7, 10), 10, 100, 2, 20, 3, 30, 40, 'Data science'}"
      ]
     },
     "execution_count": 24,
     "metadata": {},
     "output_type": "execute_result"
    }
   ],
   "source": [
    "set1.update([10])\n",
    "set1"
   ]
  },
  {
   "cell_type": "code",
   "execution_count": 25,
   "id": "c18b6e98",
   "metadata": {},
   "outputs": [
    {
     "data": {
      "text/plain": [
       "{(1, 7, 10), 10, 100, 2, 20, 3, 30, 40, 'Data science'}"
      ]
     },
     "execution_count": 25,
     "metadata": {},
     "output_type": "execute_result"
    }
   ],
   "source": [
    "set1.update([10,20,30,40])       #10 can be stored in set only one,not twice.\n",
    "set1"
   ]
  },
  {
   "cell_type": "code",
   "execution_count": 29,
   "id": "8a099744",
   "metadata": {},
   "outputs": [
    {
     "data": {
      "text/plain": [
       "{(1, 7, 10), 100, 2, 20, 3, 30, 40}"
      ]
     },
     "execution_count": 29,
     "metadata": {},
     "output_type": "execute_result"
    }
   ],
   "source": [
    "set1.remove(10)\n",
    "set1"
   ]
  },
  {
   "cell_type": "code",
   "execution_count": 30,
   "id": "b3b4f307",
   "metadata": {},
   "outputs": [],
   "source": [
    "set4 = {1,2,3,4,5,6,'ai','nstu','Bangladesh'}\n"
   ]
  },
  {
   "cell_type": "code",
   "execution_count": 31,
   "id": "ba8d6498",
   "metadata": {},
   "outputs": [],
   "source": [
    "set4.remove('Bangladesh')      #remove function cannot delete multiple values"
   ]
  },
  {
   "cell_type": "code",
   "execution_count": 32,
   "id": "63463e50",
   "metadata": {},
   "outputs": [
    {
     "data": {
      "text/plain": [
       "{1, 2, 3, 4, 5, 6, 'ai', 'nstu'}"
      ]
     },
     "execution_count": 32,
     "metadata": {},
     "output_type": "execute_result"
    }
   ],
   "source": [
    "set4"
   ]
  },
  {
   "cell_type": "code",
   "execution_count": 33,
   "id": "97d18cbc",
   "metadata": {},
   "outputs": [
    {
     "data": {
      "text/plain": [
       "{(1, 7, 10), 100, 2, 20, 3, 30, 40}"
      ]
     },
     "execution_count": 33,
     "metadata": {},
     "output_type": "execute_result"
    }
   ],
   "source": [
    "# In order to delete multiple values, we have to use discard function\n",
    "\n",
    "# If a value does not exist in a set, then using discard function will not show any error\n",
    "# But if a value does not exist in a set, then using remove function to remove the same value will show error.\n",
    "\n",
    "\n",
    "set1"
   ]
  },
  {
   "cell_type": "code",
   "execution_count": 34,
   "id": "b39f1da3",
   "metadata": {},
   "outputs": [],
   "source": [
    "set1.discard(50)"
   ]
  },
  {
   "cell_type": "code",
   "execution_count": 35,
   "id": "21084887",
   "metadata": {},
   "outputs": [
    {
     "data": {
      "text/plain": [
       "{(1, 7, 10), 100, 2, 20, 3, 30, 40}"
      ]
     },
     "execution_count": 35,
     "metadata": {},
     "output_type": "execute_result"
    }
   ],
   "source": [
    "set1"
   ]
  },
  {
   "cell_type": "code",
   "execution_count": 36,
   "id": "eb94942c",
   "metadata": {},
   "outputs": [
    {
     "ename": "KeyError",
     "evalue": "50",
     "output_type": "error",
     "traceback": [
      "\u001b[1;31m---------------------------------------------------------------------------\u001b[0m",
      "\u001b[1;31mKeyError\u001b[0m                                  Traceback (most recent call last)",
      "\u001b[1;32m~\\AppData\\Local\\Temp\\ipykernel_16652\\3706431340.py\u001b[0m in \u001b[0;36m<module>\u001b[1;34m\u001b[0m\n\u001b[1;32m----> 1\u001b[1;33m \u001b[0mset1\u001b[0m\u001b[1;33m.\u001b[0m\u001b[0mremove\u001b[0m\u001b[1;33m(\u001b[0m\u001b[1;36m50\u001b[0m\u001b[1;33m)\u001b[0m\u001b[1;33m\u001b[0m\u001b[1;33m\u001b[0m\u001b[0m\n\u001b[0m",
      "\u001b[1;31mKeyError\u001b[0m: 50"
     ]
    }
   ],
   "source": [
    "set1.remove(50)      #50 does not exist in set1"
   ]
  },
  {
   "cell_type": "code",
   "execution_count": 37,
   "id": "988b6d9f",
   "metadata": {},
   "outputs": [
    {
     "data": {
      "text/plain": [
       "True"
      ]
     },
     "execution_count": 37,
     "metadata": {},
     "output_type": "execute_result"
    }
   ],
   "source": [
    "2 in set1"
   ]
  },
  {
   "cell_type": "code",
   "execution_count": 38,
   "id": "ddacf8aa",
   "metadata": {},
   "outputs": [],
   "source": [
    "set1.clear()"
   ]
  },
  {
   "cell_type": "code",
   "execution_count": 39,
   "id": "d4330147",
   "metadata": {},
   "outputs": [
    {
     "data": {
      "text/plain": [
       "set()"
      ]
     },
     "execution_count": 39,
     "metadata": {},
     "output_type": "execute_result"
    }
   ],
   "source": [
    "set1"
   ]
  },
  {
   "cell_type": "code",
   "execution_count": 40,
   "id": "e8d9023a",
   "metadata": {},
   "outputs": [
    {
     "data": {
      "text/plain": [
       "{1, 2, 3, 4}"
      ]
     },
     "execution_count": 40,
     "metadata": {},
     "output_type": "execute_result"
    }
   ],
   "source": [
    "set2 = {1,2,3,4,4}\n",
    "set2"
   ]
  },
  {
   "cell_type": "code",
   "execution_count": 41,
   "id": "5cfc04c2",
   "metadata": {},
   "outputs": [
    {
     "data": {
      "text/plain": [
       "1"
      ]
     },
     "execution_count": 41,
     "metadata": {},
     "output_type": "execute_result"
    }
   ],
   "source": [
    "set2.pop()      # pop function will delete one by one value from the beginning"
   ]
  },
  {
   "cell_type": "code",
   "execution_count": 42,
   "id": "20752251",
   "metadata": {},
   "outputs": [
    {
     "data": {
      "text/plain": [
       "2"
      ]
     },
     "execution_count": 42,
     "metadata": {},
     "output_type": "execute_result"
    }
   ],
   "source": [
    "set2.pop()"
   ]
  },
  {
   "cell_type": "code",
   "execution_count": 43,
   "id": "7922d1fe",
   "metadata": {},
   "outputs": [
    {
     "data": {
      "text/plain": [
       "{3, 4}"
      ]
     },
     "execution_count": 43,
     "metadata": {},
     "output_type": "execute_result"
    }
   ],
   "source": [
    "set2"
   ]
  },
  {
   "cell_type": "code",
   "execution_count": null,
   "id": "46f6b719",
   "metadata": {},
   "outputs": [],
   "source": [
    "#day 18"
   ]
  },
  {
   "cell_type": "code",
   "execution_count": null,
   "id": "f5c1ebef",
   "metadata": {},
   "outputs": [],
   "source": []
  },
  {
   "cell_type": "code",
   "execution_count": null,
   "id": "29a703df",
   "metadata": {},
   "outputs": [],
   "source": []
  },
  {
   "cell_type": "code",
   "execution_count": null,
   "id": "a97550ec",
   "metadata": {},
   "outputs": [],
   "source": []
  },
  {
   "cell_type": "code",
   "execution_count": null,
   "id": "03d05dd8",
   "metadata": {},
   "outputs": [],
   "source": []
  },
  {
   "cell_type": "code",
   "execution_count": null,
   "id": "7f4aae39",
   "metadata": {},
   "outputs": [],
   "source": []
  },
  {
   "cell_type": "code",
   "execution_count": null,
   "id": "c05f89da",
   "metadata": {},
   "outputs": [],
   "source": []
  },
  {
   "cell_type": "code",
   "execution_count": null,
   "id": "ea20328d",
   "metadata": {},
   "outputs": [],
   "source": []
  },
  {
   "cell_type": "code",
   "execution_count": null,
   "id": "83140b1d",
   "metadata": {},
   "outputs": [],
   "source": []
  },
  {
   "cell_type": "code",
   "execution_count": null,
   "id": "d07b3e86",
   "metadata": {},
   "outputs": [],
   "source": []
  },
  {
   "cell_type": "code",
   "execution_count": null,
   "id": "c1a19df6",
   "metadata": {},
   "outputs": [],
   "source": []
  },
  {
   "cell_type": "code",
   "execution_count": null,
   "id": "83ae7114",
   "metadata": {},
   "outputs": [],
   "source": []
  },
  {
   "cell_type": "code",
   "execution_count": null,
   "id": "b8caa54c",
   "metadata": {},
   "outputs": [],
   "source": []
  },
  {
   "cell_type": "code",
   "execution_count": 30,
   "id": "a5faa516",
   "metadata": {},
   "outputs": [],
   "source": [
    "s1 = {1,2,3,4}\n",
    "s2 = {1,4,'a','b'}"
   ]
  },
  {
   "cell_type": "code",
   "execution_count": 31,
   "id": "3182efe9",
   "metadata": {},
   "outputs": [
    {
     "data": {
      "text/plain": [
       "{1, 2, 3, 4}"
      ]
     },
     "execution_count": 31,
     "metadata": {},
     "output_type": "execute_result"
    }
   ],
   "source": [
    "s1"
   ]
  },
  {
   "cell_type": "code",
   "execution_count": 32,
   "id": "5e90487f",
   "metadata": {},
   "outputs": [
    {
     "data": {
      "text/plain": [
       "{1, 4, 'a', 'b'}"
      ]
     },
     "execution_count": 32,
     "metadata": {},
     "output_type": "execute_result"
    }
   ],
   "source": [
    "s2"
   ]
  },
  {
   "cell_type": "code",
   "execution_count": 33,
   "id": "bd02edbc",
   "metadata": {},
   "outputs": [],
   "source": [
    "s3 = frozenset(s2)"
   ]
  },
  {
   "cell_type": "code",
   "execution_count": 34,
   "id": "0d206449",
   "metadata": {},
   "outputs": [
    {
     "data": {
      "text/plain": [
       "frozenset({1, 4, 'a', 'b'})"
      ]
     },
     "execution_count": 34,
     "metadata": {},
     "output_type": "execute_result"
    }
   ],
   "source": [
    "s3"
   ]
  },
  {
   "cell_type": "code",
   "execution_count": null,
   "id": "c4c42050",
   "metadata": {},
   "outputs": [],
   "source": []
  },
  {
   "cell_type": "code",
   "execution_count": 36,
   "id": "b63fcbd1",
   "metadata": {},
   "outputs": [
    {
     "data": {
      "text/plain": [
       "{1, 2, 3, 4}"
      ]
     },
     "execution_count": 36,
     "metadata": {},
     "output_type": "execute_result"
    }
   ],
   "source": [
    "s1"
   ]
  },
  {
   "cell_type": "code",
   "execution_count": 37,
   "id": "d99af039",
   "metadata": {},
   "outputs": [],
   "source": [
    "s1.add('d')"
   ]
  },
  {
   "cell_type": "code",
   "execution_count": 38,
   "id": "1bdc4226",
   "metadata": {},
   "outputs": [
    {
     "data": {
      "text/plain": [
       "{1, 2, 3, 4, 'd'}"
      ]
     },
     "execution_count": 38,
     "metadata": {},
     "output_type": "execute_result"
    }
   ],
   "source": [
    "s1"
   ]
  },
  {
   "cell_type": "code",
   "execution_count": 39,
   "id": "436cca42",
   "metadata": {},
   "outputs": [],
   "source": [
    "s2 = s1"
   ]
  },
  {
   "cell_type": "code",
   "execution_count": 40,
   "id": "704cc698",
   "metadata": {},
   "outputs": [],
   "source": [
    "s2.remove('d')"
   ]
  },
  {
   "cell_type": "code",
   "execution_count": 41,
   "id": "93b889e5",
   "metadata": {},
   "outputs": [
    {
     "data": {
      "text/plain": [
       "{1, 2, 3, 4}"
      ]
     },
     "execution_count": 41,
     "metadata": {},
     "output_type": "execute_result"
    }
   ],
   "source": [
    "s2"
   ]
  },
  {
   "cell_type": "code",
   "execution_count": 42,
   "id": "8af957e2",
   "metadata": {},
   "outputs": [
    {
     "data": {
      "text/plain": [
       "{1, 2, 3, 4}"
      ]
     },
     "execution_count": 42,
     "metadata": {},
     "output_type": "execute_result"
    }
   ],
   "source": [
    "s1"
   ]
  },
  {
   "cell_type": "code",
   "execution_count": 43,
   "id": "c57c74e8",
   "metadata": {},
   "outputs": [],
   "source": [
    "s4 = s1.copy()"
   ]
  },
  {
   "cell_type": "code",
   "execution_count": 44,
   "id": "cbe04df4",
   "metadata": {},
   "outputs": [
    {
     "data": {
      "text/plain": [
       "{1, 2, 3, 4}"
      ]
     },
     "execution_count": 44,
     "metadata": {},
     "output_type": "execute_result"
    }
   ],
   "source": [
    "s4"
   ]
  },
  {
   "cell_type": "code",
   "execution_count": 45,
   "id": "99c321b2",
   "metadata": {},
   "outputs": [],
   "source": [
    "s4.remove(1)"
   ]
  },
  {
   "cell_type": "code",
   "execution_count": 46,
   "id": "90a235d8",
   "metadata": {},
   "outputs": [
    {
     "data": {
      "text/plain": [
       "{2, 3, 4}"
      ]
     },
     "execution_count": 46,
     "metadata": {},
     "output_type": "execute_result"
    }
   ],
   "source": [
    "s4"
   ]
  },
  {
   "cell_type": "code",
   "execution_count": 47,
   "id": "be5ebe32",
   "metadata": {},
   "outputs": [
    {
     "data": {
      "text/plain": [
       "{1, 2, 3, 4}"
      ]
     },
     "execution_count": 47,
     "metadata": {},
     "output_type": "execute_result"
    }
   ],
   "source": [
    "s1"
   ]
  },
  {
   "cell_type": "code",
   "execution_count": 48,
   "id": "7b29cfb3",
   "metadata": {},
   "outputs": [
    {
     "data": {
      "text/plain": [
       "frozenset({1, 4, 'a', 'b'})"
      ]
     },
     "execution_count": 48,
     "metadata": {},
     "output_type": "execute_result"
    }
   ],
   "source": [
    "s3"
   ]
  },
  {
   "cell_type": "code",
   "execution_count": 50,
   "id": "fa61ab9c",
   "metadata": {},
   "outputs": [
    {
     "data": {
      "text/plain": [
       "{2, 3}"
      ]
     },
     "execution_count": 50,
     "metadata": {},
     "output_type": "execute_result"
    }
   ],
   "source": [
    "s1.difference(s3)"
   ]
  },
  {
   "cell_type": "code",
   "execution_count": 51,
   "id": "e64014ef",
   "metadata": {},
   "outputs": [
    {
     "data": {
      "text/plain": [
       "frozenset({'a', 'b'})"
      ]
     },
     "execution_count": 51,
     "metadata": {},
     "output_type": "execute_result"
    }
   ],
   "source": [
    "s3.difference(s1)"
   ]
  },
  {
   "cell_type": "code",
   "execution_count": 52,
   "id": "5b508272",
   "metadata": {},
   "outputs": [
    {
     "data": {
      "text/plain": [
       "frozenset({1, 4, 'a', 'b'})"
      ]
     },
     "execution_count": 52,
     "metadata": {},
     "output_type": "execute_result"
    }
   ],
   "source": [
    "s3"
   ]
  },
  {
   "cell_type": "code",
   "execution_count": 53,
   "id": "b0051170",
   "metadata": {},
   "outputs": [
    {
     "data": {
      "text/plain": [
       "{1, 2, 3, 4}"
      ]
     },
     "execution_count": 53,
     "metadata": {},
     "output_type": "execute_result"
    }
   ],
   "source": [
    "s1"
   ]
  },
  {
   "cell_type": "code",
   "execution_count": 54,
   "id": "3d60daa4",
   "metadata": {},
   "outputs": [
    {
     "ename": "AttributeError",
     "evalue": "'frozenset' object has no attribute 'difference_update'",
     "output_type": "error",
     "traceback": [
      "\u001b[1;31m---------------------------------------------------------------------------\u001b[0m",
      "\u001b[1;31mAttributeError\u001b[0m                            Traceback (most recent call last)",
      "\u001b[1;32m~\\AppData\\Local\\Temp\\ipykernel_12052\\518840812.py\u001b[0m in \u001b[0;36m<module>\u001b[1;34m\u001b[0m\n\u001b[1;32m----> 1\u001b[1;33m \u001b[0ms3\u001b[0m\u001b[1;33m.\u001b[0m\u001b[0mdifference_update\u001b[0m\u001b[1;33m(\u001b[0m\u001b[0ms1\u001b[0m\u001b[1;33m)\u001b[0m\u001b[1;33m\u001b[0m\u001b[1;33m\u001b[0m\u001b[0m\n\u001b[0m",
      "\u001b[1;31mAttributeError\u001b[0m: 'frozenset' object has no attribute 'difference_update'"
     ]
    }
   ],
   "source": [
    "s3.difference_update(s1)"
   ]
  },
  {
   "cell_type": "code",
   "execution_count": 55,
   "id": "3d158425",
   "metadata": {},
   "outputs": [],
   "source": [
    "s1.difference_update(s3)"
   ]
  },
  {
   "cell_type": "code",
   "execution_count": 56,
   "id": "6864f894",
   "metadata": {},
   "outputs": [
    {
     "data": {
      "text/plain": [
       "{2, 3}"
      ]
     },
     "execution_count": 56,
     "metadata": {},
     "output_type": "execute_result"
    }
   ],
   "source": [
    "s1"
   ]
  },
  {
   "cell_type": "code",
   "execution_count": 57,
   "id": "78e27136",
   "metadata": {},
   "outputs": [
    {
     "data": {
      "text/plain": [
       "{1, 2}"
      ]
     },
     "execution_count": 57,
     "metadata": {},
     "output_type": "execute_result"
    }
   ],
   "source": [
    "s1 = {1,2,3}\n",
    "s2 = {3,4}\n",
    "s1.difference(s2)"
   ]
  },
  {
   "cell_type": "code",
   "execution_count": 58,
   "id": "d6b74912",
   "metadata": {},
   "outputs": [
    {
     "data": {
      "text/plain": [
       "{1, 2, 3}"
      ]
     },
     "execution_count": 58,
     "metadata": {},
     "output_type": "execute_result"
    }
   ],
   "source": [
    "s1"
   ]
  },
  {
   "cell_type": "code",
   "execution_count": 60,
   "id": "a642641f",
   "metadata": {},
   "outputs": [],
   "source": [
    "s1.difference_update(s2)"
   ]
  },
  {
   "cell_type": "code",
   "execution_count": 61,
   "id": "4e82ff3b",
   "metadata": {},
   "outputs": [
    {
     "data": {
      "text/plain": [
       "{1, 2}"
      ]
     },
     "execution_count": 61,
     "metadata": {},
     "output_type": "execute_result"
    }
   ],
   "source": [
    "s1"
   ]
  },
  {
   "cell_type": "code",
   "execution_count": 62,
   "id": "e43586d7",
   "metadata": {},
   "outputs": [
    {
     "data": {
      "text/plain": [
       "{3, 4}"
      ]
     },
     "execution_count": 62,
     "metadata": {},
     "output_type": "execute_result"
    }
   ],
   "source": [
    "s2"
   ]
  },
  {
   "cell_type": "code",
   "execution_count": 63,
   "id": "68fb2b1f",
   "metadata": {},
   "outputs": [
    {
     "data": {
      "text/plain": [
       "False"
      ]
     },
     "execution_count": 63,
     "metadata": {},
     "output_type": "execute_result"
    }
   ],
   "source": [
    "s1.issubset(s2)"
   ]
  },
  {
   "cell_type": "code",
   "execution_count": 64,
   "id": "0d24c9b9",
   "metadata": {},
   "outputs": [
    {
     "data": {
      "text/plain": [
       "True"
      ]
     },
     "execution_count": 64,
     "metadata": {},
     "output_type": "execute_result"
    }
   ],
   "source": [
    "{3}.issubset(s2)"
   ]
  },
  {
   "cell_type": "code",
   "execution_count": 67,
   "id": "8235b89b",
   "metadata": {},
   "outputs": [
    {
     "data": {
      "text/plain": [
       "True"
      ]
     },
     "execution_count": 67,
     "metadata": {},
     "output_type": "execute_result"
    }
   ],
   "source": [
    "s2.issuperset({4})"
   ]
  },
  {
   "cell_type": "code",
   "execution_count": 68,
   "id": "47522d25",
   "metadata": {},
   "outputs": [
    {
     "data": {
      "text/plain": [
       "True"
      ]
     },
     "execution_count": 68,
     "metadata": {},
     "output_type": "execute_result"
    }
   ],
   "source": [
    "s2.issuperset({3})"
   ]
  },
  {
   "cell_type": "code",
   "execution_count": 75,
   "id": "990e24df",
   "metadata": {},
   "outputs": [
    {
     "data": {
      "text/plain": [
       "{5, 6, 7, 8, 9}"
      ]
     },
     "execution_count": 75,
     "metadata": {},
     "output_type": "execute_result"
    }
   ],
   "source": [
    "s1 = {1,2,3,4,5,6,7,8,9}\n",
    "s2 = {1,2,3,4}\n",
    "\n",
    "s2.symmetric_difference(s1)"
   ]
  },
  {
   "cell_type": "code",
   "execution_count": 76,
   "id": "d5e4dda5",
   "metadata": {},
   "outputs": [
    {
     "data": {
      "text/plain": [
       "{1, 2, 3, 4, 5, 6, 7, 8, 9}"
      ]
     },
     "execution_count": 76,
     "metadata": {},
     "output_type": "execute_result"
    }
   ],
   "source": [
    "s1"
   ]
  },
  {
   "cell_type": "code",
   "execution_count": 77,
   "id": "9433b45a",
   "metadata": {},
   "outputs": [
    {
     "data": {
      "text/plain": [
       "{1, 2, 3, 4}"
      ]
     },
     "execution_count": 77,
     "metadata": {},
     "output_type": "execute_result"
    }
   ],
   "source": [
    "s2"
   ]
  },
  {
   "cell_type": "code",
   "execution_count": 78,
   "id": "d8bdd0cf",
   "metadata": {},
   "outputs": [],
   "source": [
    "s2.symmetric_difference_update(s1)"
   ]
  },
  {
   "cell_type": "code",
   "execution_count": 79,
   "id": "fc00b21c",
   "metadata": {},
   "outputs": [
    {
     "data": {
      "text/plain": [
       "{5, 6, 7, 8, 9}"
      ]
     },
     "execution_count": 79,
     "metadata": {},
     "output_type": "execute_result"
    }
   ],
   "source": [
    "s2"
   ]
  },
  {
   "cell_type": "code",
   "execution_count": 80,
   "id": "7a0d7211",
   "metadata": {},
   "outputs": [
    {
     "data": {
      "text/plain": [
       "{1, 2, 3, 4, 5, 6, 7, 8, 9}"
      ]
     },
     "execution_count": 80,
     "metadata": {},
     "output_type": "execute_result"
    }
   ],
   "source": [
    "s1"
   ]
  },
  {
   "cell_type": "code",
   "execution_count": 81,
   "id": "52336533",
   "metadata": {},
   "outputs": [
    {
     "data": {
      "text/plain": [
       "{1, 2, 3, 4, 5, 6, 7, 8, 9}"
      ]
     },
     "execution_count": 81,
     "metadata": {},
     "output_type": "execute_result"
    }
   ],
   "source": [
    "s1.union(s2)"
   ]
  },
  {
   "cell_type": "code",
   "execution_count": 82,
   "id": "249a7ea0",
   "metadata": {},
   "outputs": [
    {
     "data": {
      "text/plain": [
       "{5, 6, 7, 8, 9}"
      ]
     },
     "execution_count": 82,
     "metadata": {},
     "output_type": "execute_result"
    }
   ],
   "source": [
    "s1.intersection(s2)"
   ]
  },
  {
   "cell_type": "markdown",
   "id": "886c4685",
   "metadata": {},
   "source": [
    "# Array in Python"
   ]
  },
  {
   "cell_type": "code",
   "execution_count": 5,
   "id": "b7e2dbf4",
   "metadata": {},
   "outputs": [],
   "source": [
    "import array as ar"
   ]
  },
  {
   "cell_type": "code",
   "execution_count": 7,
   "id": "9709fe59",
   "metadata": {},
   "outputs": [],
   "source": [
    "ar1 = ar.array('i',[1,2,3,4,5])"
   ]
  },
  {
   "cell_type": "code",
   "execution_count": 8,
   "id": "320a4ff5",
   "metadata": {},
   "outputs": [
    {
     "data": {
      "text/plain": [
       "array('i', [1, 2, 3, 4, 5])"
      ]
     },
     "execution_count": 8,
     "metadata": {},
     "output_type": "execute_result"
    }
   ],
   "source": [
    "ar1"
   ]
  },
  {
   "cell_type": "code",
   "execution_count": 10,
   "id": "156686f6",
   "metadata": {},
   "outputs": [
    {
     "ename": "TypeError",
     "evalue": "integer argument expected, got float",
     "output_type": "error",
     "traceback": [
      "\u001b[1;31m---------------------------------------------------------------------------\u001b[0m",
      "\u001b[1;31mTypeError\u001b[0m                                 Traceback (most recent call last)",
      "\u001b[1;32m~\\AppData\\Local\\Temp\\ipykernel_13204\\2562308488.py\u001b[0m in \u001b[0;36m<module>\u001b[1;34m\u001b[0m\n\u001b[1;32m----> 1\u001b[1;33m \u001b[0mar1\u001b[0m \u001b[1;33m=\u001b[0m \u001b[0mar\u001b[0m\u001b[1;33m.\u001b[0m\u001b[0marray\u001b[0m\u001b[1;33m(\u001b[0m\u001b[1;34m'i'\u001b[0m\u001b[1;33m,\u001b[0m\u001b[1;33m[\u001b[0m\u001b[1;36m1\u001b[0m\u001b[1;33m,\u001b[0m\u001b[1;36m2\u001b[0m\u001b[1;33m,\u001b[0m\u001b[1;36m3\u001b[0m\u001b[1;33m,\u001b[0m\u001b[1;36m4\u001b[0m\u001b[1;33m,\u001b[0m\u001b[1;36m50.5\u001b[0m\u001b[1;33m]\u001b[0m\u001b[1;33m)\u001b[0m\u001b[1;33m\u001b[0m\u001b[1;33m\u001b[0m\u001b[0m\n\u001b[0m",
      "\u001b[1;31mTypeError\u001b[0m: integer argument expected, got float"
     ]
    }
   ],
   "source": [
    "ar1 = ar.array('i',[1,2,3,4,50.5])"
   ]
  },
  {
   "cell_type": "code",
   "execution_count": 11,
   "id": "aa548e09",
   "metadata": {},
   "outputs": [],
   "source": [
    "ar1 = ar.array('f',[1,2,3,4,50.5])"
   ]
  },
  {
   "cell_type": "code",
   "execution_count": 12,
   "id": "bd96d4d7",
   "metadata": {},
   "outputs": [
    {
     "data": {
      "text/plain": [
       "array('f', [1.0, 2.0, 3.0, 4.0, 50.5])"
      ]
     },
     "execution_count": 12,
     "metadata": {},
     "output_type": "execute_result"
    }
   ],
   "source": [
    "ar1"
   ]
  },
  {
   "cell_type": "code",
   "execution_count": 13,
   "id": "cfb1639e",
   "metadata": {},
   "outputs": [
    {
     "data": {
      "text/plain": [
       "1.0"
      ]
     },
     "execution_count": 13,
     "metadata": {},
     "output_type": "execute_result"
    }
   ],
   "source": [
    "ar1[0]"
   ]
  },
  {
   "cell_type": "code",
   "execution_count": 14,
   "id": "479cc71a",
   "metadata": {},
   "outputs": [],
   "source": [
    "ar1[0] = 15       #index value are changeable"
   ]
  },
  {
   "cell_type": "code",
   "execution_count": 15,
   "id": "9daaba6f",
   "metadata": {},
   "outputs": [
    {
     "data": {
      "text/plain": [
       "array('f', [15.0, 2.0, 3.0, 4.0, 50.5])"
      ]
     },
     "execution_count": 15,
     "metadata": {},
     "output_type": "execute_result"
    }
   ],
   "source": [
    "ar1"
   ]
  },
  {
   "cell_type": "code",
   "execution_count": 16,
   "id": "28ae083a",
   "metadata": {},
   "outputs": [
    {
     "data": {
      "text/plain": [
       "array('f', [3.0])"
      ]
     },
     "execution_count": 16,
     "metadata": {},
     "output_type": "execute_result"
    }
   ],
   "source": [
    "ar1[2:3]"
   ]
  },
  {
   "cell_type": "code",
   "execution_count": 17,
   "id": "19317679",
   "metadata": {},
   "outputs": [],
   "source": [
    "ar1.append(8)"
   ]
  },
  {
   "cell_type": "code",
   "execution_count": 18,
   "id": "14753c23",
   "metadata": {},
   "outputs": [
    {
     "data": {
      "text/plain": [
       "array('f', [15.0, 2.0, 3.0, 4.0, 50.5, 8.0])"
      ]
     },
     "execution_count": 18,
     "metadata": {},
     "output_type": "execute_result"
    }
   ],
   "source": [
    "ar1"
   ]
  },
  {
   "cell_type": "code",
   "execution_count": 19,
   "id": "235682b4",
   "metadata": {},
   "outputs": [
    {
     "ename": "TypeError",
     "evalue": "must be real number, not str",
     "output_type": "error",
     "traceback": [
      "\u001b[1;31m---------------------------------------------------------------------------\u001b[0m",
      "\u001b[1;31mTypeError\u001b[0m                                 Traceback (most recent call last)",
      "\u001b[1;32m~\\AppData\\Local\\Temp\\ipykernel_13204\\1827575703.py\u001b[0m in \u001b[0;36m<module>\u001b[1;34m\u001b[0m\n\u001b[1;32m----> 1\u001b[1;33m \u001b[0mar1\u001b[0m\u001b[1;33m.\u001b[0m\u001b[0mappend\u001b[0m\u001b[1;33m(\u001b[0m\u001b[1;34m'ai'\u001b[0m\u001b[1;33m)\u001b[0m\u001b[1;33m\u001b[0m\u001b[1;33m\u001b[0m\u001b[0m\n\u001b[0m",
      "\u001b[1;31mTypeError\u001b[0m: must be real number, not str"
     ]
    }
   ],
   "source": [
    "ar1.append('ai')      #you have to put number not str"
   ]
  },
  {
   "cell_type": "code",
   "execution_count": 20,
   "id": "3af3819f",
   "metadata": {},
   "outputs": [],
   "source": [
    "del ar1[-1]"
   ]
  },
  {
   "cell_type": "code",
   "execution_count": 21,
   "id": "57edc625",
   "metadata": {},
   "outputs": [
    {
     "data": {
      "text/plain": [
       "array('f', [15.0, 2.0, 3.0, 4.0, 50.5])"
      ]
     },
     "execution_count": 21,
     "metadata": {},
     "output_type": "execute_result"
    }
   ],
   "source": [
    "ar1"
   ]
  },
  {
   "cell_type": "code",
   "execution_count": 22,
   "id": "51ee2f3d",
   "metadata": {},
   "outputs": [
    {
     "data": {
      "text/plain": [
       "5"
      ]
     },
     "execution_count": 22,
     "metadata": {},
     "output_type": "execute_result"
    }
   ],
   "source": [
    "len(ar1)"
   ]
  },
  {
   "cell_type": "code",
   "execution_count": 23,
   "id": "5cffe66c",
   "metadata": {},
   "outputs": [],
   "source": [
    "ar1.reverse()"
   ]
  },
  {
   "cell_type": "code",
   "execution_count": 24,
   "id": "80a52af6",
   "metadata": {},
   "outputs": [
    {
     "data": {
      "text/plain": [
       "array('f', [50.5, 4.0, 3.0, 2.0, 15.0])"
      ]
     },
     "execution_count": 24,
     "metadata": {},
     "output_type": "execute_result"
    }
   ],
   "source": [
    "ar1"
   ]
  },
  {
   "cell_type": "code",
   "execution_count": 26,
   "id": "6121da26",
   "metadata": {},
   "outputs": [
    {
     "ename": "NameError",
     "evalue": "name 'sort' is not defined",
     "output_type": "error",
     "traceback": [
      "\u001b[1;31m---------------------------------------------------------------------------\u001b[0m",
      "\u001b[1;31mNameError\u001b[0m                                 Traceback (most recent call last)",
      "\u001b[1;32m~\\AppData\\Local\\Temp\\ipykernel_13204\\2287615456.py\u001b[0m in \u001b[0;36m<module>\u001b[1;34m\u001b[0m\n\u001b[1;32m----> 1\u001b[1;33m \u001b[0msort\u001b[0m\u001b[1;33m(\u001b[0m\u001b[0mar1\u001b[0m\u001b[1;33m)\u001b[0m\u001b[1;33m\u001b[0m\u001b[1;33m\u001b[0m\u001b[0m\n\u001b[0m",
      "\u001b[1;31mNameError\u001b[0m: name 'sort' is not defined"
     ]
    }
   ],
   "source": [
    "sort(ar1)"
   ]
  },
  {
   "cell_type": "code",
   "execution_count": 27,
   "id": "14ad6930",
   "metadata": {},
   "outputs": [
    {
     "data": {
      "text/plain": [
       "1"
      ]
     },
     "execution_count": 27,
     "metadata": {},
     "output_type": "execute_result"
    }
   ],
   "source": [
    "ar1.count(4)"
   ]
  },
  {
   "cell_type": "code",
   "execution_count": 29,
   "id": "a071cd98",
   "metadata": {},
   "outputs": [
    {
     "data": {
      "text/plain": [
       "0"
      ]
     },
     "execution_count": 29,
     "metadata": {},
     "output_type": "execute_result"
    }
   ],
   "source": [
    "ar1.index(50.5)"
   ]
  },
  {
   "cell_type": "code",
   "execution_count": 30,
   "id": "20b2958e",
   "metadata": {},
   "outputs": [
    {
     "data": {
      "text/plain": [
       "15.0"
      ]
     },
     "execution_count": 30,
     "metadata": {},
     "output_type": "execute_result"
    }
   ],
   "source": [
    "ar1.pop()"
   ]
  },
  {
   "cell_type": "code",
   "execution_count": 35,
   "id": "402e3112",
   "metadata": {},
   "outputs": [
    {
     "data": {
      "text/plain": [
       "3.0"
      ]
     },
     "execution_count": 35,
     "metadata": {},
     "output_type": "execute_result"
    }
   ],
   "source": [
    "ar1.pop(1)       #1 = index number"
   ]
  },
  {
   "cell_type": "code",
   "execution_count": 31,
   "id": "1052b6b8",
   "metadata": {},
   "outputs": [
    {
     "data": {
      "text/plain": [
       "array('f', [50.5, 4.0, 3.0, 2.0])"
      ]
     },
     "execution_count": 31,
     "metadata": {},
     "output_type": "execute_result"
    }
   ],
   "source": [
    "ar1"
   ]
  },
  {
   "cell_type": "code",
   "execution_count": 32,
   "id": "021c19b6",
   "metadata": {},
   "outputs": [],
   "source": [
    "ar1.remove(4.0)"
   ]
  },
  {
   "cell_type": "code",
   "execution_count": 33,
   "id": "d8fe0bbf",
   "metadata": {},
   "outputs": [
    {
     "data": {
      "text/plain": [
       "array('f', [50.5, 3.0, 2.0])"
      ]
     },
     "execution_count": 33,
     "metadata": {},
     "output_type": "execute_result"
    }
   ],
   "source": [
    "ar1"
   ]
  },
  {
   "cell_type": "code",
   "execution_count": 34,
   "id": "50337654",
   "metadata": {},
   "outputs": [
    {
     "ename": "ValueError",
     "evalue": "array.remove(x): x not in array",
     "output_type": "error",
     "traceback": [
      "\u001b[1;31m---------------------------------------------------------------------------\u001b[0m",
      "\u001b[1;31mValueError\u001b[0m                                Traceback (most recent call last)",
      "\u001b[1;32m~\\AppData\\Local\\Temp\\ipykernel_13204\\1968988913.py\u001b[0m in \u001b[0;36m<module>\u001b[1;34m\u001b[0m\n\u001b[1;32m----> 1\u001b[1;33m \u001b[0mar1\u001b[0m\u001b[1;33m.\u001b[0m\u001b[0mremove\u001b[0m\u001b[1;33m(\u001b[0m\u001b[1;36m13\u001b[0m\u001b[1;33m)\u001b[0m\u001b[1;33m\u001b[0m\u001b[1;33m\u001b[0m\u001b[0m\n\u001b[0m",
      "\u001b[1;31mValueError\u001b[0m: array.remove(x): x not in array"
     ]
    }
   ],
   "source": [
    "ar1.remove(13)"
   ]
  },
  {
   "cell_type": "code",
   "execution_count": 36,
   "id": "aeebef66",
   "metadata": {},
   "outputs": [
    {
     "name": "stdout",
     "output_type": "stream",
     "text": [
      "4\n",
      "10\n",
      "20\n",
      "30\n",
      "40\n",
      "array('i', [10, 20, 30, 40])\n"
     ]
    }
   ],
   "source": [
    "r = ar.array('i', [ ])\n",
    "items = int(input())\n",
    "\n",
    "for i in range(items):\n",
    "    val = int(input())\n",
    "    r.append(val)\n",
    "\n",
    "print(r)"
   ]
  },
  {
   "cell_type": "code",
   "execution_count": 39,
   "id": "0d8cb4bd",
   "metadata": {},
   "outputs": [],
   "source": []
  },
  {
   "cell_type": "code",
   "execution_count": null,
   "id": "e7053b6f",
   "metadata": {},
   "outputs": [],
   "source": []
  },
  {
   "cell_type": "code",
   "execution_count": null,
   "id": "c2c86b35",
   "metadata": {},
   "outputs": [],
   "source": []
  },
  {
   "cell_type": "code",
   "execution_count": null,
   "id": "a8707068",
   "metadata": {},
   "outputs": [],
   "source": []
  },
  {
   "cell_type": "code",
   "execution_count": null,
   "id": "0931d7ef",
   "metadata": {},
   "outputs": [],
   "source": []
  },
  {
   "cell_type": "code",
   "execution_count": null,
   "id": "46ea4437",
   "metadata": {},
   "outputs": [],
   "source": []
  },
  {
   "cell_type": "code",
   "execution_count": null,
   "id": "28b7e145",
   "metadata": {},
   "outputs": [],
   "source": []
  },
  {
   "cell_type": "code",
   "execution_count": 1,
   "id": "9888ad90",
   "metadata": {},
   "outputs": [],
   "source": [
    "name = ('shajid','muskan','titly')\n",
    "varsity = ('Jahangirnagar','DU','bubt')"
   ]
  },
  {
   "cell_type": "code",
   "execution_count": 4,
   "id": "bb9df077",
   "metadata": {},
   "outputs": [
    {
     "name": "stdout",
     "output_type": "stream",
     "text": [
      "[('shajid', 'Jahangirnagar'), ('muskan', 'DU'), ('titly', 'bubt')]\n"
     ]
    }
   ],
   "source": [
    "zipped = list(zip(name,varsity))\n",
    "print(zipped)"
   ]
  },
  {
   "cell_type": "code",
   "execution_count": 5,
   "id": "7c241d65",
   "metadata": {},
   "outputs": [
    {
     "name": "stdout",
     "output_type": "stream",
     "text": [
      "(('shajid', 'Jahangirnagar'), ('muskan', 'DU'), ('titly', 'bubt'))\n"
     ]
    }
   ],
   "source": [
    "zipped = tuple(zip(name,varsity))\n",
    "print(zipped)"
   ]
  },
  {
   "cell_type": "code",
   "execution_count": 6,
   "id": "6fb4b48a",
   "metadata": {},
   "outputs": [
    {
     "name": "stdout",
     "output_type": "stream",
     "text": [
      "{'shajid': 'Jahangirnagar', 'muskan': 'DU', 'titly': 'bubt'}\n"
     ]
    }
   ],
   "source": [
    "zipped = dict(zip(name,varsity))\n",
    "print(zipped)"
   ]
  },
  {
   "cell_type": "code",
   "execution_count": 7,
   "id": "aedb26cb",
   "metadata": {},
   "outputs": [
    {
     "data": {
      "text/plain": [
       "dict_keys(['shajid', 'muskan', 'titly'])"
      ]
     },
     "execution_count": 7,
     "metadata": {},
     "output_type": "execute_result"
    }
   ],
   "source": [
    "zipped.keys()"
   ]
  },
  {
   "cell_type": "code",
   "execution_count": 8,
   "id": "e00f831f",
   "metadata": {},
   "outputs": [
    {
     "data": {
      "text/plain": [
       "dict_values(['Jahangirnagar', 'DU', 'bubt'])"
      ]
     },
     "execution_count": 8,
     "metadata": {},
     "output_type": "execute_result"
    }
   ],
   "source": [
    "zipped.values()"
   ]
  },
  {
   "cell_type": "code",
   "execution_count": 10,
   "id": "85262597",
   "metadata": {},
   "outputs": [
    {
     "name": "stdout",
     "output_type": "stream",
     "text": [
      "{('titly', 'bubt'), ('muskan', 'DU'), ('shajid', 'Jahangirnagar')}\n"
     ]
    }
   ],
   "source": [
    "zipped = set(zip(name,varsity))\n",
    "print(zipped)"
   ]
  },
  {
   "cell_type": "markdown",
   "id": "eec513e9",
   "metadata": {},
   "source": [
    "# Unzip"
   ]
  },
  {
   "cell_type": "code",
   "execution_count": 11,
   "id": "4397c376",
   "metadata": {},
   "outputs": [],
   "source": [
    "name1, varsity1 = zip(*zipped)"
   ]
  },
  {
   "cell_type": "code",
   "execution_count": 12,
   "id": "f817ab09",
   "metadata": {},
   "outputs": [
    {
     "data": {
      "text/plain": [
       "('titly', 'muskan', 'shajid')"
      ]
     },
     "execution_count": 12,
     "metadata": {},
     "output_type": "execute_result"
    }
   ],
   "source": [
    "name1"
   ]
  },
  {
   "cell_type": "code",
   "execution_count": 13,
   "id": "d0067d73",
   "metadata": {},
   "outputs": [
    {
     "data": {
      "text/plain": [
       "('bubt', 'DU', 'Jahangirnagar')"
      ]
     },
     "execution_count": 13,
     "metadata": {},
     "output_type": "execute_result"
    }
   ],
   "source": [
    "varsity1"
   ]
  },
  {
   "cell_type": "code",
   "execution_count": null,
   "id": "d0f7e866",
   "metadata": {},
   "outputs": [],
   "source": []
  },
  {
   "cell_type": "code",
   "execution_count": 14,
   "id": "f49ce9af",
   "metadata": {},
   "outputs": [
    {
     "name": "stdout",
     "output_type": "stream",
     "text": [
      "[('kanta', 40), ('rani', 35), ('tweety', 89)]\n"
     ]
    }
   ],
   "source": [
    "name = ('kanta','rani','tweety')\n",
    "age = (40,35,89)\n",
    "\n",
    "zipped = list(zip(name,age))\n",
    "print(zipped)"
   ]
  },
  {
   "cell_type": "code",
   "execution_count": 15,
   "id": "2ff346b0",
   "metadata": {},
   "outputs": [
    {
     "name": "stdout",
     "output_type": "stream",
     "text": [
      "(('kanta', 40), ('rani', 35), ('tweety', 89))\n"
     ]
    }
   ],
   "source": [
    "zipped = tuple(zip(name,age))\n",
    "print(zipped)"
   ]
  },
  {
   "cell_type": "code",
   "execution_count": 16,
   "id": "55ba51ff",
   "metadata": {},
   "outputs": [
    {
     "name": "stdout",
     "output_type": "stream",
     "text": [
      "{'kanta': 40, 'rani': 35, 'tweety': 89}\n"
     ]
    }
   ],
   "source": [
    "zipped = dict(zip(name,age))\n",
    "print(zipped)"
   ]
  },
  {
   "cell_type": "code",
   "execution_count": 17,
   "id": "55a80ce1",
   "metadata": {},
   "outputs": [
    {
     "name": "stdout",
     "output_type": "stream",
     "text": [
      "{('tweety', 89), ('kanta', 40), ('rani', 35)}\n"
     ]
    }
   ],
   "source": [
    "zipped = set(zip(name,age))\n",
    "print(zipped)"
   ]
  },
  {
   "cell_type": "code",
   "execution_count": 20,
   "id": "49af7cc8",
   "metadata": {},
   "outputs": [],
   "source": [
    "#Unzip()\n",
    "\n",
    "name1,age1 = zip(*zipped)\n"
   ]
  },
  {
   "cell_type": "code",
   "execution_count": 21,
   "id": "2c3a2612",
   "metadata": {},
   "outputs": [
    {
     "data": {
      "text/plain": [
       "('tweety', 'kanta', 'rani')"
      ]
     },
     "execution_count": 21,
     "metadata": {},
     "output_type": "execute_result"
    }
   ],
   "source": [
    "name1"
   ]
  },
  {
   "cell_type": "code",
   "execution_count": 22,
   "id": "229c7230",
   "metadata": {},
   "outputs": [
    {
     "data": {
      "text/plain": [
       "(89, 40, 35)"
      ]
     },
     "execution_count": 22,
     "metadata": {},
     "output_type": "execute_result"
    }
   ],
   "source": [
    "age1"
   ]
  },
  {
   "cell_type": "code",
   "execution_count": 29,
   "id": "c016489d",
   "metadata": {},
   "outputs": [],
   "source": [
    "import zipfile as zp\n",
    "\n",
    "zipp = zp.ZipFile('Zipped.zip','w')      #w stands for write.W is used to create file\n",
    "\n",
    "zipp.write('assignment1.png')\n",
    "zipp.write('Mail Template_Afsana_Mehrab.txt')\n",
    "zipp.write('While_loop.png')"
   ]
  },
  {
   "cell_type": "markdown",
   "id": "e5446a54",
   "metadata": {},
   "source": [
    "# Unzip"
   ]
  },
  {
   "cell_type": "code",
   "execution_count": 33,
   "id": "d988db5f",
   "metadata": {},
   "outputs": [
    {
     "ename": "BadZipFile",
     "evalue": "File is not a zip file",
     "output_type": "error",
     "traceback": [
      "\u001b[1;31m---------------------------------------------------------------------------\u001b[0m",
      "\u001b[1;31mBadZipFile\u001b[0m                                Traceback (most recent call last)",
      "\u001b[1;32m~\\AppData\\Local\\Temp\\ipykernel_5596\\3370639672.py\u001b[0m in \u001b[0;36m<module>\u001b[1;34m\u001b[0m\n\u001b[0;32m      2\u001b[0m \u001b[1;32mimport\u001b[0m \u001b[0mzipfile\u001b[0m \u001b[1;32mas\u001b[0m \u001b[0mzp\u001b[0m\u001b[1;33m\u001b[0m\u001b[1;33m\u001b[0m\u001b[0m\n\u001b[0;32m      3\u001b[0m \u001b[1;33m\u001b[0m\u001b[0m\n\u001b[1;32m----> 4\u001b[1;33m \u001b[1;32mwith\u001b[0m \u001b[0mzp\u001b[0m\u001b[1;33m.\u001b[0m\u001b[0mZipFile\u001b[0m\u001b[1;33m(\u001b[0m\u001b[1;34m'Zipped.zip'\u001b[0m\u001b[1;33m,\u001b[0m\u001b[1;34m'r'\u001b[0m\u001b[1;33m)\u001b[0m\u001b[1;32mas\u001b[0m \u001b[0mfile\u001b[0m\u001b[1;33m:\u001b[0m\u001b[1;33m\u001b[0m\u001b[1;33m\u001b[0m\u001b[0m\n\u001b[0m\u001b[0;32m      5\u001b[0m     \u001b[0mfile\u001b[0m\u001b[1;33m.\u001b[0m\u001b[0mextractall\u001b[0m\u001b[1;33m(\u001b[0m\u001b[1;34m'TEMPORARY UNZIp'\u001b[0m\u001b[1;33m)\u001b[0m\u001b[1;33m\u001b[0m\u001b[1;33m\u001b[0m\u001b[0m\n",
      "\u001b[1;32m~\\anaconda3\\lib\\zipfile.py\u001b[0m in \u001b[0;36m__init__\u001b[1;34m(self, file, mode, compression, allowZip64, compresslevel, strict_timestamps)\u001b[0m\n\u001b[0;32m   1264\u001b[0m         \u001b[1;32mtry\u001b[0m\u001b[1;33m:\u001b[0m\u001b[1;33m\u001b[0m\u001b[1;33m\u001b[0m\u001b[0m\n\u001b[0;32m   1265\u001b[0m             \u001b[1;32mif\u001b[0m \u001b[0mmode\u001b[0m \u001b[1;33m==\u001b[0m \u001b[1;34m'r'\u001b[0m\u001b[1;33m:\u001b[0m\u001b[1;33m\u001b[0m\u001b[1;33m\u001b[0m\u001b[0m\n\u001b[1;32m-> 1266\u001b[1;33m                 \u001b[0mself\u001b[0m\u001b[1;33m.\u001b[0m\u001b[0m_RealGetContents\u001b[0m\u001b[1;33m(\u001b[0m\u001b[1;33m)\u001b[0m\u001b[1;33m\u001b[0m\u001b[1;33m\u001b[0m\u001b[0m\n\u001b[0m\u001b[0;32m   1267\u001b[0m             \u001b[1;32melif\u001b[0m \u001b[0mmode\u001b[0m \u001b[1;32min\u001b[0m \u001b[1;33m(\u001b[0m\u001b[1;34m'w'\u001b[0m\u001b[1;33m,\u001b[0m \u001b[1;34m'x'\u001b[0m\u001b[1;33m)\u001b[0m\u001b[1;33m:\u001b[0m\u001b[1;33m\u001b[0m\u001b[1;33m\u001b[0m\u001b[0m\n\u001b[0;32m   1268\u001b[0m                 \u001b[1;31m# set the modified flag so central directory gets written\u001b[0m\u001b[1;33m\u001b[0m\u001b[1;33m\u001b[0m\u001b[0m\n",
      "\u001b[1;32m~\\anaconda3\\lib\\zipfile.py\u001b[0m in \u001b[0;36m_RealGetContents\u001b[1;34m(self)\u001b[0m\n\u001b[0;32m   1331\u001b[0m             \u001b[1;32mraise\u001b[0m \u001b[0mBadZipFile\u001b[0m\u001b[1;33m(\u001b[0m\u001b[1;34m\"File is not a zip file\"\u001b[0m\u001b[1;33m)\u001b[0m\u001b[1;33m\u001b[0m\u001b[1;33m\u001b[0m\u001b[0m\n\u001b[0;32m   1332\u001b[0m         \u001b[1;32mif\u001b[0m \u001b[1;32mnot\u001b[0m \u001b[0mendrec\u001b[0m\u001b[1;33m:\u001b[0m\u001b[1;33m\u001b[0m\u001b[1;33m\u001b[0m\u001b[0m\n\u001b[1;32m-> 1333\u001b[1;33m             \u001b[1;32mraise\u001b[0m \u001b[0mBadZipFile\u001b[0m\u001b[1;33m(\u001b[0m\u001b[1;34m\"File is not a zip file\"\u001b[0m\u001b[1;33m)\u001b[0m\u001b[1;33m\u001b[0m\u001b[1;33m\u001b[0m\u001b[0m\n\u001b[0m\u001b[0;32m   1334\u001b[0m         \u001b[1;32mif\u001b[0m \u001b[0mself\u001b[0m\u001b[1;33m.\u001b[0m\u001b[0mdebug\u001b[0m \u001b[1;33m>\u001b[0m \u001b[1;36m1\u001b[0m\u001b[1;33m:\u001b[0m\u001b[1;33m\u001b[0m\u001b[1;33m\u001b[0m\u001b[0m\n\u001b[0;32m   1335\u001b[0m             \u001b[0mprint\u001b[0m\u001b[1;33m(\u001b[0m\u001b[0mendrec\u001b[0m\u001b[1;33m)\u001b[0m\u001b[1;33m\u001b[0m\u001b[1;33m\u001b[0m\u001b[0m\n",
      "\u001b[1;31mBadZipFile\u001b[0m: File is not a zip file"
     ]
    }
   ],
   "source": [
    "#r is used to read files\n",
    "import zipfile as zp\n",
    "\n",
    "with zp.ZipFile('Zipped.zip','r')as file:\n",
    "    file.extractall('TEMPORARY UNZIp')"
   ]
  },
  {
   "cell_type": "markdown",
   "id": "f2ba3c76",
   "metadata": {},
   "source": [
    "# Dictionary in Python"
   ]
  },
  {
   "cell_type": "code",
   "execution_count": 1,
   "id": "8715408e",
   "metadata": {},
   "outputs": [],
   "source": [
    "#Dictionary is a collection which is ordered and changeable just like list. No duplicate members\n",
    "#But dictionary allows duplicate members.\n",
    "\n",
    "#Dictionary is represented in a curly bracket."
   ]
  },
  {
   "cell_type": "code",
   "execution_count": 11,
   "id": "6629a96a",
   "metadata": {},
   "outputs": [],
   "source": [
    "Dic = {\n",
    "    'name' : 'yahana',\n",
    "    'Department' : 'Fisheries',\n",
    "    'varsity' : 'BUBT'\n",
    "}"
   ]
  },
  {
   "cell_type": "code",
   "execution_count": 13,
   "id": "c05d44b4",
   "metadata": {},
   "outputs": [
    {
     "data": {
      "text/plain": [
       "{'name': 'yahana', 'Department': 'Fisheries', 'varsity': 'BUBT'}"
      ]
     },
     "execution_count": 13,
     "metadata": {},
     "output_type": "execute_result"
    }
   ],
   "source": [
    "Dic"
   ]
  },
  {
   "cell_type": "code",
   "execution_count": 14,
   "id": "3092c878",
   "metadata": {},
   "outputs": [
    {
     "data": {
      "text/plain": [
       "dict"
      ]
     },
     "execution_count": 14,
     "metadata": {},
     "output_type": "execute_result"
    }
   ],
   "source": [
    "type(Dic)"
   ]
  },
  {
   "cell_type": "code",
   "execution_count": 12,
   "id": "669a531f",
   "metadata": {},
   "outputs": [
    {
     "data": {
      "text/plain": [
       "dict_keys(['name', 'Department', 'varsity'])"
      ]
     },
     "execution_count": 12,
     "metadata": {},
     "output_type": "execute_result"
    }
   ],
   "source": [
    "Dic.keys()"
   ]
  },
  {
   "cell_type": "code",
   "execution_count": 15,
   "id": "54ed90e6",
   "metadata": {},
   "outputs": [
    {
     "data": {
      "text/plain": [
       "dict_values(['yahana', 'Fisheries', 'BUBT'])"
      ]
     },
     "execution_count": 15,
     "metadata": {},
     "output_type": "execute_result"
    }
   ],
   "source": [
    "Dic.values()"
   ]
  },
  {
   "cell_type": "code",
   "execution_count": 16,
   "id": "6285ce38",
   "metadata": {},
   "outputs": [
    {
     "data": {
      "text/plain": [
       "{'name': 'yahana', 'Department': 'Fisheries', 'varsity': 'BUBT'}"
      ]
     },
     "execution_count": 16,
     "metadata": {},
     "output_type": "execute_result"
    }
   ],
   "source": [
    "#copy\n",
    "\n",
    "dic2 = Dic.copy()\n",
    "dic2"
   ]
  },
  {
   "cell_type": "code",
   "execution_count": 17,
   "id": "dfc6025d",
   "metadata": {},
   "outputs": [],
   "source": [
    "Dic['varsity'] = 'DU'"
   ]
  },
  {
   "cell_type": "code",
   "execution_count": 18,
   "id": "398a6d55",
   "metadata": {},
   "outputs": [
    {
     "data": {
      "text/plain": [
       "{'name': 'yahana', 'Department': 'Fisheries', 'varsity': 'DU'}"
      ]
     },
     "execution_count": 18,
     "metadata": {},
     "output_type": "execute_result"
    }
   ],
   "source": [
    "Dic"
   ]
  },
  {
   "cell_type": "code",
   "execution_count": 19,
   "id": "736ea104",
   "metadata": {},
   "outputs": [],
   "source": [
    "Dic['name'] = 'Suzana'"
   ]
  },
  {
   "cell_type": "code",
   "execution_count": 20,
   "id": "60caef1e",
   "metadata": {},
   "outputs": [
    {
     "data": {
      "text/plain": [
       "{'name': 'Suzana', 'Department': 'Fisheries', 'varsity': 'DU'}"
      ]
     },
     "execution_count": 20,
     "metadata": {},
     "output_type": "execute_result"
    }
   ],
   "source": [
    "Dic"
   ]
  },
  {
   "cell_type": "code",
   "execution_count": 21,
   "id": "cfea1097",
   "metadata": {},
   "outputs": [],
   "source": [
    "Dic['age'] = 25     #To add"
   ]
  },
  {
   "cell_type": "code",
   "execution_count": 22,
   "id": "99f7dd2e",
   "metadata": {},
   "outputs": [
    {
     "data": {
      "text/plain": [
       "{'name': 'Suzana', 'Department': 'Fisheries', 'varsity': 'DU', 'age': 25}"
      ]
     },
     "execution_count": 22,
     "metadata": {},
     "output_type": "execute_result"
    }
   ],
   "source": [
    "Dic"
   ]
  },
  {
   "cell_type": "code",
   "execution_count": 24,
   "id": "b1930177",
   "metadata": {},
   "outputs": [],
   "source": [
    "Dic.update({'Department':'psychology'})"
   ]
  },
  {
   "cell_type": "code",
   "execution_count": 25,
   "id": "39d7d87a",
   "metadata": {},
   "outputs": [
    {
     "data": {
      "text/plain": [
       "{'name': 'Suzana', 'Department': 'psychology', 'varsity': 'DU', 'age': 25}"
      ]
     },
     "execution_count": 25,
     "metadata": {},
     "output_type": "execute_result"
    }
   ],
   "source": [
    "Dic"
   ]
  },
  {
   "cell_type": "code",
   "execution_count": 26,
   "id": "3a3d25ce",
   "metadata": {},
   "outputs": [],
   "source": [
    "Dic['Department']='Anthropogy'"
   ]
  },
  {
   "cell_type": "code",
   "execution_count": 27,
   "id": "a8c74caa",
   "metadata": {},
   "outputs": [
    {
     "data": {
      "text/plain": [
       "{'name': 'Suzana', 'Department': 'Anthropogy', 'varsity': 'DU', 'age': 25}"
      ]
     },
     "execution_count": 27,
     "metadata": {},
     "output_type": "execute_result"
    }
   ],
   "source": [
    "Dic"
   ]
  },
  {
   "cell_type": "code",
   "execution_count": 28,
   "id": "ae5c8a17",
   "metadata": {},
   "outputs": [
    {
     "data": {
      "text/plain": [
       "('age', 25)"
      ]
     },
     "execution_count": 28,
     "metadata": {},
     "output_type": "execute_result"
    }
   ],
   "source": [
    "Dic.popitem()     #last item deletion"
   ]
  },
  {
   "cell_type": "code",
   "execution_count": 29,
   "id": "473520a0",
   "metadata": {},
   "outputs": [
    {
     "data": {
      "text/plain": [
       "{'name': 'Suzana', 'Department': 'Anthropogy', 'varsity': 'DU'}"
      ]
     },
     "execution_count": 29,
     "metadata": {},
     "output_type": "execute_result"
    }
   ],
   "source": [
    "Dic"
   ]
  },
  {
   "cell_type": "code",
   "execution_count": 30,
   "id": "5e02fa69",
   "metadata": {},
   "outputs": [
    {
     "data": {
      "text/plain": [
       "'Anthropogy'"
      ]
     },
     "execution_count": 30,
     "metadata": {},
     "output_type": "execute_result"
    }
   ],
   "source": [
    "Dic.pop('Department')     # To delete specific item"
   ]
  },
  {
   "cell_type": "code",
   "execution_count": 31,
   "id": "23bb48e6",
   "metadata": {},
   "outputs": [
    {
     "data": {
      "text/plain": [
       "{'name': 'Suzana', 'varsity': 'DU'}"
      ]
     },
     "execution_count": 31,
     "metadata": {},
     "output_type": "execute_result"
    }
   ],
   "source": [
    "Dic"
   ]
  },
  {
   "cell_type": "code",
   "execution_count": 32,
   "id": "ccc91c3b",
   "metadata": {},
   "outputs": [],
   "source": [
    "Dic['Department'] = 'EEE'"
   ]
  },
  {
   "cell_type": "code",
   "execution_count": 33,
   "id": "de482f4b",
   "metadata": {},
   "outputs": [
    {
     "data": {
      "text/plain": [
       "{'name': 'Suzana', 'varsity': 'DU', 'Department': 'EEE'}"
      ]
     },
     "execution_count": 33,
     "metadata": {},
     "output_type": "execute_result"
    }
   ],
   "source": [
    "Dic"
   ]
  },
  {
   "cell_type": "code",
   "execution_count": 34,
   "id": "639ded47",
   "metadata": {},
   "outputs": [],
   "source": [
    "Dic['Country Origin'] = 'Bangladesh'"
   ]
  },
  {
   "cell_type": "code",
   "execution_count": 35,
   "id": "402793ab",
   "metadata": {},
   "outputs": [
    {
     "data": {
      "text/plain": [
       "{'name': 'Suzana',\n",
       " 'varsity': 'DU',\n",
       " 'Department': 'EEE',\n",
       " 'Country Origin': 'Bangladesh'}"
      ]
     },
     "execution_count": 35,
     "metadata": {},
     "output_type": "execute_result"
    }
   ],
   "source": [
    "Dic"
   ]
  },
  {
   "cell_type": "code",
   "execution_count": 37,
   "id": "794fa348",
   "metadata": {},
   "outputs": [],
   "source": [
    "del Dic['name']"
   ]
  },
  {
   "cell_type": "code",
   "execution_count": 38,
   "id": "3ef754c6",
   "metadata": {},
   "outputs": [
    {
     "data": {
      "text/plain": [
       "{'varsity': 'DU', 'Department': 'EEE', 'Country Origin': 'Bangladesh'}"
      ]
     },
     "execution_count": 38,
     "metadata": {},
     "output_type": "execute_result"
    }
   ],
   "source": [
    "Dic"
   ]
  },
  {
   "cell_type": "code",
   "execution_count": 39,
   "id": "eed80ec8",
   "metadata": {},
   "outputs": [
    {
     "name": "stdout",
     "output_type": "stream",
     "text": [
      "DU\n",
      "EEE\n",
      "Bangladesh\n"
     ]
    }
   ],
   "source": [
    "#If you run loop in dictionary,you will see value\n",
    "\n",
    "#In order to see value you have to write print(Dic[x])\n",
    "\n",
    "for x in Dic:\n",
    "    print(Dic[x])"
   ]
  },
  {
   "cell_type": "code",
   "execution_count": 40,
   "id": "281c4980",
   "metadata": {},
   "outputs": [
    {
     "name": "stdout",
     "output_type": "stream",
     "text": [
      "varsity\n",
      "Department\n",
      "Country Origin\n"
     ]
    }
   ],
   "source": [
    "#every time you run the loop, you will only see keys,not values\n",
    "\n",
    "for x in Dic:\n",
    "    print(x)"
   ]
  },
  {
   "cell_type": "code",
   "execution_count": 41,
   "id": "f5e5e131",
   "metadata": {},
   "outputs": [],
   "source": [
    "d2 = list(Dic.keys())       # to convert the keys into list"
   ]
  },
  {
   "cell_type": "code",
   "execution_count": 42,
   "id": "d25c5770",
   "metadata": {},
   "outputs": [
    {
     "data": {
      "text/plain": [
       "['varsity', 'Department', 'Country Origin']"
      ]
     },
     "execution_count": 42,
     "metadata": {},
     "output_type": "execute_result"
    }
   ],
   "source": [
    "d2"
   ]
  },
  {
   "cell_type": "code",
   "execution_count": 43,
   "id": "d6234a8b",
   "metadata": {},
   "outputs": [],
   "source": [
    "d3 = list(Dic.values())       #To convert the values into list"
   ]
  },
  {
   "cell_type": "code",
   "execution_count": 44,
   "id": "0ecaab3b",
   "metadata": {},
   "outputs": [
    {
     "data": {
      "text/plain": [
       "['DU', 'EEE', 'Bangladesh']"
      ]
     },
     "execution_count": 44,
     "metadata": {},
     "output_type": "execute_result"
    }
   ],
   "source": [
    "d3"
   ]
  },
  {
   "cell_type": "code",
   "execution_count": 45,
   "id": "0eb97983",
   "metadata": {},
   "outputs": [
    {
     "name": "stdout",
     "output_type": "stream",
     "text": [
      "3\n",
      "name\n",
      "Suzan\n",
      "Department\n",
      "Architecture\n",
      "Age\n",
      "25\n",
      "{'name': 'Suzan', 'Department': 'Architecture', 'Age': '25'}\n"
     ]
    }
   ],
   "source": [
    "#dic from user input\n",
    "\n",
    "n = int(input())\n",
    "d = {}\n",
    "\n",
    "for x in range(n):\n",
    "    keys = input()\n",
    "    values = input()\n",
    "    d[keys]=values\n",
    "    \n",
    "print(d)\n"
   ]
  },
  {
   "cell_type": "code",
   "execution_count": 46,
   "id": "6f0bcdbd",
   "metadata": {},
   "outputs": [
    {
     "data": {
      "text/plain": [
       "{'name': 'Suzan', 'Department': 'Architecture', 'Age': '25'}"
      ]
     },
     "execution_count": 46,
     "metadata": {},
     "output_type": "execute_result"
    }
   ],
   "source": [
    "d"
   ]
  },
  {
   "cell_type": "code",
   "execution_count": null,
   "id": "098300c4",
   "metadata": {},
   "outputs": [],
   "source": []
  },
  {
   "cell_type": "code",
   "execution_count": null,
   "id": "728703db",
   "metadata": {},
   "outputs": [],
   "source": []
  },
  {
   "cell_type": "code",
   "execution_count": null,
   "id": "32ecc342",
   "metadata": {},
   "outputs": [],
   "source": []
  },
  {
   "cell_type": "code",
   "execution_count": null,
   "id": "370ed886",
   "metadata": {},
   "outputs": [],
   "source": [
    "#List input from user"
   ]
  },
  {
   "cell_type": "code",
   "execution_count": 55,
   "id": "c1a227c1",
   "metadata": {},
   "outputs": [
    {
     "name": "stdout",
     "output_type": "stream",
     "text": [
      "5\n",
      "1\n",
      "2\n",
      "3\n",
      "4\n",
      "5\n",
      "['1', '2', '3', '4', '5']\n"
     ]
    }
   ],
   "source": [
    "n = int(input())\n",
    "l3 = []\n",
    "\n",
    "for x in range(n):\n",
    "    item = input()\n",
    "    l3.append(item)\n",
    "    \n",
    "print(l3)"
   ]
  },
  {
   "cell_type": "code",
   "execution_count": 56,
   "id": "10e06f44",
   "metadata": {},
   "outputs": [
    {
     "name": "stdout",
     "output_type": "stream",
     "text": [
      "4\n",
      "name\n",
      "Wizard\n",
      "Age\n",
      "50\n",
      "Profession\n",
      "Business\n",
      "Location\n",
      "Bangladesh\n",
      "{'name': 'Wizard', 'Age': '50', 'Profession': 'Business', 'Location': 'Bangladesh'}\n"
     ]
    }
   ],
   "source": [
    "n = int(input())\n",
    "d = {}\n",
    "\n",
    "for x in range(n):\n",
    "    keys = input()\n",
    "    values=input()\n",
    "    d[keys]=values\n",
    "    \n",
    "print(d)"
   ]
  },
  {
   "cell_type": "code",
   "execution_count": 57,
   "id": "b1dff9c5",
   "metadata": {},
   "outputs": [
    {
     "data": {
      "text/plain": [
       "{'name': 'Wizard',\n",
       " 'Age': '50',\n",
       " 'Profession': 'Business',\n",
       " 'Location': 'Bangladesh'}"
      ]
     },
     "execution_count": 57,
     "metadata": {},
     "output_type": "execute_result"
    }
   ],
   "source": [
    "d"
   ]
  },
  {
   "cell_type": "code",
   "execution_count": 2,
   "id": "fc8cdf36",
   "metadata": {},
   "outputs": [
    {
     "data": {
      "text/plain": [
       "[0, 1, 2, 3, 4, 5, 6, 7, 8, 9, 10, 11, 12, 13, 14, 15, 16, 17, 18, 19]"
      ]
     },
     "execution_count": 2,
     "metadata": {},
     "output_type": "execute_result"
    }
   ],
   "source": [
    "#without list comprehension:\n",
    "\n",
    "new_list = []\n",
    "\n",
    "for x in range(20):\n",
    "    new_list.append(x)\n",
    "    \n",
    "new_list"
   ]
  },
  {
   "cell_type": "code",
   "execution_count": 5,
   "id": "6a5aece9",
   "metadata": {},
   "outputs": [],
   "source": [
    "#with list comprehension:\n",
    "\n",
    "new_list1 = [x for x in range(20)]"
   ]
  },
  {
   "cell_type": "code",
   "execution_count": 6,
   "id": "26a4a0f6",
   "metadata": {},
   "outputs": [
    {
     "data": {
      "text/plain": [
       "[0, 1, 2, 3, 4, 5, 6, 7, 8, 9, 10, 11, 12, 13, 14, 15, 16, 17, 18, 19]"
      ]
     },
     "execution_count": 6,
     "metadata": {},
     "output_type": "execute_result"
    }
   ],
   "source": [
    "new_list1"
   ]
  },
  {
   "cell_type": "code",
   "execution_count": 7,
   "id": "b824ee42",
   "metadata": {},
   "outputs": [
    {
     "name": "stdout",
     "output_type": "stream",
     "text": [
      "[1, 2, 3, 4, 5, 6, 7, 8, 9, 10, 11, 12, 13, 14, 15, 16, 17, 18, 19, 20]\n"
     ]
    }
   ],
   "source": [
    "# Without List Comprehension:\n",
    "\n",
    "new_list2 = []\n",
    "\n",
    "for x in range(20):\n",
    "    new_list2.append(x+1)\n",
    "\n",
    "print(new_list2)"
   ]
  },
  {
   "cell_type": "code",
   "execution_count": 8,
   "id": "456a016b",
   "metadata": {},
   "outputs": [],
   "source": [
    "# With List Comprehension:\n",
    "\n",
    "new_list3 = [(x+1) for x in range(20)]"
   ]
  },
  {
   "cell_type": "code",
   "execution_count": 9,
   "id": "02ed49fa",
   "metadata": {},
   "outputs": [
    {
     "data": {
      "text/plain": [
       "[1, 2, 3, 4, 5, 6, 7, 8, 9, 10, 11, 12, 13, 14, 15, 16, 17, 18, 19, 20]"
      ]
     },
     "execution_count": 9,
     "metadata": {},
     "output_type": "execute_result"
    }
   ],
   "source": [
    "new_list3"
   ]
  },
  {
   "cell_type": "code",
   "execution_count": 10,
   "id": "2eba1ecc",
   "metadata": {},
   "outputs": [
    {
     "name": "stdout",
     "output_type": "stream",
     "text": [
      "[0, 2, 4, 6, 8, 10, 12, 14, 16, 18]\n"
     ]
    }
   ],
   "source": [
    "# Without List Comprehension (Conditional)\n",
    "\n",
    "new_list = []\n",
    "\n",
    "for x in range(20):\n",
    "    if x%2 == 0:\n",
    "        new_list.append(x)\n",
    "        \n",
    "print(new_list)"
   ]
  },
  {
   "cell_type": "code",
   "execution_count": 11,
   "id": "6f71094b",
   "metadata": {},
   "outputs": [],
   "source": [
    "# With List Comprehension (Conditional)\n",
    "\n",
    "new_list = [x for x in range(20) if x%2 == 0]"
   ]
  },
  {
   "cell_type": "code",
   "execution_count": 12,
   "id": "918c096d",
   "metadata": {},
   "outputs": [
    {
     "data": {
      "text/plain": [
       "[0, 2, 4, 6, 8, 10, 12, 14, 16, 18]"
      ]
     },
     "execution_count": 12,
     "metadata": {},
     "output_type": "execute_result"
    }
   ],
   "source": [
    "new_list"
   ]
  },
  {
   "cell_type": "code",
   "execution_count": 13,
   "id": "2edb81b3",
   "metadata": {},
   "outputs": [
    {
     "name": "stdout",
     "output_type": "stream",
     "text": [
      "[0, 6, 12, 18]\n"
     ]
    }
   ],
   "source": [
    "# Without List Comprehension ( nested if)\n",
    "\n",
    "new_l1 = []\n",
    "\n",
    "for x in range(20):\n",
    "    if x%2 == 0:\n",
    "        if x%3 == 0:\n",
    "            new_l1.append(x)\n",
    "\n",
    "print(new_l1)"
   ]
  },
  {
   "cell_type": "code",
   "execution_count": 14,
   "id": "d462329a",
   "metadata": {},
   "outputs": [],
   "source": [
    "# With List Comprehension ( nested if )\n",
    "new_l1 = [x for x in range(20) if x%2 == 0 if x%3 == 0]"
   ]
  },
  {
   "cell_type": "code",
   "execution_count": 15,
   "id": "448e161e",
   "metadata": {},
   "outputs": [
    {
     "data": {
      "text/plain": [
       "[0, 6, 12, 18]"
      ]
     },
     "execution_count": 15,
     "metadata": {},
     "output_type": "execute_result"
    }
   ],
   "source": [
    "new_l1"
   ]
  },
  {
   "cell_type": "code",
   "execution_count": 29,
   "id": "83f6f4ce",
   "metadata": {},
   "outputs": [
    {
     "name": "stdout",
     "output_type": "stream",
     "text": [
      "[0, 'odd number', 2, 'odd number', 4, 'odd number', 6, 'odd number', 8, 'odd number', 10, 'odd number', 12, 'odd number', 14, 'odd number', 16, 'odd number', 18, 'odd number', 20, 'odd number', 22, 'odd number', 24, 'odd number', 26, 'odd number', 28, 'odd number']\n"
     ]
    }
   ],
   "source": [
    "# With List Comprehension (if else )\n",
    "\n",
    "new_l1 = []\n",
    "\n",
    "for x in range(30):\n",
    "    if x%2 == 0:\n",
    "        new_l1.append(x)\n",
    "    else:\n",
    "        new_l1.append('odd number')      \n",
    "\n",
    "print(new_l1)"
   ]
  },
  {
   "cell_type": "code",
   "execution_count": 33,
   "id": "38233c31",
   "metadata": {},
   "outputs": [],
   "source": [
    "# Without List Comprehension (if else )\n",
    "\n",
    "\n",
    "new_l1 = [x if x%2 == 0 else 'odd number' for x in range(30)]"
   ]
  },
  {
   "cell_type": "code",
   "execution_count": 34,
   "id": "b1cf6bf8",
   "metadata": {},
   "outputs": [
    {
     "data": {
      "text/plain": [
       "[0,\n",
       " 'odd number',\n",
       " 2,\n",
       " 'odd number',\n",
       " 4,\n",
       " 'odd number',\n",
       " 6,\n",
       " 'odd number',\n",
       " 8,\n",
       " 'odd number',\n",
       " 10,\n",
       " 'odd number',\n",
       " 12,\n",
       " 'odd number',\n",
       " 14,\n",
       " 'odd number',\n",
       " 16,\n",
       " 'odd number',\n",
       " 18,\n",
       " 'odd number',\n",
       " 20,\n",
       " 'odd number',\n",
       " 22,\n",
       " 'odd number',\n",
       " 24,\n",
       " 'odd number',\n",
       " 26,\n",
       " 'odd number',\n",
       " 28,\n",
       " 'odd number']"
      ]
     },
     "execution_count": 34,
     "metadata": {},
     "output_type": "execute_result"
    }
   ],
   "source": [
    "new_l1"
   ]
  },
  {
   "cell_type": "code",
   "execution_count": 54,
   "id": "2d59637f",
   "metadata": {},
   "outputs": [],
   "source": [
    "ls1 = [10,0,2,1]\n",
    "ls1.sort()"
   ]
  },
  {
   "cell_type": "code",
   "execution_count": 55,
   "id": "e4ae8963",
   "metadata": {},
   "outputs": [
    {
     "name": "stdout",
     "output_type": "stream",
     "text": [
      "[0, 1, 15, 25, 32, 68, 95, 95, 100]\n"
     ]
    }
   ],
   "source": [
    "ls1 = [1,100,32,95,68,15,0,25,95]\n",
    "\n",
    "\n",
    "for x in ls1:\n",
    "    ls1.sort()\n",
    "\n",
    "print(ls1)\n",
    "    "
   ]
  },
  {
   "cell_type": "code",
   "execution_count": null,
   "id": "112b0c0c",
   "metadata": {},
   "outputs": [],
   "source": []
  },
  {
   "cell_type": "code",
   "execution_count": 56,
   "id": "1269d454",
   "metadata": {},
   "outputs": [],
   "source": [
    "ls2 = [30,20,10,0,31,1,12]\n",
    "ls2.sort()"
   ]
  },
  {
   "cell_type": "code",
   "execution_count": 57,
   "id": "4cfb7245",
   "metadata": {},
   "outputs": [
    {
     "data": {
      "text/plain": [
       "[0, 1, 10, 12, 20, 30, 31]"
      ]
     },
     "execution_count": 57,
     "metadata": {},
     "output_type": "execute_result"
    }
   ],
   "source": [
    "ls2"
   ]
  },
  {
   "cell_type": "code",
   "execution_count": null,
   "id": "957f7525",
   "metadata": {},
   "outputs": [],
   "source": []
  },
  {
   "cell_type": "code",
   "execution_count": 58,
   "id": "516726e9",
   "metadata": {},
   "outputs": [],
   "source": [
    "ls3 = [[10,30,1],[51,5,3]]"
   ]
  },
  {
   "cell_type": "code",
   "execution_count": 60,
   "id": "3db5c56c",
   "metadata": {},
   "outputs": [
    {
     "data": {
      "text/plain": [
       "[10, 30, 1]"
      ]
     },
     "execution_count": 60,
     "metadata": {},
     "output_type": "execute_result"
    }
   ],
   "source": [
    "ls3[0]"
   ]
  },
  {
   "cell_type": "code",
   "execution_count": null,
   "id": "c41725a6",
   "metadata": {},
   "outputs": [],
   "source": []
  },
  {
   "cell_type": "code",
   "execution_count": null,
   "id": "4a09fa56",
   "metadata": {},
   "outputs": [],
   "source": []
  },
  {
   "cell_type": "code",
   "execution_count": null,
   "id": "3a8e37dd",
   "metadata": {},
   "outputs": [],
   "source": [
    "# Write a program to sum all prime numbers within a range 10 to 1000.\n",
    "\n",
    "\n",
    "start = 10\n",
    "end = 1000\n",
    "sum = 0\n",
    "\n",
    "for i in range(start,end+1):\n",
    "    for j in range(2,i):\n",
    "        if (i % j == 0):\n",
    "            break\n",
    "            \n",
    "    else:\n",
    "        sum = sum + i\n",
    "\n",
    "print('The sum is: ',sum)\n",
    "             "
   ]
  },
  {
   "cell_type": "code",
   "execution_count": null,
   "id": "175415e8",
   "metadata": {},
   "outputs": [],
   "source": []
  }
 ],
 "metadata": {
  "kernelspec": {
   "display_name": "Python 3 (ipykernel)",
   "language": "python",
   "name": "python3"
  },
  "language_info": {
   "codemirror_mode": {
    "name": "ipython",
    "version": 3
   },
   "file_extension": ".py",
   "mimetype": "text/x-python",
   "name": "python",
   "nbconvert_exporter": "python",
   "pygments_lexer": "ipython3",
   "version": "3.9.13"
  }
 },
 "nbformat": 4,
 "nbformat_minor": 5
}
